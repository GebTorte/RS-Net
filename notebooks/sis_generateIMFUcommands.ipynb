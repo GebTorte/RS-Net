{
 "cells": [
  {
   "cell_type": "code",
   "execution_count": 1,
   "metadata": {},
   "outputs": [],
   "source": [
    "import os"
   ]
  },
  {
   "cell_type": "code",
   "execution_count": 15,
   "metadata": {},
   "outputs": [],
   "source": [
    "# normal imgs\n",
    "fedora_path = \"/home/sisa/sat-data/MODIS_MOD09GA_GERITAFRA_31day_DEC2023/\"\n",
    "extern_path = \"/mnt/f/Bachelorarbeit/sat-data/modis/MODIS_MOD09GA_GERITAFRA_31day_DEC2023/MOD_RGB_corrected_15percent/\"\n",
    "\n",
    "# predictions\n",
    "extern_prediction_path = \"/mnt/f/Bachelorarbeit/sat-data/modis/MODIS_DEC2023_Predictions_Binary/\"\n",
    "\n",
    "\n",
    "# experiment 2 path\n",
    "extern_MODIS_path =  \"/mnt/f/Bachelorarbeit/sat-data/modis/MODIS_MOD09GA_GERITAFRA_31day_DEC2023/\"\n",
    "\n",
    "path = extern_MODIS_path"
   ]
  },
  {
   "cell_type": "code",
   "execution_count": 16,
   "metadata": {},
   "outputs": [
    {
     "data": {
      "text/plain": [
       "['MOD09GA.A2023360.h18v04.061.2023362134719.hdf',\n",
       " 'MOD09GA.A2023363.h18v04.061.2023365041515.hdf',\n",
       " 'MOD09GA.A2023354.h18v04.061.2023356042206.hdf',\n",
       " 'MOD09GA.A2023361.h18v04.061.2023363043955.hdf',\n",
       " 'MOD09GA.A2023337.h18v04.061.2023339023523.hdf',\n",
       " 'MOD09GA.A2023353.h18v04.061.2023355063849.hdf',\n",
       " 'MOD09GA.A2023356.h18v04.061.2023361000333.hdf',\n",
       " '8377414216-download.sh',\n",
       " 'MOD09GA.A2023362.h18v04.061.2023364042452.hdf',\n",
       " 'MOD09GA.A2023341.h18v04.061.2023343024753.hdf',\n",
       " 'MOD09GA.A2023342.h18v04.061.2023344024915.hdf',\n",
       " 'MOD09GA.A2023352.h18v04.061.2023354042819.hdf',\n",
       " 'MOD09GA.A2023358.h18v04.061.2023360025923.hdf',\n",
       " 'MOD09GA.A2023350.h18v04.061.2023352030330.hdf',\n",
       " 'MOD09GA.A2023364.h18v04.061.2024001025343.hdf',\n",
       " 'MOD09GA.A2023346.h18v04.061.2023348030312.hdf',\n",
       " 'MOD09GA.A2023347.h18v04.061.2023349025736.hdf',\n",
       " 'MOD09GA.A2023365.h18v04.061.2024004181336.hdf',\n",
       " 'MOD09GA.A2023336.h18v04.061.2023338023416.hdf',\n",
       " 'MOD09GA.A2023348.h18v04.061.2023350024202.hdf',\n",
       " 'MOD09GA.A2023345.h18v04.061.2023347025532.hdf',\n",
       " 'MOD09GA.A2023351.h18v04.061.2023353030525.hdf',\n",
       " 'MOD09GA.A2023335.h18v04.061.2023340033530.hdf',\n",
       " 'MOD09GA.A2023344.h18v04.061.2023346030519.hdf',\n",
       " 'MOD09GA.A2023355.h18v04.061.2023357031321.hdf',\n",
       " 'MOD09GA.A2023357.h18v04.061.2023359024858.hdf',\n",
       " 'MOD09GA.A2023340.h18v04.061.2023342030232.hdf',\n",
       " 'MOD09GA.A2023338.h18v04.061.2023340034455.hdf',\n",
       " 'MOD09GA.A2023339.h18v04.061.2023341041457.hdf',\n",
       " 'MOD09GA.A2023343.h18v04.061.2023345024918.hdf',\n",
       " 'MOD09GA.A2023349.h18v04.061.2023351023935.hdf',\n",
       " 'MOD09GA.A2023359.h18v04.061.2023361050233.hdf',\n",
       " 'experiment1',\n",
       " 'MOD_RGB_corrected_15percent',\n",
       " 'experiment2',\n",
       " 'MODIS_DEC2023_Predictions_Binary']"
      ]
     },
     "execution_count": 16,
     "metadata": {},
     "output_type": "execute_result"
    }
   ],
   "source": [
    "files = os.listdir(path)#\n",
    "files"
   ]
  },
  {
   "cell_type": "code",
   "execution_count": 37,
   "metadata": {},
   "outputs": [],
   "source": [
    "hdf_files = sorted([f for f in files if f[-4:] == \".hdf\"])\n"
   ]
  },
  {
   "cell_type": "markdown",
   "metadata": {},
   "source": [
    "## Definitionen"
   ]
  },
  {
   "cell_type": "code",
   "execution_count": 83,
   "metadata": {},
   "outputs": [],
   "source": [
    "def generate_ql_modis_commands(folder=\"../MODIS_DEC2023_Predictions_Binary\", filename=\"\", suffix=\"\", extension=\".tiff\", date=1):\n",
    "    \"\"\"\n",
    "    filename like   MOD09GA.A2023335.h18v04.061.2023340033530\n",
    "    suffix like     _merged_2400_binary_M1_x_prediction_bin_mask\n",
    "    extensions like .tiff\n",
    "    date start counting at 1!\n",
    "    \"\"\"\n",
    "    ql_modis_template = f\"--ql-modis=(--file {folder}{filename}{suffix}{extension} --date {date})\"\n",
    "    return ql_modis_template\n"
   ]
  },
  {
   "cell_type": "code",
   "execution_count": 91,
   "metadata": {},
   "outputs": [],
   "source": [
    "def generate_ql_img_commands(folder=\"../MODIS_DEC2023_Predictions_Binary/\", filename=\"\", suffix=\"\", extension=\".tiff\", date=1):\n",
    "    \"\"\"\n",
    "    filename like   MOD09GA.A2023335.h18v04.061.2023340033530\n",
    "    suffix like     _merged_2400_binary_M1_x_prediction_bin_mask\n",
    "    extensions like .tiff\n",
    "    date start counting at 1!\n",
    "    \"\"\"\n",
    "    ql_img_template = f\"--ql-img=(--file {folder}{filename}{suffix}{extension} --date {date} --interp-ranges=[1,1] --non-interp-ranges=[0,0])\"\n",
    "    return ql_img_template"
   ]
  },
  {
   "cell_type": "code",
   "execution_count": 100,
   "metadata": {},
   "outputs": [],
   "source": [
    "def generate_modis_hdf_commands(folder=\"../\", filename=\"\", layers=(11,12,13,14,15,16,17), date=1, extension=\".hdf\", suffix=\"\"):\n",
    "    \"\"\"\n",
    "    filename like   MOD09GA.A2023335.h18v04.061.2023340033530\n",
    "    extensions like .hdf\n",
    "    date start counting at 1!\n",
    "    \"\"\"\n",
    "    layer_string = \"(\"\n",
    "    for layer in layers:\n",
    "        layer_string += str(layer) + \" \"\n",
    "    layer_string += \")\"\n",
    "\n",
    "    modis_hdf_template = f\"--img=(--file {folder}{filename}{suffix}{extension} -l {layer_string} --date {date})\"\n",
    "    return modis_hdf_template"
   ]
  },
  {
   "cell_type": "markdown",
   "metadata": {},
   "source": [
    "## Generierung"
   ]
  },
  {
   "cell_type": "code",
   "execution_count": 101,
   "metadata": {},
   "outputs": [],
   "source": [
    "# definieren der tage\n",
    "start = 6\n",
    "stop  = 19"
   ]
  },
  {
   "cell_type": "code",
   "execution_count": 102,
   "metadata": {},
   "outputs": [],
   "source": [
    "modis_hdf_commands=[]\n",
    "ql_modis_commands=[]\n",
    "original_modis_ql_commands=[]\n",
    "ql_img_commands = []\n",
    "modis_tiff_commands=[]\n",
    "\n",
    "model_suffix= \"_merged_2400_binary_M1_240605215803_prediction_bin_mask\" #  \"_merged_2400_Unet-v2-binary_240526173722_prediction_bin_mask\"\n",
    "original_ql_suffix = \"_state_1km_1_2400\"\n",
    "tiff_suffix=\"_merged_2400\"\n",
    "\n",
    "\n",
    "for i, file in enumerate(hdf_files[start:stop]):\n",
    "    # remember, i has to be ++ed for imfu\n",
    "    #print(i+1, file)\n",
    "    filename = file[:-4]\n",
    "    extension = \".hdf\"\n",
    "    date = i+1\n",
    "\n",
    "    modis_hdf_command=generate_modis_hdf_commands(filename=filename, date=date, extension=extension)\n",
    "    modis_hdf_commands.append(modis_hdf_command)\n",
    "\n",
    "    modis_tiff_command=generate_modis_hdf_commands(filename=filename, extension=\".tiff\", layers=(0,1,2,3,4,5,6), date=date, suffix=tiff_suffix)\n",
    "    modis_tiff_commands.append(modis_tiff_command)\n",
    "    # quality layers\n",
    "    ql_modis_command = generate_ql_modis_commands(filename=filename, suffix=model_suffix, date=date)\n",
    "    ql_modis_commands.append(ql_modis_command)\n",
    "\n",
    "    original_ql_modis_command = generate_ql_modis_commands(folder=\"../\",filename=filename, suffix=original_ql_suffix, date=date)\n",
    "    original_modis_ql_commands.append(original_ql_modis_command)\n",
    "\n",
    "    ql_img_command = generate_ql_img_commands(filename=filename, suffix=model_suffix, date=date)\n",
    "    ql_img_commands.append(ql_img_command)"
   ]
  },
  {
   "cell_type": "code",
   "execution_count": 103,
   "metadata": {},
   "outputs": [
    {
     "name": "stdout",
     "output_type": "stream",
     "text": [
      "--img=(--file ../MOD09GA.A2023341.h18v04.061.2023343024753.hdf -l (11 12 13 14 15 16 17 ) --date 1)\n",
      "--img=(--file ../MOD09GA.A2023342.h18v04.061.2023344024915.hdf -l (11 12 13 14 15 16 17 ) --date 2)\n",
      "--img=(--file ../MOD09GA.A2023343.h18v04.061.2023345024918.hdf -l (11 12 13 14 15 16 17 ) --date 3)\n",
      "--img=(--file ../MOD09GA.A2023344.h18v04.061.2023346030519.hdf -l (11 12 13 14 15 16 17 ) --date 4)\n",
      "--img=(--file ../MOD09GA.A2023345.h18v04.061.2023347025532.hdf -l (11 12 13 14 15 16 17 ) --date 5)\n",
      "--img=(--file ../MOD09GA.A2023346.h18v04.061.2023348030312.hdf -l (11 12 13 14 15 16 17 ) --date 6)\n",
      "--img=(--file ../MOD09GA.A2023347.h18v04.061.2023349025736.hdf -l (11 12 13 14 15 16 17 ) --date 7)\n",
      "--img=(--file ../MOD09GA.A2023348.h18v04.061.2023350024202.hdf -l (11 12 13 14 15 16 17 ) --date 8)\n",
      "--img=(--file ../MOD09GA.A2023349.h18v04.061.2023351023935.hdf -l (11 12 13 14 15 16 17 ) --date 9)\n",
      "--img=(--file ../MOD09GA.A2023350.h18v04.061.2023352030330.hdf -l (11 12 13 14 15 16 17 ) --date 10)\n",
      "--img=(--file ../MOD09GA.A2023351.h18v04.061.2023353030525.hdf -l (11 12 13 14 15 16 17 ) --date 11)\n",
      "--img=(--file ../MOD09GA.A2023352.h18v04.061.2023354042819.hdf -l (11 12 13 14 15 16 17 ) --date 12)\n",
      "--img=(--file ../MOD09GA.A2023353.h18v04.061.2023355063849.hdf -l (11 12 13 14 15 16 17 ) --date 13)\n"
     ]
    }
   ],
   "source": [
    "# print commands you want listed\n",
    "for c in modis_hdf_commands:\n",
    "    print(c)"
   ]
  },
  {
   "cell_type": "code",
   "execution_count": null,
   "metadata": {},
   "outputs": [],
   "source": []
  }
 ],
 "metadata": {
  "kernelspec": {
   "display_name": "sat-imaging",
   "language": "python",
   "name": "python3"
  },
  "language_info": {
   "codemirror_mode": {
    "name": "ipython",
    "version": 3
   },
   "file_extension": ".py",
   "mimetype": "text/x-python",
   "name": "python",
   "nbconvert_exporter": "python",
   "pygments_lexer": "ipython3",
   "version": "3.9.18"
  }
 },
 "nbformat": 4,
 "nbformat_minor": 2
}
