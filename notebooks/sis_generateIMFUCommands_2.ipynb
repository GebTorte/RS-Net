{
 "cells": [
  {
   "cell_type": "code",
   "execution_count": 51,
   "metadata": {},
   "outputs": [],
   "source": [
    "import os"
   ]
  },
  {
   "cell_type": "markdown",
   "metadata": {},
   "source": [
    "## imgcompare opts file generation"
   ]
  },
  {
   "cell_type": "code",
   "execution_count": 52,
   "metadata": {},
   "outputs": [],
   "source": [
    "exp1 = \"6.1\"\n",
    "exp1_postfix = \"_above_mod-hdf_ql-mod_days-7-20_interpolated_\"\n",
    "\n",
    "exp2 = \"6.2\"\n",
    "exp2_postfix = \"_above_mod-hdf_ql-mod_days-7-20_limit-days-3_interpolated_\"\n",
    "\n",
    "compared_experiments = f\"{exp1}-{exp2}\"\n",
    "folder_exp = \"experiment2\""
   ]
  },
  {
   "cell_type": "code",
   "execution_count": 53,
   "metadata": {},
   "outputs": [],
   "source": [
    "\n",
    "path = f\"/home/builder/sat-data/modis/MODIS_MOD09GA_GERITAFRA_31day_DEC2023/{folder_exp}/\""
   ]
  },
  {
   "cell_type": "markdown",
   "metadata": {},
   "source": [
    "#### multiple"
   ]
  },
  {
   "cell_type": "code",
   "execution_count": 54,
   "metadata": {},
   "outputs": [],
   "source": [
    "days = {\n",
    "0: \"MOD09GA.A2023335.h18v04.061.2023340033530.hdf\",\n",
    "1: \"MOD09GA.A2023336.h18v04.061.2023338023416.hdf\",\n",
    "2: \"MOD09GA.A2023337.h18v04.061.2023339023523.hdf\",\n",
    "3: \"MOD09GA.A2023338.h18v04.061.2023340034455.hdf\", \n",
    "4: \"MOD09GA.A2023339.h18v04.061.2023341041457.hdf\",\n",
    "5: \"MOD09GA.A2023340.h18v04.061.2023342030232.hdf\",\n",
    "6: \"MOD09GA.A2023341.h18v04.061.2023343024753.hdf\",\n",
    "7: \"MOD09GA.A2023342.h18v04.061.2023344024915.hdf\",\n",
    "8: \"MOD09GA.A2023343.h18v04.061.2023345024918.hdf\",\n",
    "9: \"MOD09GA.A2023344.h18v04.061.2023346030519.hdf\",\n",
    "10: \"MOD09GA.A2023345.h18v04.061.2023347025532.hdf\",\n",
    "11: \"MOD09GA.A2023346.h18v04.061.2023348030312.hdf\",\n",
    "12: \"MOD09GA.A2023347.h18v04.061.2023349025736.hdf\",\n",
    "13: \"MOD09GA.A2023348.h18v04.061.2023350024202.hdf\",\n",
    "14: \"MOD09GA.A2023349.h18v04.061.2023351023935.hdf\",\n",
    "15: \"MOD09GA.A2023350.h18v04.061.2023352030330.hdf\",\n",
    "16: \"MOD09GA.A2023351.h18v04.061.2023353030525.hdf\",\n",
    "17: \"MOD09GA.A2023352.h18v04.061.2023354042819.hdf\",\n",
    "18: \"MOD09GA.A2023353.h18v04.061.2023355063849.hdf\",\n",
    "19: \"MOD09GA.A2023354.h18v04.061.2023356042206.hdf\",\n",
    "20: \"MOD09GA.A2023355.h18v04.061.2023357031321.hdf\",\n",
    "21: \"MOD09GA.A2023356.h18v04.061.2023361000333.hdf\",\n",
    "22: \"MOD09GA.A2023357.h18v04.061.2023359024858.hdf\",\n",
    "23: \"MOD09GA.A2023358.h18v04.061.2023360025923.hdf\",\n",
    "24: \"MOD09GA.A2023359.h18v04.061.2023361050233.hdf\",\n",
    "25: \"MOD09GA.A2023360.h18v04.061.2023362134719.hdf\",\n",
    "26: \"MOD09GA.A2023361.h18v04.061.2023363043955.hdf\",\n",
    "27: \"MOD09GA.A2023362.h18v04.061.2023364042452.hdf\",\n",
    "28: \"MOD09GA.A2023363.h18v04.061.2023365041515.hdf\",\n",
    "29: \"MOD09GA.A2023364.h18v04.061.2024001025343.hdf\",\n",
    "30: \"MOD09GA.A2023365.h18v04.061.2024004181336.hdf\"\n",
    "}"
   ]
  },
  {
   "cell_type": "code",
   "execution_count": 55,
   "metadata": {},
   "outputs": [],
   "source": [
    "days = {# maybe loop over days and generate .txt files \n",
    "6: \"MOD09GA.A2023341.h18v04.061.2023343024753.hdf\",\n",
    "7: \"MOD09GA.A2023342.h18v04.061.2023344024915.hdf\",\n",
    "8: \"MOD09GA.A2023343.h18v04.061.2023345024918.hdf\",\n",
    "9: \"MOD09GA.A2023344.h18v04.061.2023346030519.hdf\",\n",
    "10: \"MOD09GA.A2023345.h18v04.061.2023347025532.hdf\",\n",
    "11: \"MOD09GA.A2023346.h18v04.061.2023348030312.hdf\",\n",
    "12: \"MOD09GA.A2023347.h18v04.061.2023349025736.hdf\",\n",
    "13: \"MOD09GA.A2023348.h18v04.061.2023350024202.hdf\",\n",
    "14: \"MOD09GA.A2023349.h18v04.061.2023351023935.hdf\",\n",
    "15: \"MOD09GA.A2023350.h18v04.061.2023352030330.hdf\",\n",
    "16: \"MOD09GA.A2023351.h18v04.061.2023353030525.hdf\",\n",
    "17: \"MOD09GA.A2023352.h18v04.061.2023354042819.hdf\",\n",
    "18: \"MOD09GA.A2023353.h18v04.061.2023355063849.hdf\"} "
   ]
  },
  {
   "cell_type": "code",
   "execution_count": 57,
   "metadata": {},
   "outputs": [],
   "source": [
    "autorun = True # if this is true, loop will call imgcompare directly"
   ]
  },
  {
   "cell_type": "code",
   "execution_count": 61,
   "metadata": {},
   "outputs": [
    {
     "name": "stdout",
     "output_type": "stream",
     "text": [
      "mkdir: cannot create directory ‘/home/builder/sat-data/modis/MODIS_MOD09GA_GERITAFRA_31day_DEC2023/experiment2/MOD09GA.A2023341.h18v04.061.2023343024753’: File exists\n",
      "mkdir: cannot create directory ‘/home/builder/sat-data/modis/MODIS_MOD09GA_GERITAFRA_31day_DEC2023/experiment2/MOD09GA.A2023342.h18v04.061.2023344024915’: File exists\n",
      "mkdir: cannot create directory ‘/home/builder/sat-data/modis/MODIS_MOD09GA_GERITAFRA_31day_DEC2023/experiment2/MOD09GA.A2023343.h18v04.061.2023345024918’: File exists\n",
      "mkdir: cannot create directory ‘/home/builder/sat-data/modis/MODIS_MOD09GA_GERITAFRA_31day_DEC2023/experiment2/MOD09GA.A2023344.h18v04.061.2023346030519’: File exists\n",
      "mkdir: cannot create directory ‘/home/builder/sat-data/modis/MODIS_MOD09GA_GERITAFRA_31day_DEC2023/experiment2/MOD09GA.A2023345.h18v04.061.2023347025532’: File exists\n",
      "mkdir: cannot create directory ‘/home/builder/sat-data/modis/MODIS_MOD09GA_GERITAFRA_31day_DEC2023/experiment2/MOD09GA.A2023346.h18v04.061.2023348030312’: File exists\n",
      "mkdir: cannot create directory ‘/home/builder/sat-data/modis/MODIS_MOD09GA_GERITAFRA_31day_DEC2023/experiment2/MOD09GA.A2023347.h18v04.061.2023349025736’: File exists\n",
      "mkdir: cannot create directory ‘/home/builder/sat-data/modis/MODIS_MOD09GA_GERITAFRA_31day_DEC2023/experiment2/MOD09GA.A2023348.h18v04.061.2023350024202’: File exists\n",
      "mkdir: cannot create directory ‘/home/builder/sat-data/modis/MODIS_MOD09GA_GERITAFRA_31day_DEC2023/experiment2/MOD09GA.A2023349.h18v04.061.2023351023935’: File exists\n",
      "mkdir: cannot create directory ‘/home/builder/sat-data/modis/MODIS_MOD09GA_GERITAFRA_31day_DEC2023/experiment2/MOD09GA.A2023350.h18v04.061.2023352030330’: File exists\n",
      "mkdir: cannot create directory ‘/home/builder/sat-data/modis/MODIS_MOD09GA_GERITAFRA_31day_DEC2023/experiment2/MOD09GA.A2023351.h18v04.061.2023353030525’: File exists\n",
      "mkdir: cannot create directory ‘/home/builder/sat-data/modis/MODIS_MOD09GA_GERITAFRA_31day_DEC2023/experiment2/MOD09GA.A2023352.h18v04.061.2023354042819’: File exists\n",
      "mkdir: cannot create directory ‘/home/builder/sat-data/modis/MODIS_MOD09GA_GERITAFRA_31day_DEC2023/experiment2/MOD09GA.A2023353.h18v04.061.2023355063849’: File exists\n"
     ]
    }
   ],
   "source": [
    "for i, day in days.items():\n",
    "    day = day[:-4]\n",
    "    txt_filename = f\"imgcomp-opts-{compared_experiments}-{day}.txt\"\n",
    "    txt = f\"\"\"#Imgcompare options file for {day} day.\n",
    "# to save channel stats, run with this command in experiment folder:\n",
    "# > imgcompare --options-file=imgcomp-opts-6.1-6.2-{day}.txt > ./{day}/outs.txt\n",
    "# else:\n",
    "# # > imgcompare --options-file=imgcomp-opts-6.1-6.2-{day}.txt\n",
    "    \n",
    "# Note: imginterp output has to be cast to signed integer before input into imgcompare...\n",
    "\n",
    "--img=(--file {path}exp_{exp1}{exp1_postfix}{day}_int16.tif)\n",
    "--img=(--file {path}exp_{exp2}{exp2_postfix}{day}_int16.tif)\n",
    "\n",
    "--out-diff-scaled={path}{day}/diff-scaled_{compared_experiments}.tif\n",
    "--out-diff-bin={path}{day}/diff-bin_{compared_experiments}.tif\n",
    "--out-diff={path}{day}/diff_{compared_experiments}.tif\n",
    "\n",
    "#--out-scatter={path}{day}/scatter_{compared_experiments}.tif\n",
    "\n",
    "#--out-hist-diff={path}{day}/hist_diff_{compared_experiments}.tif\n",
    "#--out-hist-both={path}{day}/hist_both_{compared_experiments}.tif\n",
    "#--out-hist-first={path}{day}/hist_first_{compared_experiments}.tif\n",
    "#--out-hist-second={path}{day}/hist_second_{compared_experiments}.tif\n",
    "\"\"\"\n",
    "    ! mkdir {path}{day}\n",
    "    #! rm {path}{txt_filename}\n",
    "    ! touch {path}{txt_filename}\n",
    "    ! echo \"{txt}\" > {path}{txt_filename} # echo overwrite contents with >, >> for appending\n",
    "\n",
    "    if autorun:\n",
    "        ! imgcompare --options-file={path}imgcomp-opts-6.1-6.2-{day}.txt > {path}{day}/outs.txt\n"
   ]
  },
  {
   "cell_type": "markdown",
   "metadata": {},
   "source": [
    "#### single"
   ]
  },
  {
   "cell_type": "code",
   "execution_count": null,
   "metadata": {},
   "outputs": [],
   "source": [
    "txt_filename = f\"imgcomp-opts-{compared_experiments}-{day}.txt\"\n",
    "day = \"MOD09GA.A2023341.h18v04.061.2023343024753\""
   ]
  },
  {
   "cell_type": "code",
   "execution_count": 33,
   "metadata": {},
   "outputs": [],
   "source": [
    "txt = f\"\"\"#Imgcompare options file for {day} day.\n",
    "# to save channel stats, run with this command in experiment folder:\n",
    "# > imgcompare --options-file=imgcomp-opts-6.1-6.2-{day}.txt >> ./{day}/outs.txt\n",
    "# else:\n",
    "# # > imgcompare --options-file=imgcomp-opts-6.1-6.2-{day}.txt\n",
    "\n",
    "# Note: imginterp output has to be cast to signed integer before input into imgcompare...\n",
    "\n",
    "--img=(--file exp_{exp1}{exp1_postfix}{day}_int16.tif)\n",
    "--img=(--file exp_{exp2}{exp2_postfix}{day}_int16.tif)\n",
    "\n",
    "--out-diff-scaled={day}/diff-scaled_{compared_experiments}.tif\n",
    "--out-diff-bin={day}/diff-bin_{compared_experiments}.tif\n",
    "--out-diff={day}/diff_{compared_experiments}.tif\n",
    "\n",
    "#--out-scatter={day}/scatter_{compared_experiments}.tif\n",
    "\n",
    "#--out-hist-diff={day}/hist_diff_{compared_experiments}.tif\n",
    "#--out-hist-both={day}/hist_both_{compared_experiments}.tif\n",
    "#--out-hist-first={day}/hist_first_{compared_experiments}.tif\n",
    "#--out-hist-second={day}/hist_second_{compared_experiments}.tif\n",
    "\"\"\""
   ]
  },
  {
   "cell_type": "code",
   "execution_count": null,
   "metadata": {},
   "outputs": [],
   "source": [
    "txt = f\"\"\"#Imgcompare options file for {day} day.\n",
    "# to save channel stats, run with this command in experiment folder:\n",
    "# > imgcompare --options-file=imgcomp-opts-6.1-6.2-{day}.txt >> ./{day}/outs.txt\n",
    "# else:\n",
    "# # > imgcompare --options-file=imgcomp-opts-6.1-6.2-{day}.txt\n",
    "\n",
    "# Note: imginterp output has to be cast to signed integer before input into imgcompare...\n",
    "\n",
    "--img=(--file {path}exp_{exp1}{exp1_postfix}{day}_int16.tif)\n",
    "--img=(--file {path}exp_{exp2}{exp2_postfix}{day}_int16.tif)\n",
    "\n",
    "--out-diff-scaled={path}{day}/diff-scaled_{compared_experiments}.tif\n",
    "--out-diff-bin={path}{day}/diff-bin_{compared_experiments}.tif\n",
    "--out-diff={path}{day}/diff_{compared_experiments}.tif\n",
    "\n",
    "#--out-scatter={path}{day}/scatter_{compared_experiments}.tif\n",
    "\n",
    "#--out-hist-diff={path}{day}/hist_diff_{compared_experiments}.tif /.csv\n",
    "#--out-hist-both={path}{day}/hist_both_{compared_experiments}.tif /.csv\n",
    "#--out-hist-first={path}{day}/hist_first_{compared_experiments}.tif /.csv\n",
    "#--out-hist-second={path}{day}/hist_second_{compared_experiments}.tif /.csv\n",
    "\"\"\"\n"
   ]
  },
  {
   "cell_type": "code",
   "execution_count": 34,
   "metadata": {},
   "outputs": [
    {
     "name": "stdout",
     "output_type": "stream",
     "text": [
      "Imgcompare options file for MOD09GA.A2023341.h18v04.061.2023343024753 day.\n",
      "\n",
      "# Note: imginterp output has to be cast to signed integer before input into imgcompare...\n",
      "\n",
      "--img=(--file exp_6.1_above_mod-hdf_ql-mod_days-7-20_interpolated_MOD09GA.A2023341.h18v04.061.2023343024753_int16.tif)\n",
      "--img=(--file exp_6.2_above_mod-hdf_ql-mod_days-7-20_limit-days-3_interpolated_MOD09GA.A2023341.h18v04.061.2023343024753_int16.tif)\n",
      "\n",
      "--out-diff-scaled=MOD09GA.A2023341.h18v04.061.2023343024753/diff-scaled_6.1-6.2.tif\n",
      "--out-diff-bin=MOD09GA.A2023341.h18v04.061.2023343024753/diff-bin_6.1-6.2.tif\n",
      "--out-diff=MOD09GA.A2023341.h18v04.061.2023343024753/diff_6.1-6.2.tif\n",
      "\n",
      "#--out-scatter=MOD09GA.A2023341.h18v04.061.2023343024753/scatter_6.1-6.2.tif\n",
      "\n",
      "#--out-hist-diff=MOD09GA.A2023341.h18v04.061.2023343024753/hist_diff_6.1-6.2.tif\n",
      "#--out-hist-both=MOD09GA.A2023341.h18v04.061.2023343024753/hist_both_6.1-6.2.tif\n",
      "#--out-hist-first=MOD09GA.A2023341.h18v04.061.2023343024753/hist_first_6.1-6.2.tif\n",
      "#--out-hist-second=MOD09GA.A2023341.h18v04.061.2023343024753/hist_second_6.1-6.2.tif\n",
      "\n"
     ]
    }
   ],
   "source": [
    "print(txt)"
   ]
  },
  {
   "cell_type": "code",
   "execution_count": 36,
   "metadata": {},
   "outputs": [],
   "source": [
    "! touch {path}{txt_filename}"
   ]
  },
  {
   "cell_type": "code",
   "execution_count": 37,
   "metadata": {},
   "outputs": [],
   "source": [
    "! echo \"{txt}\" > {path}{txt_filename}"
   ]
  },
  {
   "cell_type": "code",
   "execution_count": null,
   "metadata": {},
   "outputs": [],
   "source": [
    "# optional run\n",
    "! "
   ]
  }
 ],
 "metadata": {
  "kernelspec": {
   "display_name": ".venv",
   "language": "python",
   "name": "python3"
  },
  "language_info": {
   "codemirror_mode": {
    "name": "ipython",
    "version": 3
   },
   "file_extension": ".py",
   "mimetype": "text/x-python",
   "name": "python",
   "nbconvert_exporter": "python",
   "pygments_lexer": "ipython3",
   "version": "3.10.12"
  }
 },
 "nbformat": 4,
 "nbformat_minor": 2
}
