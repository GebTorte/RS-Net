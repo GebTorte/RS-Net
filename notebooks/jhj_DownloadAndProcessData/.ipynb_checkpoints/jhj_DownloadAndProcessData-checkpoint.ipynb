{
 "cells": [
  {
   "cell_type": "code",
   "execution_count": 1,
   "metadata": {},
   "outputs": [],
   "source": [
    "import sentinelsat\n",
    "import zipfile\n",
    "import json\n",
    "import numpy as np\n",
    "import os\n",
    "import inspect\n",
    "import time\n",
    "from multiprocessing.pool import ThreadPool\n",
    "from datetime import datetime"
   ]
  },
  {
   "cell_type": "code",
   "execution_count": 2,
   "metadata": {},
   "outputs": [
    {
     "name": "stdout",
     "output_type": "stream",
     "text": [
      "\"S2A_MSIL1C_20170702T104021_N0205_R008_T32VNH_20170702T104252\"\n",
      "\"S2A_MSIL2A_20170619T103021_N0205_R108_T32VNH_20170619T103021\"\n",
      "\"S2A_MSIL1C_20170619T103021_N0205_R108_T32VNH_20170619T103021\"\n",
      "\"S2A_MSIL1C_20170602T104021_N0205_R008_T32VNH_20170602T104212\"\n",
      "\"S2A_MSIL2A_20170523T104031_N0205_R008_T32VNH_20170523T104025\"\n",
      "\"S2A_MSIL1C_20170523T104031_N0205_R008_T32VNH_20170523T104025\"\n",
      "\"S2A_MSIL1C_20170513T104031_N0205_R008_T32VNH_20170513T104249\"\n"
     ]
    }
   ],
   "source": [
    "from sentinelsat import SentinelAPI, read_geojson, geojson_to_wkt\n",
    "\n",
    "# Should have been implemented with pandas dataframes instead!\n",
    "# If you want to download several tiles, look at code at http://sentinelsat.readthedocs.io/en/stable/api.html\n",
    "\n",
    "# Search for products\n",
    "api = SentinelAPI('JacobJeppesen', 'sentinel') \n",
    "footprint = geojson_to_wkt(read_geojson('map.geojson'))\n",
    "products = api.query(footprint,\n",
    "                     date = ('20170505', '20170703'),\n",
    "                     platformname = 'Sentinel-2',\n",
    "                     cloudcoverpercentage = (0, 70))\n",
    "\n",
    "# Convert to JSON\n",
    "products_json = api.to_geojson(products)\n",
    "\n",
    "# Print the title of all products\n",
    "for n in range(0, np.size(products_json[\"features\"])): \n",
    "    # json.dumps is very nice if you want to print more than just the title\n",
    "    print(json.dumps(products_json[\"features\"][n][\"properties\"][\"title\"], indent=1))\n",
    "    \n",
    "# If you had an issue with a specific product, write the ID here to re-download and process:\n",
    "#products_json[\"features\"][n][\"properties\"][\"id\"] = \"S2A_MSIL1C_20170321T103011_N0204_R108_T32VNH_20170321T103014\""
   ]
  },
  {
   "cell_type": "code",
   "execution_count": 3,
   "metadata": {},
   "outputs": [
    {
     "name": "stdout",
     "output_type": "stream",
     "text": [
      "\"S2A_MSIL1C_20170702T104021_N0205_R008_T32VNH_20170702T104252\"\n",
      "\"S2A_MSIL2A_20170619T103021_N0205_R108_T32VNH_20170619T103021\"\n",
      "\"S2A_MSIL1C_20170602T104021_N0205_R008_T32VNH_20170602T104212\"\n",
      "\"S2A_MSIL2A_20170523T104031_N0205_R008_T32VNH_20170523T104025\"\n",
      "\"S2A_MSIL1C_20170513T104031_N0205_R008_T32VNH_20170513T104249\"\n"
     ]
    }
   ],
   "source": [
    "# Remove L1C products where L2A already exists\n",
    "# NOTE: Poorly implemented! Only works if their indexing does not change, and must only be run once! Don't judge.\n",
    "for n in range(0, np.size(products_json[\"features\"])):\n",
    "    try:\n",
    "        if 'L2A' in products_json[\"features\"][n][\"properties\"][\"title\"]:                \n",
    "            del products_json[\"features\"][n+1] # Because the L1C product is indexed right after the L2A product\n",
    "        else:\n",
    "            pass\n",
    "    \n",
    "    except:\n",
    "        #NOTE: THIS FUNCTION WILL ALWAYS RAISE ERROR - IT GOES OF OUT BOUNDS BECAUSE IT DELETES ELEMENTS INSIDE THE LOOP\n",
    "        #print(\"ERROR - but moving on\")\n",
    "        pass\n",
    "\n",
    "for n in range(0, np.size(products_json[\"features\"])): \n",
    "    # json.dumps is very nice if you want to print more than just the title\n",
    "    print(json.dumps(products_json[\"features\"][n][\"properties\"][\"title\"], indent=1))"
   ]
  },
  {
   "cell_type": "code",
   "execution_count": 12,
   "metadata": {
    "scrolled": true
   },
   "outputs": [
    {
     "name": "stderr",
     "output_type": "stream",
     "text": [
      "\r",
      "Downloading:   0%|          | 0.00/845M [00:00<?, ?B/s]"
     ]
    },
    {
     "name": "stdout",
     "output_type": "stream",
     "text": [
      "Downloading product no.:Downloading product no.: Downloading product no.:2   13of   ofof5  \n",
      "55\n",
      "\n"
     ]
    },
    {
     "name": "stderr",
     "output_type": "stream",
     "text": [
      "\n",
      "Downloading:   0%|          | 0.00/955M [00:00<?, ?B/s]\u001b[A\n",
      "\u001b[A"
     ]
    },
    {
     "name": "stdout",
     "output_type": "stream",
     "text": [
      "DOWNLOAD ERROR WITH PRODUCT:  0b818680-9651-4f17-ac2e-65aefbcac3be\n",
      "Downloading product no.: 4 of 5\n"
     ]
    },
    {
     "name": "stderr",
     "output_type": "stream",
     "text": [
      "\n",
      "Downloading:   0%|          | 0.00/1.05G [00:00<?, ?B/s]\u001b[A\n",
      "Downloading:   0%|          | 1.05M/845M [00:00<06:50, 2.06MB/s]"
     ]
    },
    {
     "name": "stdout",
     "output_type": "stream",
     "text": [
      "DOWNLOAD ERROR WITH PRODUCT:  3921e1c4-5aac-4cbe-9c42-6ada287d27c9\n",
      "Downloading product no.: 5 of 5\n"
     ]
    },
    {
     "name": "stderr",
     "output_type": "stream",
     "text": [
      "\n",
      "Downloading:   0%|          | 0.00/796M [00:00<?, ?B/s]\u001b[A\n",
      "\u001b[A"
     ]
    },
    {
     "name": "stdout",
     "output_type": "stream",
     "text": [
      "DOWNLOAD ERROR WITH PRODUCT:  ad1fbd1b-3e51-420a-8a40-bf4293188e37\n"
     ]
    },
    {
     "name": "stderr",
     "output_type": "stream",
     "text": [
      "Downloading:   0%|          | 2.10M/845M [00:00<06:35, 2.13MB/s]\n",
      "Downloading:   0%|          | 0.00/782M [00:00<?, ?B/s]\u001b[A\n",
      "Downloading:   0%|          | 3.15M/845M [00:01<06:11, 2.27MB/s]"
     ]
    },
    {
     "name": "stdout",
     "output_type": "stream",
     "text": [
      "DOWNLOAD ERROR WITH PRODUCT:  225a9a84-0330-455e-9d40-f11e76c66f78\n"
     ]
    },
    {
     "name": "stderr",
     "output_type": "stream",
     "text": [
      "Downloading: 100%|██████████| 845M/845M [03:20<00:00, 4.21MB/s] \n",
      "MD5 checksumming: 100%|██████████| 845M/845M [00:01<00:00, 554MB/s] \n"
     ]
    }
   ],
   "source": [
    "def _download_sentinel(n):\n",
    "    try:\n",
    "        print(\"Downloading product no.:\", n + 1, \"of\", np.size(products_json[\"features\"]))\n",
    "        api.download(products_json[\"features\"][n][\"properties\"][\"id\"], directory_path='./zipfiles')\n",
    "        time.sleep(2) # Avoid issues with simultaneous requests to ESA's API\n",
    "        \n",
    "    except:\n",
    "        print(\"DOWNLOAD ERROR WITH PRODUCT: \", products_json[\"features\"][n][\"properties\"][\"id\"])\n",
    "        time.sleep(2) # Avoid issues with simultaneous requests to ESA's API\n",
    "        pass\n",
    "\n",
    "# Time the download and processing\n",
    "startTime = datetime.now()\n",
    "\n",
    "# Count how many products must be downloaded\n",
    "n = np.size(products_json[\"features\"]) \n",
    "\n",
    "# Download\n",
    "pool = ThreadPool(processes=3) # The scihub API allows for 3 simultaneous downloads\n",
    "pool.map(_download_sentinel, (filename for filename in range(n)))\n",
    "pool.close()"
   ]
  },
  {
   "cell_type": "code",
   "execution_count": 14,
   "metadata": {},
   "outputs": [
    {
     "name": "stdout",
     "output_type": "stream",
     "text": [
      "Unzipping product: S2A_MSIL1C_20170702T104021_N0205_R008_T32VNH_20170702T104252.zip\n"
     ]
    }
   ],
   "source": [
    "# Get all file names and filter out .zip files\n",
    "folders = os.listdir(\"zipfiles\")\n",
    "folders = [f for f in folders if '.zip' in f] \n",
    "\n",
    "# Unzip all files and move to L1C or L2A folder\n",
    "for f in folders: \n",
    "    try:      \n",
    "        if 'L1C' in f:\n",
    "            print(\"Unzipping product:\", f)\n",
    "            with zipfile.ZipFile(\"zipfiles/\"+f,\"r\") as zip_ref:            \n",
    "                zip_ref.extractall(\"L1C\") # Extracts to L1C/\n",
    "        elif 'L2A' in f:\n",
    "            print(\"Unzipping product:\", f)\n",
    "            with zipfile.ZipFile(\"zipfiles/\"+f,\"r\") as zip_ref:\n",
    "                zip_ref.extractall(\"L2A\") # Extracts to L2A/\n",
    "                \n",
    "    except:\n",
    "        print(\"UNZIP ERROR WITH PRODUCT:\", f)\n",
    "        pass"
   ]
  },
  {
   "cell_type": "code",
   "execution_count": 15,
   "metadata": {
    "scrolled": true
   },
   "outputs": [
    {
     "name": "stdout",
     "output_type": "stream",
     "text": [
      "\n",
      "Sentinel-2 Level 2A Processor (Sen2Cor), 2.4.0, created: 2017.06.05 started ...\n",
      "no resolution specified, will process all resolutions.\n",
      "Progress[%]: 0.01 : PID-11389, L2A_ProcessTile: processing with resolution 60 m, elapsed time[s]: 0.325\n",
      "Progress[%]: 0.01 : PID-11389, L2A_ProcessTile: start of pre processing, elapsed time[s]: 0.000\n",
      "Progress[%]: 0.01 : PID-11389, L2A_Tables: start import, elapsed time[s]: 0.044\n",
      "Progress[%]: 0.05 : PID-11389, L2A_Tables: band B01 imported, elapsed time[s]: 0.836\n",
      "Progress[%]: 0.85 : PID-11389, L2A_Tables: band B02 imported, elapsed time[s]: 21.298\n",
      "Progress[%]: 1.66 : PID-11389, L2A_Tables: band B03 imported, elapsed time[s]: 21.272\n",
      "Progress[%]: 2.47 : PID-11389, L2A_Tables: band B04 imported, elapsed time[s]: 21.406\n",
      "Progress[%]: 2.71 : PID-11389, L2A_Tables: band B05 imported, elapsed time[s]: 6.329\n",
      "Progress[%]: 2.95 : PID-11389, L2A_Tables: band B06 imported, elapsed time[s]: 6.351\n",
      "Progress[%]: 3.19 : PID-11389, L2A_Tables: band B07 imported, elapsed time[s]: 6.356\n",
      "Progress[%]: 3.43 : PID-11389, L2A_Tables: band B8A imported, elapsed time[s]: 6.331\n",
      "Progress[%]: 3.46 : PID-11389, L2A_Tables: band B09 imported, elapsed time[s]: 0.747\n",
      "Progress[%]: 3.48 : PID-11389, L2A_Tables: band B10 imported, elapsed time[s]: 0.534\n",
      "Progress[%]: 3.71 : PID-11389, L2A_Tables: band B11 imported, elapsed time[s]: 6.280\n",
      "Progress[%]: 3.95 : PID-11389, L2A_Tables: band B12 imported, elapsed time[s]: 6.295\n",
      "Progress[%]: 3.95 : PID-11389, L2A_ProcessTile: start of Scene Classification, elapsed time[s]: 0.001\n",
      "Progress[%]: 3.96 : PID-11389, Pre process   , elapsed time[s]: 0.136\n",
      "Progress[%]: 3.98 : PID-11389, L2A_SC init   , elapsed time[s]: 0.485\n",
      "Progress[%]: 3.98 : PID-11389, L2A_CSND_1_1  , elapsed time[s]: 0.127\n",
      "Progress[%]: 3.99 : PID-11389, L2A_CSND_1_2  , elapsed time[s]: 0.131\n",
      "Progress[%]: 3.99 : PID-11389, L2A_CSND_2_0  , elapsed time[s]: 0.076\n",
      "Progress[%]: 3.99 : PID-11389, L2A_CSND_2_1  , elapsed time[s]: 0.107\n",
      "Progress[%]: 4.00 : PID-11389, L2A_CSND_2_1_2, elapsed time[s]: 0.088\n",
      "Progress[%]: 4.00 : PID-11389, L2A_CSND_2_2  , elapsed time[s]: 0.053\n",
      "Progress[%]: 4.00 : PID-11389, L2A_CSND_2_3  , elapsed time[s]: 0.053\n",
      "Progress[%]: 4.00 : PID-11389, L2A_CSND_2_4  , elapsed time[s]: 0.094\n",
      "Progress[%]: 4.01 : PID-11389, L2A_CSND_2_5  , elapsed time[s]: 0.174\n",
      "Progress[%]: 4.02 : PID-11389, L2A_CSND_3    , elapsed time[s]: 0.179\n",
      "Progress[%]: 4.02 : PID-11389, L2A_CSND_5_1  , elapsed time[s]: 0.136\n",
      "Progress[%]: 4.03 : PID-11389, L2A_CSND_5_2  , elapsed time[s]: 0.257\n",
      "Progress[%]: 4.04 : PID-11389, L2A_CSND_6    , elapsed time[s]: 0.172\n",
      "Progress[%]: 4.04 : PID-11389, L2A_CSND_6_2  , elapsed time[s]: 0.116\n",
      "Progress[%]: 4.05 : PID-11389, L2A_CSND_7    , elapsed time[s]: 0.161\n",
      "Progress[%]: 4.16 : PID-11389, L2A_SHD       , elapsed time[s]: 2.937\n",
      "Progress[%]: 4.17 : PID-11389, DV recovery   , elapsed time[s]: 0.138\n",
      "Progress[%]: 4.17 : PID-11389, WP recovery   , elapsed time[s]: 0.158\n",
      "Progress[%]: 4.18 : PID-11389, Snow recovery , elapsed time[s]: 0.198\n",
      "Progress[%]: 4.18 : PID-11389, Soil recovery , elapsed time[s]: 0.079\n",
      "Progress[%]: 4.24 : PID-11389, Post process  , elapsed time[s]: 1.504\n",
      "Progress[%]: 4.24 : PID-11389, L2A_ProcessTile: start of Atmospheric Correction, elapsed time[s]: 0.000\n",
      "Progress[%]: 4.24 : PID-11389, L2A_AtmCorr: end of calculation terrain maps, elapsed time[s]: 0.125\n",
      "Progress[%]: 4.24 : PID-11389, L2A_AtmCorr: start of AOT retrieval at 550nm, elapsed time[s]: 0.000\n",
      "Progress[%]: 4.28 : PID-11389, L2A_AtmCorr: end of internal classification, elapsed time[s]: 1.072\n",
      "Progress[%]: 4.30 : PID-11389, L2A_AtmCorr: end of interpolation LUTs, elapsed time[s]: 0.386\n",
      "Progress[%]: 4.35 : PID-11389, L2A_AtmCorr: end retrieving reference pixels for dark areas, elapsed time[s]: 1.293\n",
      "Progress[%]: 4.50 : PID-11389, L2A_AtmCorr: end of check for negative reflectance pixels, elapsed time[s]: 4.040\n",
      "Progress[%]: 4.53 : PID-11389, The rescaling factor is clipped as it exceeds +/- 10 % variation, elapsed time[s]: 0.698\n",
      "Progress[%]: 4.54 : PID-11389, L2A_AtmCorr: end of visibility index calculation, elapsed time[s]: 0.302\n",
      "Progress[%]: 4.54 : PID-11389, L2A_AtmCorr: end of AOT retrieval at 550nm, elapsed time[s]: 0.000\n",
      "Progress[%]: 4.54 : PID-11389, L2A_AtmCorr: start of water vapour retrieval, elapsed time[s]: 0.002\n",
      "Progress[%]: 4.56 : PID-11389, L2A_AtmCorr: end of water vapour retrieval preparation, elapsed time[s]: 0.649\n",
      "Progress[%]: 5.12 : PID-11389, L2A_AtmCorr: end of water vapour retrieval, elapsed time[s]: 14.581\n",
      "Progress[%]: 5.12 : PID-11389, L2A_AtmCorr: preparation of surface reflectance retrieval, elapsed time[s]: 0.000\n",
      "Progress[%]: 5.24 : PID-11389, L2A_AtmCorr: end of surface reflectance retrieval preparation, elapsed time[s]: 3.184\n",
      "Progress[%]: 5.81 : PID-11389, L2A_AtmCorr: end of surface reflectance retrieval, elapsed time[s]: 15.050\n",
      "Progress[%]: 5.93 : PID-11389, L2A_AtmCorr: end of rho retrieval step 2, elapsed time[s]: 3.328\n",
      "Progress[%]: 5.93 : PID-11389, L2A_ProcessTile: start of post processing, elapsed time[s]: 0.004\n",
      "Progress[%]: 5.93 : PID-11389, L2A_Tables: start export, elapsed time[s]: 0.002\n",
      "Progress[%]: 5.97 : PID-11389, L2A_Tables: band B01 exported, elapsed time[s]: 0.952\n",
      "Progress[%]: 6.01 : PID-11389, L2A_Tables: band B02 exported, elapsed time[s]: 0.981\n",
      "Progress[%]: 6.04 : PID-11389, L2A_Tables: band B03 exported, elapsed time[s]: 0.978\n",
      "Progress[%]: 6.08 : PID-11389, L2A_Tables: band B04 exported, elapsed time[s]: 0.975\n",
      "Progress[%]: 6.12 : PID-11389, L2A_Tables: band B05 exported, elapsed time[s]: 0.975\n",
      "Progress[%]: 6.15 : PID-11389, L2A_Tables: band B06 exported, elapsed time[s]: 0.965\n",
      "Progress[%]: 6.19 : PID-11389, L2A_Tables: band B07 exported, elapsed time[s]: 0.967\n",
      "Progress[%]: 6.23 : PID-11389, L2A_Tables: band B8A exported, elapsed time[s]: 0.963\n",
      "Progress[%]: 6.26 : PID-11389, L2A_Tables: band B09 exported, elapsed time[s]: 0.971\n",
      "Progress[%]: 6.30 : PID-11389, L2A_Tables: band B11 exported, elapsed time[s]: 0.934\n",
      "Progress[%]: 6.33 : PID-11389, L2A_Tables: band B12 exported, elapsed time[s]: 0.928\n",
      "Progress[%]: 6.34 : PID-11389, L2A_Tables: band SCL exported, elapsed time[s]: 0.162\n",
      "Progress[%]: 6.34 : PID-11389, L2A_Tables: band SNW exported, elapsed time[s]: 0.090\n",
      "Progress[%]: 6.36 : PID-11389, L2A_Tables: band CLD exported, elapsed time[s]: 0.468\n",
      "Progress[%]: 6.36 : PID-11389, L2A_Tables: band AOT exported, elapsed time[s]: 0.068\n",
      "Progress[%]: 6.38 : PID-11389, L2A_Tables: band WVP exported, elapsed time[s]: 0.482\n",
      "Progress[%]: 6.39 : PID-11389, L2A_Tables: band PVI exported, elapsed time[s]: 0.182\n",
      "Progress[%]: 6.43 : PID-11389, L2A_Tables: band TCI exported, elapsed time[s]: 1.188\n",
      "Progress[%]: 6.43 : PID-11389, L2A_Tables: stop export, elapsed time[s]: 0.018\n",
      "Progress[%]: 6.47 : PID-11389, L2A_ProcessTile: processing with resolution 20 m, elapsed time[s]: 0.918\n",
      "Progress[%]: 6.47 : PID-11389, L2A_ProcessTile: start of pre processing, elapsed time[s]: 0.000\n",
      "Progress[%]: 6.47 : PID-11389, L2A_Tables: start import, elapsed time[s]: 0.040\n",
      "Progress[%]: 6.63 : PID-11389, L2A_Tables: band B01 imported, elapsed time[s]: 4.084\n",
      "Progress[%]: 7.50 : PID-11389, L2A_Tables: band B02 imported, elapsed time[s]: 23.030\n",
      "Progress[%]: 8.37 : PID-11389, L2A_Tables: band B03 imported, elapsed time[s]: 23.001\n",
      "Progress[%]: 9.25 : PID-11389, L2A_Tables: band B04 imported, elapsed time[s]: 23.176\n",
      "Progress[%]: 9.51 : PID-11389, L2A_Tables: band B05 imported, elapsed time[s]: 7.011\n",
      "Progress[%]: 9.78 : PID-11389, L2A_Tables: band B06 imported, elapsed time[s]: 7.033\n",
      "Progress[%]: 10.04 : PID-11389, L2A_Tables: band B07 imported, elapsed time[s]: 7.051\n",
      "Progress[%]: 10.31 : PID-11389, L2A_Tables: band B8A imported, elapsed time[s]: 7.028\n",
      "Progress[%]: 10.47 : PID-11389, L2A_Tables: band B09 imported, elapsed time[s]: 4.116\n",
      "Progress[%]: 10.60 : PID-11389, L2A_Tables: band B10 imported, elapsed time[s]: 3.501\n",
      "Progress[%]: 10.86 : PID-11389, L2A_Tables: band B11 imported, elapsed time[s]: 6.972\n",
      "Progress[%]: 11.13 : PID-11389, L2A_Tables: band B12 imported, elapsed time[s]: 6.977\n",
      "Progress[%]: 11.13 : PID-11389, L2A_ProcessTile: start of Scene Classification, elapsed time[s]: 0.002\n",
      "Progress[%]: 11.15 : PID-11389, Pre process   , elapsed time[s]: 0.487\n"
     ]
    },
    {
     "name": "stdout",
     "output_type": "stream",
     "text": [
      "Progress[%]: 11.26 : PID-11389, L2A_SC init   , elapsed time[s]: 2.915\n",
      "Progress[%]: 11.29 : PID-11389, L2A_CSND_1_1  , elapsed time[s]: 0.806\n",
      "Progress[%]: 11.32 : PID-11389, L2A_CSND_1_2  , elapsed time[s]: 0.839\n",
      "Progress[%]: 11.32 : PID-11389, L2A_CSND_2_0  , elapsed time[s]: 0.140\n",
      "Progress[%]: 11.36 : PID-11389, L2A_CSND_2_1  , elapsed time[s]: 0.918\n",
      "Progress[%]: 11.38 : PID-11389, L2A_CSND_2_1_2, elapsed time[s]: 0.623\n",
      "Progress[%]: 11.40 : PID-11389, L2A_CSND_2_2  , elapsed time[s]: 0.407\n",
      "Progress[%]: 11.41 : PID-11389, L2A_CSND_2_3  , elapsed time[s]: 0.375\n",
      "Progress[%]: 11.44 : PID-11389, L2A_CSND_2_4  , elapsed time[s]: 0.666\n",
      "Progress[%]: 11.49 : PID-11389, L2A_CSND_2_5  , elapsed time[s]: 1.465\n",
      "Progress[%]: 11.54 : PID-11389, L2A_CSND_3    , elapsed time[s]: 1.312\n",
      "Progress[%]: 11.58 : PID-11389, L2A_CSND_5_1  , elapsed time[s]: 1.043\n",
      "Progress[%]: 11.65 : PID-11389, L2A_CSND_5_2  , elapsed time[s]: 1.884\n",
      "Progress[%]: 11.70 : PID-11389, L2A_CSND_6    , elapsed time[s]: 1.275\n",
      "Progress[%]: 11.73 : PID-11389, L2A_CSND_6_2  , elapsed time[s]: 0.827\n",
      "Progress[%]: 11.78 : PID-11389, L2A_CSND_7    , elapsed time[s]: 1.123\n",
      "Progress[%]: 12.86 : PID-11389, L2A_SHD       , elapsed time[s]: 28.645\n",
      "Progress[%]: 12.90 : PID-11389, DV recovery   , elapsed time[s]: 1.008\n",
      "Progress[%]: 12.94 : PID-11389, WP recovery   , elapsed time[s]: 1.120\n",
      "Progress[%]: 13.00 : PID-11389, Snow recovery , elapsed time[s]: 1.601\n",
      "Progress[%]: 13.02 : PID-11389, Soil recovery , elapsed time[s]: 0.560\n",
      "Progress[%]: 13.16 : PID-11389, Post process  , elapsed time[s]: 3.625\n",
      "Progress[%]: 13.16 : PID-11389, L2A_ProcessTile: start of Atmospheric Correction, elapsed time[s]: 0.000\n",
      "Progress[%]: 13.20 : PID-11389, L2A_AtmCorr: end of calculation terrain maps, elapsed time[s]: 1.049\n",
      "Progress[%]: 13.20 : PID-11389, L2A_AtmCorr: start of AOT retrieval at 550nm, elapsed time[s]: 0.000\n",
      "Progress[%]: 13.41 : PID-11389, L2A_AtmCorr: end of internal classification, elapsed time[s]: 5.641\n",
      "Progress[%]: 13.43 : PID-11389, L2A_AtmCorr: end of interpolation LUTs, elapsed time[s]: 0.541\n",
      "Progress[%]: 13.89 : PID-11389, L2A_AtmCorr: end retrieving reference pixels for dark areas, elapsed time[s]: 11.981\n",
      "Progress[%]: 14.96 : PID-11389, L2A_AtmCorr: end of check for negative reflectance pixels, elapsed time[s]: 28.210\n",
      "Progress[%]: 15.06 : PID-11389, The rescaling factor is clipped as it exceeds +/- 10 % variation, elapsed time[s]: 2.797\n",
      "Progress[%]: 15.16 : PID-11389, L2A_AtmCorr: end of visibility index calculation, elapsed time[s]: 2.604\n",
      "Progress[%]: 15.16 : PID-11389, L2A_AtmCorr: end of AOT retrieval at 550nm, elapsed time[s]: 0.000\n",
      "Progress[%]: 15.16 : PID-11389, L2A_AtmCorr: start of water vapour retrieval, elapsed time[s]: 0.002\n",
      "Progress[%]: 15.25 : PID-11389, L2A_AtmCorr: end of water vapour retrieval preparation, elapsed time[s]: 2.457\n",
      "Progress[%]: 21.10 : PID-11389, L2A_AtmCorr: end of water vapour retrieval, elapsed time[s]: 154.417\n",
      "Progress[%]: 21.10 : PID-11389, L2A_AtmCorr: preparation of surface reflectance retrieval, elapsed time[s]: 0.000\n",
      "Progress[%]: 21.23 : PID-11389, L2A_AtmCorr: end of surface reflectance retrieval preparation, elapsed time[s]: 3.525\n",
      "Progress[%]: 25.55 : PID-11389, L2A_AtmCorr: end of surface reflectance retrieval, elapsed time[s]: 113.995\n",
      "Progress[%]: 26.87 : PID-11389, L2A_AtmCorr: end of rho retrieval step 2, elapsed time[s]: 34.991\n",
      "Progress[%]: 26.87 : PID-11389, L2A_ProcessTile: start of post processing, elapsed time[s]: 0.004\n",
      "Progress[%]: 26.87 : PID-11389, L2A_Tables: start export, elapsed time[s]: 0.002\n",
      "Progress[%]: 27.18 : PID-11389, L2A_Tables: band B02 exported, elapsed time[s]: 7.990\n",
      "Progress[%]: 27.48 : PID-11389, L2A_Tables: band B03 exported, elapsed time[s]: 7.948\n",
      "Progress[%]: 27.78 : PID-11389, L2A_Tables: band B04 exported, elapsed time[s]: 7.948\n",
      "Progress[%]: 28.08 : PID-11389, L2A_Tables: band B05 exported, elapsed time[s]: 7.817\n",
      "Progress[%]: 28.37 : PID-11389, L2A_Tables: band B06 exported, elapsed time[s]: 7.843\n",
      "Progress[%]: 28.67 : PID-11389, L2A_Tables: band B07 exported, elapsed time[s]: 7.822\n",
      "Progress[%]: 28.97 : PID-11389, L2A_Tables: band B8A exported, elapsed time[s]: 7.863\n",
      "Progress[%]: 29.25 : PID-11389, L2A_Tables: band B11 exported, elapsed time[s]: 7.383\n",
      "Progress[%]: 29.52 : PID-11389, L2A_Tables: band B12 exported, elapsed time[s]: 7.368\n",
      "Progress[%]: 29.57 : PID-11389, L2A_Tables: band SCL exported, elapsed time[s]: 1.223\n",
      "Progress[%]: 29.60 : PID-11389, L2A_Tables: band SNW exported, elapsed time[s]: 0.685\n",
      "Progress[%]: 29.71 : PID-11389, L2A_Tables: band CLD exported, elapsed time[s]: 2.932\n",
      "Progress[%]: 29.73 : PID-11389, L2A_Tables: band AOT exported, elapsed time[s]: 0.540\n",
      "Progress[%]: 29.86 : PID-11389, L2A_Tables: band WVP exported, elapsed time[s]: 3.362\n",
      "Progress[%]: 29.87 : PID-11389, L2A_Tables: band VIS exported, elapsed time[s]: 0.437\n",
      "Progress[%]: 30.26 : PID-11389, L2A_Tables: band TCI exported, elapsed time[s]: 10.107\n",
      "Progress[%]: 30.26 : PID-11389, L2A_Tables: stop export, elapsed time[s]: 0.158\n",
      "Progress[%]: 30.27 : PID-11389, L2A_ProcessTile: processing with resolution 10 m, elapsed time[s]: 0.263\n",
      "Progress[%]: 30.27 : PID-11389, L2A_ProcessTile: start of pre processing, elapsed time[s]: 0.000\n",
      "Progress[%]: 30.27 : PID-11389, L2A_Tables: start import, elapsed time[s]: 0.052\n",
      "Progress[%]: 31.21 : PID-11389, L2A_Tables: band B02 imported, elapsed time[s]: 24.827\n",
      "Progress[%]: 32.16 : PID-11389, L2A_Tables: band B03 imported, elapsed time[s]: 24.915\n",
      "Progress[%]: 33.09 : PID-11389, L2A_Tables: band B04 imported, elapsed time[s]: 24.728\n",
      "Progress[%]: 34.05 : PID-11389, L2A_Tables: band B08 imported, elapsed time[s]: 25.385\n",
      "Progress[%]: 34.45 : PID-11389, L2A_Tables: band AOT imported, elapsed time[s]: 10.377\n",
      "Progress[%]: 34.94 : PID-11389, L2A_Tables: band WVP imported, elapsed time[s]: 13.077\n",
      "Progress[%]: 35.33 : PID-11389, L2A_Tables: band VIS imported, elapsed time[s]: 10.284\n",
      "Progress[%]: 35.75 : PID-11389, L2A_Tables: band SCL imported, elapsed time[s]: 11.075\n",
      "Progress[%]: 35.75 : PID-11389, L2A_ProcessTile: start of Atmospheric Correction, elapsed time[s]: 0.003\n",
      "Progress[%]: 35.92 : PID-11389, L2A_AtmCorr: end of calculation terrain maps, elapsed time[s]: 4.410\n",
      "Progress[%]: 35.92 : PID-11389, L2A_AtmCorr: start of resampling visibility for 10 m resolution, elapsed time[s]: 0.000\n",
      "Progress[%]: 35.97 : PID-11389, L2A_AtmCorr: end of resampling visibility for 10 m resolution, elapsed time[s]: 1.338\n",
      "Progress[%]: 36.02 : PID-11389, L2A_AtmCorr: end of AOT retrieval at 550nm, elapsed time[s]: 1.440\n",
      "Progress[%]: 36.02 : PID-11389, L2A_AtmCorr: preparation of surface reflectance retrieval, elapsed time[s]: 0.000\n",
      "Progress[%]: 36.10 : PID-11389, L2A_AtmCorr: end of surface reflectance retrieval preparation, elapsed time[s]: 1.993\n",
      "Progress[%]: 41.73 : PID-11389, L2A_AtmCorr: end of surface reflectance retrieval, elapsed time[s]: 148.701\n",
      "Progress[%]: 43.29 : PID-11389, L2A_AtmCorr: end of rho retrieval step 2, elapsed time[s]: 41.173\n",
      "Progress[%]: 43.29 : PID-11389, L2A_ProcessTile: start of post processing, elapsed time[s]: 0.004\n",
      "Progress[%]: 43.29 : PID-11389, L2A_Tables: start export, elapsed time[s]: 0.002\n",
      "Progress[%]: 44.42 : PID-11389, L2A_Tables: band B02 exported, elapsed time[s]: 29.820\n",
      "Progress[%]: 45.54 : PID-11389, L2A_Tables: band B03 exported, elapsed time[s]: 29.593\n",
      "Progress[%]: 46.65 : PID-11389, L2A_Tables: band B04 exported, elapsed time[s]: 29.263\n",
      "Progress[%]: 47.79 : PID-11389, L2A_Tables: band B08 exported, elapsed time[s]: 30.125\n",
      "Progress[%]: 47.88 : PID-11389, L2A_Tables: band AOT exported, elapsed time[s]: 2.403\n",
      "Progress[%]: 48.21 : PID-11389, L2A_Tables: band WVP exported, elapsed time[s]: 8.807\n",
      "Progress[%]: 49.55 : PID-11389, L2A_Tables: band TCI exported, elapsed time[s]: 35.407\n",
      "Progress[%]: 49.56 : PID-11389, L2A_Tables: stop export, elapsed time[s]: 0.239\n",
      "Progress[%]: 100.00 : Application terminated successfully.\n"
     ]
    }
   ],
   "source": [
    "# It is expected that sen2cor is installed in /tmp/sen2cor240/\n",
    "# For installation instructions on sen2cor see http://forum.step.esa.int/t/sen2cor-2-4-0-stand-alone-installers-how-to-install/6908\n",
    "def _L2A_process(n):\n",
    "    # Run sen2cor to get L2A products\n",
    "    try:\n",
    "        # Only run sen2cor on L1C products        \n",
    "        #!/tmp/sen2cor240/bin/L2A_Process {\"L1C/\" + str(folders[n]) + \" --resolution 60\"}\n",
    "        !/tmp/sen2cor240/bin/L2A_Process {\"L1C/\" + str(folders[n])}\n",
    "\n",
    "    except:\n",
    "        print(\"SEN2COR ERROR WITH PRODUCT:\", f[n])\n",
    "        pass\n",
    "\n",
    "# Load product names and filter to only process L1C products\n",
    "folders = os.listdir(\"L1C\")\n",
    "folders = [f for f in folders if 'L1C' in f] \n",
    "\n",
    "# Do the processing\n",
    "pool = ThreadPool(processes=8)\n",
    "pool.map(_L2A_process, (f for f in range(np.size(folders))))\n",
    "pool.close()"
   ]
  },
  {
   "cell_type": "code",
   "execution_count": 16,
   "metadata": {},
   "outputs": [],
   "source": [
    "# Move L2A products from sen2cor to directory with the other L2A products.\n",
    "folders = os.listdir(\"L1C\")\n",
    "\n",
    "for f in folders:\n",
    "    try:\n",
    "        if 'L2A' in str(f):\n",
    "            !mv {\"L1C/\" + str(f) + \" L2A/\"}\n",
    "        \n",
    "    except:\n",
    "        print(\"ERROR - but moving on\")\n",
    "        pass"
   ]
  },
  {
   "cell_type": "code",
   "execution_count": 17,
   "metadata": {},
   "outputs": [],
   "source": [
    "# If wanted, delete zipfiles and L1C products\n",
    "#!rm -rf ./L1C/* ./zipfiles/*\n",
    "#!rm -rf ./L1C/* ./L2A/*"
   ]
  },
  {
   "cell_type": "code",
   "execution_count": 18,
   "metadata": {},
   "outputs": [
    {
     "name": "stdout",
     "output_type": "stream",
     "text": [
      "DOWNLOAD AND SEN2COR DONE IN: \n",
      "0:25:35.871541\n"
     ]
    }
   ],
   "source": [
    "print(\"DOWNLOAD AND SEN2COR DONE IN: \")\n",
    "print(datetime.now() - startTime)"
   ]
  },
  {
   "cell_type": "code",
   "execution_count": 20,
   "metadata": {
    "scrolled": true
   },
   "outputs": [
    {
     "name": "stdout",
     "output_type": "stream",
     "text": [
      "Input file size is 10980, 10980\n",
      "0...10...20...30...40...50...60...70...80...90...100 - done.\n",
      "Input file size is 10980, 10980\n",
      "0...10...20...30...40...50...60...70...80...90...100 - done.\n",
      "Input file size is 10980, 10980\n",
      "0...10...20...30...40...50...60...70...80...90...100 - done.\n",
      "Input file size is 10980, 10980\n",
      "0...10...20...30...40...50...60...70...80...90...100 - done.\n",
      "Input file size is 10980, 10980\n",
      "0...10...20...30...40...50...60...70...80...90...100 - done.\n",
      "Input file size is 10980, 10980\n",
      "0...10...20...30...40...50...60...70...80...90...100 - done.\n",
      "Input file size is 10980, 10980\n",
      "0...10...20...30...40...50...60...70...80...90...100 - done.\n",
      "Input file size is 5490, 5490\n",
      "0...10...20...30...40...50...60...70...80...90...100 - done.\n",
      "Input file size is 5490, 5490\n",
      "0...10...20...30...40...50...60...70...80...90...100 - done.\n",
      "Input file size is 5490, 5490\n",
      "0...10...20...30...40...50...60...70...80...90...100 - done.\n",
      "Input file size is 5490, 5490\n",
      "0...10...20...30...40...50...60...70...80...90...100 - done.\n",
      "Input file size is 5490, 5490\n",
      "0...10...20...30...40...50...60...70...80...90...100 - done.\n",
      "Input file size is 5490, 5490\n",
      "0...10...20...30...40...50...60...70...80...90...100 - done.\n",
      "Input file size is 5490, 5490\n",
      "0...10...20...30...40...50...60...70...80...90...100 - done.\n",
      "Input file size is 5490, 5490\n",
      "0...10...20...30...40...50...60...70...80...90...100 - done.\n",
      "Input file size is 5490, 5490\n",
      "0...10...20...30...40...50...60...70...80...90...100 - done.\n",
      "Input file size is 5490, 5490\n",
      "0...10...20...30...40...50...60...70...80...90...100 - done.\n",
      "Input file size is 5490, 5490\n",
      "0...10...20...30...40...50...60...70...80...90...100 - done.\n",
      "Input file size is 5490, 5490\n",
      "0...10...20...30...40...50...60...70...80...90...100 - done.\n",
      "Input file size is 5490, 5490\n",
      "0...10...20...30...40...50...60...70...80...90...100 - done.\n",
      "Input file size is 5490, 5490\n",
      "0...10...20...30...40...50...60...70...80...90...100 - done.\n",
      "Input file size is 5490, 5490\n",
      "0...10...20...30...40...50...60...70...80...90...100 - done.\n",
      "Input file size is 5490, 5490\n",
      "0...10...20...30...40...50...60...70...80...90...100 - done.\n",
      "Input file size is 5490, 5490\n",
      "0...10...20...30...40...50...60...70...80...90...100 - done.\n",
      "Input file size is 1830, 1830\n",
      "0...10...20...30...40...50...60...70...80...90...100 - done.\n",
      "Input file size is 1830, 1830\n",
      "0...10...20...30...40...50...60...70...80...90...100 - done.\n",
      "Input file size is 1830, 1830\n",
      "0...10...20...30...40...50...60...70...80...90...100 - done.\n",
      "Input file size is 1830, 1830\n",
      "0...10...20...30...40...50...60...70...80...90...100 - done.\n",
      "Input file size is 1830, 1830\n",
      "0...10...20...30...40...50...60...70...80...90...100 - done.\n",
      "Input file size is 1830, 1830\n",
      "0...10...20...30...40...50...60...70...80...90...100 - done.\n",
      "Input file size is 1830, 1830\n",
      "0...10...20...30...40...50...60...70...80...90...100 - done.\n",
      "Input file size is 1830, 1830\n",
      "0...10...20...30...40...50...60...70...80...90...100 - done.\n",
      "Input file size is 1830, 1830\n",
      "0...10...20...30...40...50...60...70...80...90...100 - done.\n",
      "Input file size is 1830, 1830\n",
      "0...10...20...30...40...50...60...70...80...90...100 - done.\n",
      "Input file size is 1830, 1830\n",
      "0...10...20...30...40...50...60...70...80...90...100 - done.\n",
      "Input file size is 1830, 1830\n",
      "0...10...20...30...40...50...60...70...80...90...100 - done.\n",
      "Input file size is 1830, 1830\n",
      "0...10...20...30...40...50...60...70...80...90...100 - done.\n",
      "Input file size is 1830, 1830\n",
      "0...10...20...30...40...50...60...70...80...90...100 - done.\n",
      "Input file size is 1830, 1830\n",
      "0...10...20...30...40...50...60...70...80...90...100 - done.\n"
     ]
    }
   ],
   "source": [
    "# Convert to GeoTIFF\n",
    "# To also merge the tiles, see here: http://forum.step.esa.int/t/converting-sentinel-2-image-to-tiff/3848 \n",
    "\n",
    "# Specify bands to calculate (TCI is the RGB image)\n",
    "bands = {\"TCI\", \"B03\", \"B04\", \"B08\"}\n",
    "all_bands = True # Process all bands (ignores line above if true)\n",
    "res_10 = True # Process 10m resolution\n",
    "res_20 = True # Process 20m resolution\n",
    "res_60 = True # Process 60m resolution\n",
    "rm_jp2 = True # Remove .jp2 files after conversion\n",
    "\n",
    "# Get absolute path of the project (https://stackoverflow.com/questions/50499/how-do-i-get-the-path-and-name-of-the-file-that-is-currently-executing)\n",
    "project_path = os.path.dirname(os.path.abspath(inspect.stack()[0][1])) + \"/\"\n",
    "\n",
    "# Iterate over each product\n",
    "folders = os.listdir(\"L2A\")\n",
    "\n",
    "for f in folders:    \n",
    "    # Define paths to the image folders\n",
    "    granule_path = \"L2A/\" + f + \"/GRANULE/\"\n",
    "    img_data_path = granule_path + os.listdir(str(granule_path))[0] + \"/IMG_DATA/\"\n",
    "\n",
    "    try:\n",
    "        # 10m resolution\n",
    "        files = os.listdir(img_data_path + \"R10m\")  \n",
    "        for file in files: \n",
    "            # Define paths for the .jp2 files and the wanted .tiff files\n",
    "            jp2_path = project_path + img_data_path + \"/R10m/\" + file\n",
    "            gtiff_path = project_path + img_data_path + \"/R10m/\" + file[0:-4] + \".tiff\"\n",
    "\n",
    "            # Only process jp2 files and only do it 10m resolution flag is set\n",
    "            if '.jp2' in file and res_10:\n",
    "                # Only process the desired bands\n",
    "                # https://stackoverflow.com/questions/28270908/why-doesnt-this-python-any-function-return-true\n",
    "                if all_bands:\n",
    "                    !gdal_translate -of GTiff {jp2_path + \" \" + gtiff_path}\n",
    "                elif any([b for b in bands if b in file]):\n",
    "                    !gdal_translate -of GTiff {jp2_path + \" \" + gtiff_path}\n",
    "\n",
    "            # Remove .jp2 files\n",
    "            if '.jp2' in file and rm_jp2:\n",
    "                !rm {jp2_path}\n",
    "\n",
    "        # 20m resolution (see comments to the code in 10m resolution section)\n",
    "        files = os.listdir(img_data_path + \"R20m\")    \n",
    "        for file in files:            \n",
    "            jp2_path = project_path + img_data_path + \"/R20m/\" + file\n",
    "            gtiff_path = project_path + img_data_path + \"/R20m/\" + file[0:-4] + \".tiff\"\n",
    "            if '.jp2' in file and res_20:     \n",
    "                if all_bands:\n",
    "                    !gdal_translate -of GTiff {jp2_path + \" \" + gtiff_path}\n",
    "                if any([b for b in bands if b in file]):\n",
    "                    !gdal_translate -of GTiff {jp2_path + \" \" + gtiff_path}                \n",
    "            if '.jp2' in file and rm_jp2:\n",
    "                !rm {jp2_path}\n",
    "                \n",
    "        # 60m resolution (see comments to the code in 10m resolution section)\n",
    "        files = os.listdir(img_data_path + \"/R60m\")\n",
    "        for file in files:            \n",
    "            jp2_path = project_path + img_data_path + \"/R60m/\" + file\n",
    "            gtiff_path = project_path + img_data_path + \"/R60m/\" + file[0:-4] + \".tiff\"\n",
    "            if '.jp2' in file and res_60:\n",
    "                if all_bands:\n",
    "                    !gdal_translate -of GTiff {jp2_path + \" \" + gtiff_path}\n",
    "                elif any([b for b in bands if b in file]):\n",
    "                    !gdal_translate -of GTiff {jp2_path + \" \" + gtiff_path}\n",
    "            if '.jp2' in file and rm_jp2:\n",
    "                !rm {jp2_path}\n",
    "    \n",
    "    except:\n",
    "        print(\"ERROR WITH PRODUCT:\" + f)\n",
    "        pass"
   ]
  },
  {
   "cell_type": "code",
   "execution_count": null,
   "metadata": {},
   "outputs": [],
   "source": []
  }
 ],
 "metadata": {
  "kernelspec": {
   "display_name": "Python [conda env:SentinelSemanticSegmentation]",
   "language": "python",
   "name": "conda-env-SentinelSemanticSegmentation-py"
  },
  "language_info": {
   "codemirror_mode": {
    "name": "ipython",
    "version": 3
   },
   "file_extension": ".py",
   "mimetype": "text/x-python",
   "name": "python",
   "nbconvert_exporter": "python",
   "pygments_lexer": "ipython3",
   "version": "3.6.2"
  }
 },
 "nbformat": 4,
 "nbformat_minor": 2
}
