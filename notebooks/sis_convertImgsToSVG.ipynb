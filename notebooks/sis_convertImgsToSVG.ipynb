{
 "cells": [
  {
   "cell_type": "code",
   "execution_count": 1,
   "metadata": {},
   "outputs": [],
   "source": [
    "from utils import save_true_color_img, save_img_to, make_tc_corrected_img, read_mod09ga_tiff_refl_bands, make_tc_corrected_img_from_bands\n",
    "import tifffile\n",
    "import os\n",
    "import skimage"
   ]
  },
  {
   "cell_type": "code",
   "execution_count": 2,
   "metadata": {},
   "outputs": [],
   "source": [
    "modis_tower_path = \"/home/mxh/MODIS_MOD09GA_GERITAFRA_31day_DEC2023/\"\n",
    "modis_tower_builder_path = \"/home/builder/sat-data/modis/MODIS_MOD09GA_GERITAFRA_31day_DEC2023/\"\n",
    "modis_volume_path=\"/media/mxh/Volume/SAT-DATA/MODIS_MOD09GA_GERITAFRA_31day_DEC2023/\"\n",
    "\n",
    "modis_win_path = \"F:\\\\Bachelorarbeit\\\\sat-data\\\\modis\\\\MODIS_MOD09GA_GERITAFRA_31day_DEC2023\\\\\"\n",
    "modis_x_path = \"/mnt/f/Bachelorarbeit/sat-data/modis/MODIS_MOD09GA_GERITAFRA_31day_DEC2023/\"\n",
    "modis_wsl_path = \"/home/sisa/sat-data/MODIS_MOD09GA_GERITAFRA_31day_DEC2023/\"# \"\\\\wsl.localhost\\fedora39\\home\\sisa\\sat-data\"\n",
    "\n",
    "# experiments\n",
    "modis_exp2_wsl_path = \"/home/sisa/sat-data/MODIS_MOD09GA_GERITAFRA_31day_DEC2023/experiment2/\"\n",
    "exp2 = \"experiment2/\"\n",
    "\n",
    "\n",
    "modis_path = modis_tower_builder_path + exp2"
   ]
  },
  {
   "cell_type": "code",
   "execution_count": 3,
   "metadata": {},
   "outputs": [],
   "source": [
    "files = os.listdir(modis_path)"
   ]
  },
  {
   "cell_type": "markdown",
   "metadata": {},
   "source": [
    "## Interpolations"
   ]
  },
  {
   "cell_type": "code",
   "execution_count": 37,
   "metadata": {},
   "outputs": [],
   "source": [
    "determinant = \"exp_6.2_\" \n",
    "# determinant2 = \"_rgb_scaled_tc_\"\n",
    "determinants = [determinant]\n",
    "\n",
    "extension= \".tif\"\n",
    "\n",
    "#\"_merged_2400_binary_M1_240605215803_prediction_bin_mask\"\n",
    "# # \"_merged_2400_Unet-v2-binary_240526173722_prediction_bin_mask\""
   ]
  },
  {
   "cell_type": "code",
   "execution_count": 38,
   "metadata": {},
   "outputs": [],
   "source": [
    "tiff_files = files\n",
    "for d in determinants:\n",
    "    tiff_files = [f for f in tiff_files if d in f]\n",
    "\n",
    "tiff_files = [f for f in tiff_files if f[-len(extension):] == extension]"
   ]
  },
  {
   "cell_type": "code",
   "execution_count": 39,
   "metadata": {},
   "outputs": [],
   "source": [
    "filter = \"ps_exp\"\n",
    "tiff_files = [f for f in tiff_files if filter not in f]"
   ]
  },
  {
   "cell_type": "code",
   "execution_count": 40,
   "metadata": {},
   "outputs": [
    {
     "name": "stdout",
     "output_type": "stream",
     "text": [
      "exp_6.2_mod-hdf_ql-mod_days-7-20_limit-days-3_interpolated_MOD09GA.A2023347.h18v04.061.2023349025736.tif\n",
      "exp_6.2_mod-hdf_ql-mod_days-7-20_limit-days-3_interpolated_MOD09GA.A2023352.h18v04.061.2023354042819.tif\n",
      "exp_6.2_mod-hdf_ql-mod_days-7-20_limit-days-3_interpolated_MOD09GA.A2023344.h18v04.061.2023346030519.tif\n",
      "exp_6.2_mod-hdf_ql-mod_days-7-20_limit-days-3_interpolated_MOD09GA.A2023346.h18v04.061.2023348030312.tif\n",
      "exp_6.2_mod-hdf_ql-mod_days-7-20_limit-days-3_interpolated_MOD09GA.A2023353.h18v04.061.2023355063849.tif\n",
      "exp_6.2_mod-hdf_ql-mod_days-7-20_limit-days-3_interpolated_MOD09GA.A2023348.h18v04.061.2023350024202.tif\n",
      "exp_6.2_mod-hdf_ql-mod_days-7-20_limit-days-3_interpolated_MOD09GA.A2023345.h18v04.061.2023347025532.tif\n",
      "exp_6.2_mod-hdf_ql-mod_days-7-20_limit-days-3_interpolated_MOD09GA.A2023341.h18v04.061.2023343024753.tif\n",
      "exp_6.2_mod-hdf_ql-mod_days-7-20_limit-days-3_interpolated_MOD09GA.A2023350.h18v04.061.2023352030330.tif\n",
      "exp_6.2_mod-hdf_ql-mod_days-7-20_limit-days-3_interpolated_MOD09GA.A2023343.h18v04.061.2023345024918.tif\n",
      "exp_6.2_mod-hdf_ql-mod_days-7-20_limit-days-3_interpolated_MOD09GA.A2023342.h18v04.061.2023344024915.tif\n",
      "exp_6.2_mod-hdf_ql-mod_days-7-20_limit-days-3_interpolated_MOD09GA.A2023349.h18v04.061.2023351023935.tif\n",
      "exp_6.2_mod-hdf_ql-mod_days-7-20_limit-days-3_interpolated_MOD09GA.A2023351.h18v04.061.2023353030525.tif\n"
     ]
    }
   ],
   "source": [
    "for f in tiff_files:\n",
    "    print(f)"
   ]
  },
  {
   "cell_type": "code",
   "execution_count": 41,
   "metadata": {},
   "outputs": [],
   "source": [
    "import matplotlib.pyplot as plt"
   ]
  },
  {
   "cell_type": "markdown",
   "metadata": {},
   "source": [
    "### make tc images from interpolations"
   ]
  },
  {
   "cell_type": "code",
   "execution_count": 42,
   "metadata": {},
   "outputs": [],
   "source": [
    "new_shape = (480,480) # None\n",
    "tiff_extension = \".tif\"\n",
    "refl_percent = 0.15\n",
    "\n",
    "for f in tiff_files:\n",
    "    r_band, g_band, b_band = read_mod09ga_tiff_refl_bands(modis_path, f)\n",
    "\n",
    "    #img = tifffile.imread(modis_path + f)\n",
    "    tc_img, tc_img_unscaled = make_tc_corrected_img_from_bands(r_band, g_band, b_band, refl_percent)\n",
    "\n",
    "\n",
    "    new_name = f[:-len(tiff_extension)] \n",
    "\n",
    "    save_true_color_img(modis_path, new_name, tc_img, new_shape=(480,480), refl_percent=refl_percent)\n",
    "\n",
    "    \n",
    "    # save_img_to(modis_path, new_name, img)"
   ]
  },
  {
   "cell_type": "markdown",
   "metadata": {},
   "source": [
    "## Predictions and similar"
   ]
  },
  {
   "cell_type": "markdown",
   "metadata": {},
   "source": [
    "## State 1km Bit masks"
   ]
  },
  {
   "cell_type": "markdown",
   "metadata": {},
   "source": []
  },
  {
   "cell_type": "markdown",
   "metadata": {},
   "source": [
    "## True Color Images"
   ]
  },
  {
   "cell_type": "code",
   "execution_count": null,
   "metadata": {},
   "outputs": [],
   "source": []
  }
 ],
 "metadata": {
  "kernelspec": {
   "display_name": "eo-rs",
   "language": "python",
   "name": "python3"
  },
  "language_info": {
   "codemirror_mode": {
    "name": "ipython",
    "version": 3
   },
   "file_extension": ".py",
   "mimetype": "text/x-python",
   "name": "python",
   "nbconvert_exporter": "python",
   "pygments_lexer": "ipython3",
   "version": "3.10.12"
  }
 },
 "nbformat": 4,
 "nbformat_minor": 2
}
