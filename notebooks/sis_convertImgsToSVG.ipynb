{
 "cells": [
  {
   "cell_type": "code",
   "execution_count": 1,
   "metadata": {},
   "outputs": [],
   "source": [
    "from utils import save_true_color_img, save_img_to\n",
    "import tifffile\n",
    "import os\n",
    "import skimage"
   ]
  },
  {
   "cell_type": "code",
   "execution_count": 2,
   "metadata": {},
   "outputs": [],
   "source": [
    "modis_tower_path = \"/home/mxh/MODIS_MOD09GA_GERITAFRA_31day_DEC2023/\"\n",
    "modis_tower_builder_path = \"/home/builder/sat-data/modis/MODIS_MOD09GA_GERITAFRA_31day_DEC2023/\"\n",
    "modis_volume_path=\"/media/mxh/Volume/SAT-DATA/MODIS_MOD09GA_GERITAFRA_31day_DEC2023/\"\n",
    "\n",
    "modis_win_path = \"F:\\\\Bachelorarbeit\\\\sat-data\\\\modis\\\\MODIS_MOD09GA_GERITAFRA_31day_DEC2023\\\\\"\n",
    "modis_x_path = \"/mnt/f/Bachelorarbeit/sat-data/modis/MODIS_MOD09GA_GERITAFRA_31day_DEC2023/\"\n",
    "modis_wsl_path = \"/home/sisa/sat-data/MODIS_MOD09GA_GERITAFRA_31day_DEC2023/\"# \"\\\\wsl.localhost\\fedora39\\home\\sisa\\sat-data\"\n",
    "\n",
    "# experiments\n",
    "modis_exp2_wsl_path = \"/home/sisa/sat-data/MODIS_MOD09GA_GERITAFRA_31day_DEC2023/experiment2/\"\n",
    "\n",
    "modis_path = modis_tower_path"
   ]
  },
  {
   "cell_type": "code",
   "execution_count": 3,
   "metadata": {},
   "outputs": [],
   "source": [
    "files = os.listdir(modis_path)"
   ]
  },
  {
   "cell_type": "markdown",
   "metadata": {},
   "source": [
    "## Predictions and similar"
   ]
  },
  {
   "cell_type": "code",
   "execution_count": 8,
   "metadata": {},
   "outputs": [],
   "source": [
    "determinant = \"_merged_2400_binary_M1_240605215803_prediction_bin_mask\"# \"_merged_2400_Unet-v2-binary_240526173722_prediction_bin_mask\""
   ]
  },
  {
   "cell_type": "code",
   "execution_count": 9,
   "metadata": {},
   "outputs": [],
   "source": [
    "tiff_files = [f for f in files if determinant in f]"
   ]
  },
  {
   "cell_type": "code",
   "execution_count": 10,
   "metadata": {},
   "outputs": [
    {
     "name": "stdout",
     "output_type": "stream",
     "text": [
      "MOD09GA.A2023364.h18v04.061.2024001025343_merged_2400_binary_M1_240605215803_prediction_bin_mask.tiff\n",
      "MOD09GA.A2023343.h18v04.061.2023345024918_merged_2400_binary_M1_240605215803_prediction_bin_mask.tiff\n",
      "MOD09GA.A2023337.h18v04.061.2023339023523_merged_2400_binary_M1_240605215803_prediction_bin_mask.tiff\n",
      "MOD09GA.A2023365.h18v04.061.2024004181336_merged_2400_binary_M1_240605215803_prediction_bin_mask.tiff\n",
      "MOD09GA.A2023344.h18v04.061.2023346030519_merged_2400_binary_M1_240605215803_prediction_bin_mask.tiff\n",
      "MOD09GA.A2023347.h18v04.061.2023349025736_merged_2400_binary_M1_240605215803_prediction_bin_mask.tiff\n",
      "MOD09GA.A2023352.h18v04.061.2023354042819_merged_2400_binary_M1_240605215803_prediction_bin_mask.tiff\n",
      "MOD09GA.A2023359.h18v04.061.2023361050233_merged_2400_binary_M1_240605215803_prediction_bin_mask.tiff\n",
      "MOD09GA.A2023346.h18v04.061.2023348030312_merged_2400_binary_M1_240605215803_prediction_bin_mask.tiff\n",
      "MOD09GA.A2023353.h18v04.061.2023355063849_merged_2400_binary_M1_240605215803_prediction_bin_mask.tiff\n",
      "MOD09GA.A2023354.h18v04.061.2023356042206_merged_2400_binary_M1_240605215803_prediction_bin_mask.tiff\n",
      "MOD09GA.A2023363.h18v04.061.2023365041515_merged_2400_binary_M1_240605215803_prediction_bin_mask.tiff\n",
      "MOD09GA.A2023350.h18v04.061.2023352030330_merged_2400_binary_M1_240605215803_prediction_bin_mask.tiff\n",
      "MOD09GA.A2023338.h18v04.061.2023340034455_merged_2400_binary_M1_240605215803_prediction_bin_mask.tiff\n",
      "MOD09GA.A2023335.h18v04.061.2023340033530_merged_2400_binary_M1_240605215803_prediction_bin_mask.tiff\n",
      "MOD09GA.A2023355.h18v04.061.2023357031321_merged_2400_binary_M1_240605215803_prediction_bin_mask.tiff\n",
      "MOD09GA.A2023360.h18v04.061.2023362134719_merged_2400_binary_M1_240605215803_prediction_bin_mask.tiff\n",
      "MOD09GA.A2023356.h18v04.061.2023361000333_merged_2400_binary_M1_240605215803_prediction_bin_mask.tiff\n",
      "MOD09GA.A2023342.h18v04.061.2023344024915_merged_2400_binary_M1_240605215803_prediction_bin_mask.tiff\n",
      "MOD09GA.A2023341.h18v04.061.2023343024753_merged_2400_binary_M1_240605215803_prediction_bin_mask.tiff\n",
      "MOD09GA.A2023345.h18v04.061.2023347025532_merged_2400_binary_M1_240605215803_prediction_bin_mask.tiff\n",
      "MOD09GA.A2023351.h18v04.061.2023353030525_merged_2400_binary_M1_240605215803_prediction_bin_mask.tiff\n",
      "MOD09GA.A2023361.h18v04.061.2023363043955_merged_2400_binary_M1_240605215803_prediction_bin_mask.tiff\n",
      "MOD09GA.A2023362.h18v04.061.2023364042452_merged_2400_binary_M1_240605215803_prediction_bin_mask.tiff\n",
      "MOD09GA.A2023348.h18v04.061.2023350024202_merged_2400_binary_M1_240605215803_prediction_bin_mask.tiff\n",
      "MOD09GA.A2023358.h18v04.061.2023360025923_merged_2400_binary_M1_240605215803_prediction_bin_mask.tiff\n",
      "MOD09GA.A2023339.h18v04.061.2023341041457_merged_2400_binary_M1_240605215803_prediction_bin_mask.tiff\n",
      "MOD09GA.A2023340.h18v04.061.2023342030232_merged_2400_binary_M1_240605215803_prediction_bin_mask.tiff\n",
      "MOD09GA.A2023349.h18v04.061.2023351023935_merged_2400_binary_M1_240605215803_prediction_bin_mask.tiff\n",
      "MOD09GA.A2023336.h18v04.061.2023338023416_merged_2400_binary_M1_240605215803_prediction_bin_mask.tiff\n",
      "MOD09GA.A2023357.h18v04.061.2023359024858_merged_2400_binary_M1_240605215803_prediction_bin_mask.tiff\n"
     ]
    }
   ],
   "source": [
    "for f in tiff_files:\n",
    "    print(f)"
   ]
  },
  {
   "cell_type": "code",
   "execution_count": 11,
   "metadata": {},
   "outputs": [],
   "source": [
    "new_shape = (480,480)\n",
    "transform = True\n",
    "tiff_extension = \".tiff\"\n",
    "\n",
    "for f in tiff_files:\n",
    "    img = tifffile.imread(modis_path + f)\n",
    "\n",
    "    if transform:\n",
    "        img = skimage.transform.resize(img, new_shape)\n",
    "\n",
    "    new_name = f[:-len(tiff_extension)] + f\"_{new_shape[0]}\"\n",
    "    save_img_to(modis_path, new_name, img)"
   ]
  },
  {
   "cell_type": "markdown",
   "metadata": {},
   "source": [
    "## State 1km Bit masks"
   ]
  },
  {
   "cell_type": "markdown",
   "metadata": {},
   "source": []
  },
  {
   "cell_type": "markdown",
   "metadata": {},
   "source": [
    "## True Color Images"
   ]
  },
  {
   "cell_type": "code",
   "execution_count": null,
   "metadata": {},
   "outputs": [],
   "source": []
  }
 ],
 "metadata": {
  "kernelspec": {
   "display_name": "eo-rs",
   "language": "python",
   "name": "python3"
  },
  "language_info": {
   "codemirror_mode": {
    "name": "ipython",
    "version": 3
   },
   "file_extension": ".py",
   "mimetype": "text/x-python",
   "name": "python",
   "nbconvert_exporter": "python",
   "pygments_lexer": "ipython3",
   "version": "3.11.9"
  }
 },
 "nbformat": 4,
 "nbformat_minor": 2
}
