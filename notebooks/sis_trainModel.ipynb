{
 "cells": [
  {
   "cell_type": "code",
   "execution_count": 1,
   "metadata": {},
   "outputs": [
    {
     "name": "stderr",
     "output_type": "stream",
     "text": [
      "2024-04-08 19:11:45.595562: I tensorflow/core/util/port.cc:113] oneDNN custom operations are on. You may see slightly different numerical results due to floating-point round-off errors from different computation orders. To turn them off, set the environment variable `TF_ENABLE_ONEDNN_OPTS=0`.\n",
      "2024-04-08 19:11:45.614161: E external/local_xla/xla/stream_executor/cuda/cuda_dnn.cc:9261] Unable to register cuDNN factory: Attempting to register factory for plugin cuDNN when one has already been registered\n",
      "2024-04-08 19:11:45.614180: E external/local_xla/xla/stream_executor/cuda/cuda_fft.cc:607] Unable to register cuFFT factory: Attempting to register factory for plugin cuFFT when one has already been registered\n",
      "2024-04-08 19:11:45.614566: E external/local_xla/xla/stream_executor/cuda/cuda_blas.cc:1515] Unable to register cuBLAS factory: Attempting to register factory for plugin cuBLAS when one has already been registered\n",
      "2024-04-08 19:11:45.617764: I tensorflow/core/platform/cpu_feature_guard.cc:182] This TensorFlow binary is optimized to use available CPU instructions in performance-critical operations.\n",
      "To enable the following instructions: SSE4.1 SSE4.2 AVX AVX2 AVX_VNNI FMA, in other operations, rebuild TensorFlow with the appropriate compiler flags.\n"
     ]
    }
   ],
   "source": [
    "# Use modules from parent directory\n",
    "import os\n",
    "import sys\n",
    "import tifffile as tiff\n",
    "import numpy as np\n",
    "from PIL import Image\n",
    "Image.MAX_IMAGE_PIXELS = 1000000000   \n",
    "from matplotlib import pyplot as plt\n",
    "\n",
    "sys.path.insert(0, '../')\n",
    "%load_ext autoreload\n",
    "%autoreload 2\n",
    "from srcv2_2.models.params import get_params\n",
    "from srcv2_2.models.Unet import Unet, UnetV2\n",
    "from srcv2_2.visualization.visualization_utils import get_predicted_thumbnails \n",
    "from srcv2_2.utils import get_model_name\n",
    "\n",
    "import tensorflow as tf"
   ]
  },
  {
   "cell_type": "markdown",
   "metadata": {},
   "source": [
    "## Defining Params"
   ]
  },
  {
   "cell_type": "markdown",
   "metadata": {},
   "source": [
    "For development purposes, use epochs=5. For final use, use epochs=20 perhaps."
   ]
  },
  {
   "cell_type": "code",
   "execution_count": 2,
   "metadata": {},
   "outputs": [],
   "source": [
    "params = get_params('U-net', 'MODIS')\n",
    "params.cls = ['cloud', 'clear', 'shadow'] #'clear', 'cloud', 'shadow', 'snow', 'water'] \n",
    "#working edition: ['cloud', 'thin']\n",
    "params.collapse_cls = False\n",
    "params.project_path = \"/home/mxh/RS-Net/\"\n",
    "params.activation_func='elu'\n",
    "params.learning_rate = 1e-3\n",
    "params.epochs = 5\n",
    "params.threshold = 0.5\n",
    "params.dropout = 0\n",
    "params.L2reg = 0\n",
    "params.decay = 0\n",
    "params.num_gpus = 1\n",
    "params.overlap = 40\n",
    "params.modelID = \"_v2_overlap40_cls-cloud-clear-shadow\"\n",
    "#params.norm_threshold = 3500\n",
    "\n",
    "#tile = 'all'  # Name of one tile or 'all'\n",
    "#tile = 'L2A_T32UNF_20170803T103019' "
   ]
  },
  {
   "cell_type": "markdown",
   "metadata": {},
   "source": [
    "## Training of local model"
   ]
  },
  {
   "cell_type": "code",
   "execution_count": 4,
   "metadata": {},
   "outputs": [
    {
     "data": {
      "text/plain": [
       "{'modelNick': 'Unet-MOD09GA',\n",
       " 'modelID': '_v2_overlap40_cls-cloud-thin-clear',\n",
       " 'num_gpus': 1,\n",
       " 'optimizer': 'Adam',\n",
       " 'loss_func': 'binary_crossentropy',\n",
       " 'activation_func': 'relu',\n",
       " 'initialization': 'glorot_uniform',\n",
       " 'use_batch_norm': True,\n",
       " 'dropout_on_last_layer_only': True,\n",
       " 'early_stopping': False,\n",
       " 'reduce_lr': False,\n",
       " 'save_best_only': False,\n",
       " 'use_ensemble_learning': False,\n",
       " 'ensemble_method': 'Bagging',\n",
       " 'learning_rate': 0.001,\n",
       " 'dropout': 0,\n",
       " 'L1reg': 0.0,\n",
       " 'L2reg': 0,\n",
       " 'L1L2reg': 0.0,\n",
       " 'decay': 0,\n",
       " 'batch_norm_momentum': 0.7,\n",
       " 'threshold': 0.5,\n",
       " 'patch_size': 256,\n",
       " 'overlap': 40,\n",
       " 'overlap_train_set': 0,\n",
       " 'batch_size': 40,\n",
       " 'steps_per_epoch': None,\n",
       " 'epochs': 5,\n",
       " 'norm_method': 'enhance_contrast',\n",
       " 'norm_threshold': 3500,\n",
       " 'cls': ['cloud', 'thin', 'clear'],\n",
       " 'collapse_cls': False,\n",
       " 'affine_transformation': True,\n",
       " 'brightness_augmentation': False,\n",
       " 'bands': [1, 2, 3, 4, 5, 6, 7],\n",
       " 'project_path': '/home/mxh/RS-Net/',\n",
       " 'toa_path': 'data/processed/Biome_TOA/',\n",
       " 'data_path': 'data/raw/Biome_dataset/',\n",
       " 'satellite': 'MODIS',\n",
       " 'dataset': 'MOD09GA',\n",
       " 'train_dataset': 'Biome_fmask',\n",
       " 'test_dataset': 'Biome_gt',\n",
       " 'split_dataset': True,\n",
       " 'test_tiles': [['LC80420082013220LGN00',\n",
       "   'LC81640502013179LGN01',\n",
       "   'LC81330312013202LGN00',\n",
       "   'LC81570452014213LGN00',\n",
       "   'LC81360302014162LGN00',\n",
       "   'LC81550082014263LGN00',\n",
       "   'LC80070662014234LGN00',\n",
       "   'LC81310182013108LGN01',\n",
       "   'LC80160502014041LGN00',\n",
       "   'LC82290572014141LGN00',\n",
       "   'LC81170272014189LGN00',\n",
       "   'LC81800662014230LGN00',\n",
       "   'LC81220312014208LGN00',\n",
       "   'LC81490432014141LGN00',\n",
       "   'LC80290372013257LGN00',\n",
       "   'LC81750512013208LGN00',\n",
       "   'LC81220422014096LGN00',\n",
       "   'LC81510262014139LGN00',\n",
       "   'LC80010732013109LGN00',\n",
       "   'LC80750172013163LGN00',\n",
       "   'LC80350192014190LGN00',\n",
       "   'LC80760182013170LGN00',\n",
       "   'LC81020802014100LGN00',\n",
       "   'LC81600462013215LGN00',\n",
       "   'LC80841202014309LGN00',\n",
       "   'LC82271192014287LGN00',\n",
       "   'LC80060102014147LGN00',\n",
       "   'LC82171112014297LGN00',\n",
       "   'LC80250022014232LGN00',\n",
       "   'LC82320072014226LGN00',\n",
       "   'LC80410372013357LGN00',\n",
       "   'LC81770262013254LGN00',\n",
       "   'LC80460282014171LGN00',\n",
       "   'LC81620432014072LGN00',\n",
       "   'LC80170312013157LGN00',\n",
       "   'LC81920192013103LGN01',\n",
       "   'LC80180082014215LGN00',\n",
       "   'LC81130632014241LGN00',\n",
       "   'LC80430122014214LGN00',\n",
       "   'LC82150712013152LGN00',\n",
       "   'LC80120552013202LGN00',\n",
       "   'LC81240462014238LGN00',\n",
       "   'LC80340192014167LGN00',\n",
       "   'LC81030162014107LGN00',\n",
       "   'LC80310202013223LGN00',\n",
       "   'LC81080182014238LGN00',\n",
       "   'LC81080162013171LGN00',\n",
       "   'LC81020152014036LGN00'],\n",
       "  ['LC80530022014156LGN00',\n",
       "   'LC81750432013144LGN00',\n",
       "   'LC81390292014135LGN00',\n",
       "   'LC81990402014267LGN00',\n",
       "   'LC80500092014231LGN00',\n",
       "   'LC81930452013126LGN01',\n",
       "   'LC80200462014005LGN00',\n",
       "   'LC81750622013304LGN00',\n",
       "   'LC80500172014247LGN00',\n",
       "   'LC81330182013186LGN00',\n",
       "   'LC81720192013331LGN00',\n",
       "   'LC82310592014139LGN00',\n",
       "   'LC81820302014180LGN00',\n",
       "   'LC82020522013141LGN01',\n",
       "   'LC80980712014024LGN00',\n",
       "   'LC81320352013243LGN00',\n",
       "   'LC80290292014132LGN00',\n",
       "   'LC81440462014250LGN00',\n",
       "   'LC80320382013278LGN00',\n",
       "   'LC80980762014216LGN00',\n",
       "   'LC80630152013207LGN00',\n",
       "   'LC81590362014051LGN00',\n",
       "   'LC80670172014206LGN00',\n",
       "   'LC81490122013218LGN00',\n",
       "   'LC80441162013330LGN00',\n",
       "   'LC81001082014022LGN00',\n",
       "   'LC80211222013361LGN00',\n",
       "   'LC81321192014054LGN00',\n",
       "   'LC80010112014080LGN00',\n",
       "   'LC82001192013335LGN00',\n",
       "   'LC80640452014041LGN00',\n",
       "   'LC81660432014020LGN00',\n",
       "   'LC80150312014226LGN00',\n",
       "   'LC81970242013218LGN00',\n",
       "   'LC81180382014244LGN00',\n",
       "   'LC81940222013245LGN00',\n",
       "   'LC80210072014236LGN00',\n",
       "   'LC81910182013240LGN00',\n",
       "   'LC80650182013237LGN00',\n",
       "   'LC81620582014104LGN00',\n",
       "   'LC81040622014066LGN00',\n",
       "   'LC81660032014196LGN00',\n",
       "   'LC81460162014168LGN00',\n",
       "   'LC81580172013201LGN00',\n",
       "   'LC81010142014189LGN00',\n",
       "   'LC81750732014035LGN00',\n",
       "   'LC81070152013260LGN00',\n",
       "   'LC81500152013225LGN00']]}"
      ]
     },
     "execution_count": 4,
     "metadata": {},
     "output_type": "execute_result"
    }
   ],
   "source": [
    "params.__dict__"
   ]
  },
  {
   "cell_type": "code",
   "execution_count": 3,
   "metadata": {},
   "outputs": [
    {
     "name": "stderr",
     "output_type": "stream",
     "text": [
      "2024-04-08 19:11:51.803153: I external/local_xla/xla/stream_executor/cuda/cuda_executor.cc:901] successful NUMA node read from SysFS had negative value (-1), but there must be at least one NUMA node, so returning NUMA node zero. See more at https://github.com/torvalds/linux/blob/v6.0/Documentation/ABI/testing/sysfs-bus-pci#L344-L355\n",
      "2024-04-08 19:11:51.822611: I external/local_xla/xla/stream_executor/cuda/cuda_executor.cc:901] successful NUMA node read from SysFS had negative value (-1), but there must be at least one NUMA node, so returning NUMA node zero. See more at https://github.com/torvalds/linux/blob/v6.0/Documentation/ABI/testing/sysfs-bus-pci#L344-L355\n",
      "2024-04-08 19:11:51.822707: I external/local_xla/xla/stream_executor/cuda/cuda_executor.cc:901] successful NUMA node read from SysFS had negative value (-1), but there must be at least one NUMA node, so returning NUMA node zero. See more at https://github.com/torvalds/linux/blob/v6.0/Documentation/ABI/testing/sysfs-bus-pci#L344-L355\n",
      "2024-04-08 19:11:51.823870: I external/local_xla/xla/stream_executor/cuda/cuda_executor.cc:901] successful NUMA node read from SysFS had negative value (-1), but there must be at least one NUMA node, so returning NUMA node zero. See more at https://github.com/torvalds/linux/blob/v6.0/Documentation/ABI/testing/sysfs-bus-pci#L344-L355\n",
      "2024-04-08 19:11:51.823944: I external/local_xla/xla/stream_executor/cuda/cuda_executor.cc:901] successful NUMA node read from SysFS had negative value (-1), but there must be at least one NUMA node, so returning NUMA node zero. See more at https://github.com/torvalds/linux/blob/v6.0/Documentation/ABI/testing/sysfs-bus-pci#L344-L355\n",
      "2024-04-08 19:11:51.823989: I external/local_xla/xla/stream_executor/cuda/cuda_executor.cc:901] successful NUMA node read from SysFS had negative value (-1), but there must be at least one NUMA node, so returning NUMA node zero. See more at https://github.com/torvalds/linux/blob/v6.0/Documentation/ABI/testing/sysfs-bus-pci#L344-L355\n",
      "2024-04-08 19:11:51.865709: I external/local_xla/xla/stream_executor/cuda/cuda_executor.cc:901] successful NUMA node read from SysFS had negative value (-1), but there must be at least one NUMA node, so returning NUMA node zero. See more at https://github.com/torvalds/linux/blob/v6.0/Documentation/ABI/testing/sysfs-bus-pci#L344-L355\n",
      "2024-04-08 19:11:51.865791: I external/local_xla/xla/stream_executor/cuda/cuda_executor.cc:901] successful NUMA node read from SysFS had negative value (-1), but there must be at least one NUMA node, so returning NUMA node zero. See more at https://github.com/torvalds/linux/blob/v6.0/Documentation/ABI/testing/sysfs-bus-pci#L344-L355\n",
      "2024-04-08 19:11:51.865845: I external/local_xla/xla/stream_executor/cuda/cuda_executor.cc:901] successful NUMA node read from SysFS had negative value (-1), but there must be at least one NUMA node, so returning NUMA node zero. See more at https://github.com/torvalds/linux/blob/v6.0/Documentation/ABI/testing/sysfs-bus-pci#L344-L355\n",
      "2024-04-08 19:11:51.865882: I tensorflow/core/common_runtime/gpu/gpu_device.cc:1929] Created device /job:localhost/replica:0/task:0/device:GPU:0 with 13643 MB memory:  -> device: 0, name: NVIDIA GeForce RTX 4080, pci bus id: 0000:01:00.0, compute capability: 8.9\n"
     ]
    },
    {
     "name": "stdout",
     "output_type": "stream",
     "text": [
      "No weights found\n"
     ]
    },
    {
     "data": {
      "text/plain": [
       "{'seed': 1,\n",
       " 'params': <srcv2_2.models.params.HParams at 0x7b9ac9566110>,\n",
       " 'training_params': None,\n",
       " 'n_cls': 3,\n",
       " 'n_bands': 7}"
      ]
     },
     "execution_count": 3,
     "metadata": {},
     "output_type": "execute_result"
    }
   ],
   "source": [
    "# training local (notebook) model\n",
    "local_model = UnetV2(params)\n",
    "local_model.get_config()"
   ]
  },
  {
   "cell_type": "code",
   "execution_count": 4,
   "metadata": {},
   "outputs": [
    {
     "name": "stderr",
     "output_type": "stream",
     "text": [
      "/home/mxh/anaconda3/envs/tf2+gpu/lib/python3.11/site-packages/keras/src/optimizers/legacy/adam.py:118: UserWarning: The `lr` argument is deprecated, use `learning_rate` instead.\n",
      "  super().__init__(name, **kwargs)\n"
     ]
    },
    {
     "name": "stdout",
     "output_type": "stream",
     "text": [
      "------------------------------------------\n",
      "Start training:\n",
      "Epoch 1/5\n"
     ]
    },
    {
     "name": "stderr",
     "output_type": "stream",
     "text": [
      "2024-04-08 19:11:54.488872: I external/local_xla/xla/stream_executor/cuda/cuda_dnn.cc:454] Loaded cuDNN version 8800\n"
     ]
    },
    {
     "name": "stdout",
     "output_type": "stream",
     "text": [
      "477/477 [==============================] - 134s 244ms/step - loss: 0.0020 - binary_crossentropy: 0.0020 - jaccard_coef_loss: 0.2817 - jaccard_coef: 0.9904 - jaccard_coef_thresholded: 0.9943 - accuracy: 0.9911 - val_loss: 0.0000e+00 - val_binary_crossentropy: 0.0000e+00 - val_jaccard_coef_loss: 0.0000e+00 - val_jaccard_coef: 1.0000 - val_jaccard_coef_thresholded: 1.0000 - val_accuracy: 1.0000\n",
      "Epoch 2/5\n",
      "477/477 [==============================] - 112s 233ms/step - loss: 0.0000e+00 - binary_crossentropy: 0.0000e+00 - jaccard_coef_loss: 0.0000e+00 - jaccard_coef: 1.0000 - jaccard_coef_thresholded: 1.0000 - accuracy: 1.0000 - val_loss: 0.0000e+00 - val_binary_crossentropy: 0.0000e+00 - val_jaccard_coef_loss: 0.0000e+00 - val_jaccard_coef: 1.0000 - val_jaccard_coef_thresholded: 1.0000 - val_accuracy: 1.0000\n",
      "Epoch 3/5\n",
      "477/477 [==============================] - 115s 241ms/step - loss: 0.0000e+00 - binary_crossentropy: 0.0000e+00 - jaccard_coef_loss: 0.0000e+00 - jaccard_coef: 1.0000 - jaccard_coef_thresholded: 1.0000 - accuracy: 1.0000 - val_loss: 0.0000e+00 - val_binary_crossentropy: 0.0000e+00 - val_jaccard_coef_loss: 0.0000e+00 - val_jaccard_coef: 1.0000 - val_jaccard_coef_thresholded: 1.0000 - val_accuracy: 1.0000\n",
      "Epoch 4/5\n",
      "477/477 [==============================] - 113s 236ms/step - loss: 0.0000e+00 - binary_crossentropy: 0.0000e+00 - jaccard_coef_loss: 0.0000e+00 - jaccard_coef: 1.0000 - jaccard_coef_thresholded: 1.0000 - accuracy: 1.0000 - val_loss: 0.0000e+00 - val_binary_crossentropy: 0.0000e+00 - val_jaccard_coef_loss: 0.0000e+00 - val_jaccard_coef: 1.0000 - val_jaccard_coef_thresholded: 1.0000 - val_accuracy: 1.0000\n",
      "Epoch 5/5\n",
      "477/477 [==============================] - 121s 252ms/step - loss: 0.0000e+00 - binary_crossentropy: 0.0000e+00 - jaccard_coef_loss: 0.0000e+00 - jaccard_coef: 1.0000 - jaccard_coef_thresholded: 1.0000 - accuracy: 1.0000 - val_loss: 0.0000e+00 - val_binary_crossentropy: 0.0000e+00 - val_jaccard_coef_loss: 0.0000e+00 - val_jaccard_coef: 1.0000 - val_jaccard_coef_thresholded: 1.0000 - val_accuracy: 1.0000\n"
     ]
    }
   ],
   "source": [
    "local_model.train()"
   ]
  },
  {
   "cell_type": "code",
   "execution_count": 7,
   "metadata": {},
   "outputs": [
    {
     "data": {
      "text/plain": [
       "'Unet_MODIS__v2_overlap40_cls-cloud-thin-clear'"
      ]
     },
     "execution_count": 7,
     "metadata": {},
     "output_type": "execute_result"
    }
   ],
   "source": [
    "get_model_name(params)"
   ]
  },
  {
   "cell_type": "code",
   "execution_count": 5,
   "metadata": {},
   "outputs": [
    {
     "data": {
      "text/plain": [
       "{'modelNick': 'Unet-MOD09GA',\n",
       " 'modelID': '_v2_overlap40_cls-cloud-thin-clear',\n",
       " 'num_gpus': 1,\n",
       " 'optimizer': 'Adam',\n",
       " 'loss_func': 'binary_crossentropy',\n",
       " 'activation_func': 'relu',\n",
       " 'initialization': 'glorot_uniform',\n",
       " 'use_batch_norm': True,\n",
       " 'dropout_on_last_layer_only': True,\n",
       " 'early_stopping': False,\n",
       " 'reduce_lr': False,\n",
       " 'save_best_only': False,\n",
       " 'use_ensemble_learning': False,\n",
       " 'ensemble_method': 'Bagging',\n",
       " 'learning_rate': 0.001,\n",
       " 'dropout': 0,\n",
       " 'L1reg': 0.0,\n",
       " 'L2reg': 0,\n",
       " 'L1L2reg': 0.0,\n",
       " 'decay': 0,\n",
       " 'batch_norm_momentum': 0.7,\n",
       " 'threshold': 0.5,\n",
       " 'patch_size': 256,\n",
       " 'overlap': 40,\n",
       " 'overlap_train_set': 0,\n",
       " 'batch_size': 40,\n",
       " 'steps_per_epoch': None,\n",
       " 'epochs': 5,\n",
       " 'norm_method': 'enhance_contrast',\n",
       " 'norm_threshold': 3500,\n",
       " 'cls': ['cloud', 'thin', 'clear'],\n",
       " 'collapse_cls': False,\n",
       " 'affine_transformation': True,\n",
       " 'brightness_augmentation': False,\n",
       " 'bands': [1, 2, 3, 4, 5, 6, 7],\n",
       " 'project_path': '/home/mxh/RS-Net/',\n",
       " 'toa_path': 'data/processed/Biome_TOA/',\n",
       " 'data_path': 'data/raw/Biome_dataset/',\n",
       " 'satellite': 'MODIS',\n",
       " 'dataset': 'MOD09GA',\n",
       " 'train_dataset': 'Biome_fmask',\n",
       " 'test_dataset': 'Biome_gt',\n",
       " 'split_dataset': True,\n",
       " 'test_tiles': [['LC80420082013220LGN00',\n",
       "   'LC81640502013179LGN01',\n",
       "   'LC81330312013202LGN00',\n",
       "   'LC81570452014213LGN00',\n",
       "   'LC81360302014162LGN00',\n",
       "   'LC81550082014263LGN00',\n",
       "   'LC80070662014234LGN00',\n",
       "   'LC81310182013108LGN01',\n",
       "   'LC80160502014041LGN00',\n",
       "   'LC82290572014141LGN00',\n",
       "   'LC81170272014189LGN00',\n",
       "   'LC81800662014230LGN00',\n",
       "   'LC81220312014208LGN00',\n",
       "   'LC81490432014141LGN00',\n",
       "   'LC80290372013257LGN00',\n",
       "   'LC81750512013208LGN00',\n",
       "   'LC81220422014096LGN00',\n",
       "   'LC81510262014139LGN00',\n",
       "   'LC80010732013109LGN00',\n",
       "   'LC80750172013163LGN00',\n",
       "   'LC80350192014190LGN00',\n",
       "   'LC80760182013170LGN00',\n",
       "   'LC81020802014100LGN00',\n",
       "   'LC81600462013215LGN00',\n",
       "   'LC80841202014309LGN00',\n",
       "   'LC82271192014287LGN00',\n",
       "   'LC80060102014147LGN00',\n",
       "   'LC82171112014297LGN00',\n",
       "   'LC80250022014232LGN00',\n",
       "   'LC82320072014226LGN00',\n",
       "   'LC80410372013357LGN00',\n",
       "   'LC81770262013254LGN00',\n",
       "   'LC80460282014171LGN00',\n",
       "   'LC81620432014072LGN00',\n",
       "   'LC80170312013157LGN00',\n",
       "   'LC81920192013103LGN01',\n",
       "   'LC80180082014215LGN00',\n",
       "   'LC81130632014241LGN00',\n",
       "   'LC80430122014214LGN00',\n",
       "   'LC82150712013152LGN00',\n",
       "   'LC80120552013202LGN00',\n",
       "   'LC81240462014238LGN00',\n",
       "   'LC80340192014167LGN00',\n",
       "   'LC81030162014107LGN00',\n",
       "   'LC80310202013223LGN00',\n",
       "   'LC81080182014238LGN00',\n",
       "   'LC81080162013171LGN00',\n",
       "   'LC81020152014036LGN00'],\n",
       "  ['LC80530022014156LGN00',\n",
       "   'LC81750432013144LGN00',\n",
       "   'LC81390292014135LGN00',\n",
       "   'LC81990402014267LGN00',\n",
       "   'LC80500092014231LGN00',\n",
       "   'LC81930452013126LGN01',\n",
       "   'LC80200462014005LGN00',\n",
       "   'LC81750622013304LGN00',\n",
       "   'LC80500172014247LGN00',\n",
       "   'LC81330182013186LGN00',\n",
       "   'LC81720192013331LGN00',\n",
       "   'LC82310592014139LGN00',\n",
       "   'LC81820302014180LGN00',\n",
       "   'LC82020522013141LGN01',\n",
       "   'LC80980712014024LGN00',\n",
       "   'LC81320352013243LGN00',\n",
       "   'LC80290292014132LGN00',\n",
       "   'LC81440462014250LGN00',\n",
       "   'LC80320382013278LGN00',\n",
       "   'LC80980762014216LGN00',\n",
       "   'LC80630152013207LGN00',\n",
       "   'LC81590362014051LGN00',\n",
       "   'LC80670172014206LGN00',\n",
       "   'LC81490122013218LGN00',\n",
       "   'LC80441162013330LGN00',\n",
       "   'LC81001082014022LGN00',\n",
       "   'LC80211222013361LGN00',\n",
       "   'LC81321192014054LGN00',\n",
       "   'LC80010112014080LGN00',\n",
       "   'LC82001192013335LGN00',\n",
       "   'LC80640452014041LGN00',\n",
       "   'LC81660432014020LGN00',\n",
       "   'LC80150312014226LGN00',\n",
       "   'LC81970242013218LGN00',\n",
       "   'LC81180382014244LGN00',\n",
       "   'LC81940222013245LGN00',\n",
       "   'LC80210072014236LGN00',\n",
       "   'LC81910182013240LGN00',\n",
       "   'LC80650182013237LGN00',\n",
       "   'LC81620582014104LGN00',\n",
       "   'LC81040622014066LGN00',\n",
       "   'LC81660032014196LGN00',\n",
       "   'LC81460162014168LGN00',\n",
       "   'LC81580172013201LGN00',\n",
       "   'LC81010142014189LGN00',\n",
       "   'LC81750732014035LGN00',\n",
       "   'LC81070152013260LGN00',\n",
       "   'LC81500152013225LGN00']]}"
      ]
     },
     "execution_count": 5,
     "metadata": {},
     "output_type": "execute_result"
    }
   ],
   "source": [
    "# check if training_params are saved\n",
    "local_model.get_config()[\"params\"].__dict__"
   ]
  },
  {
   "cell_type": "code",
   "execution_count": null,
   "metadata": {},
   "outputs": [],
   "source": []
  }
 ],
 "metadata": {
  "kernelspec": {
   "display_name": "tf2+gpu",
   "language": "python",
   "name": "python3"
  },
  "language_info": {
   "codemirror_mode": {
    "name": "ipython",
    "version": 3
   },
   "file_extension": ".py",
   "mimetype": "text/x-python",
   "name": "python",
   "nbconvert_exporter": "python",
   "pygments_lexer": "ipython3",
   "version": "3.11.7"
  }
 },
 "nbformat": 4,
 "nbformat_minor": 2
}
