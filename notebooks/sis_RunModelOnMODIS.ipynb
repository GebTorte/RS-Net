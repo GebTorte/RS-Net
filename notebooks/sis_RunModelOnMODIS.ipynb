{
 "cells": [
  {
   "cell_type": "code",
   "execution_count": 1,
   "metadata": {},
   "outputs": [
    {
     "name": "stderr",
     "output_type": "stream",
     "text": [
      "2024-02-23 14:29:08.932735: I tensorflow/core/util/port.cc:113] oneDNN custom operations are on. You may see slightly different numerical results due to floating-point round-off errors from different computation orders. To turn them off, set the environment variable `TF_ENABLE_ONEDNN_OPTS=0`.\n",
      "2024-02-23 14:29:08.950369: E external/local_xla/xla/stream_executor/cuda/cuda_dnn.cc:9261] Unable to register cuDNN factory: Attempting to register factory for plugin cuDNN when one has already been registered\n",
      "2024-02-23 14:29:08.950384: E external/local_xla/xla/stream_executor/cuda/cuda_fft.cc:607] Unable to register cuFFT factory: Attempting to register factory for plugin cuFFT when one has already been registered\n",
      "2024-02-23 14:29:08.950791: E external/local_xla/xla/stream_executor/cuda/cuda_blas.cc:1515] Unable to register cuBLAS factory: Attempting to register factory for plugin cuBLAS when one has already been registered\n",
      "2024-02-23 14:29:08.953903: I tensorflow/core/platform/cpu_feature_guard.cc:182] This TensorFlow binary is optimized to use available CPU instructions in performance-critical operations.\n",
      "To enable the following instructions: SSE4.1 SSE4.2 AVX AVX2 AVX_VNNI FMA, in other operations, rebuild TensorFlow with the appropriate compiler flags.\n"
     ]
    }
   ],
   "source": [
    "# Use modules from parent directory\n",
    "import os\n",
    "import sys\n",
    "import tifffile as tiff\n",
    "import numpy as np\n",
    "from PIL import Image\n",
    "Image.MAX_IMAGE_PIXELS = 1000000000   \n",
    "from matplotlib import pyplot as plt\n",
    "\n",
    "sys.path.insert(0, '../')\n",
    "%load_ext autoreload\n",
    "%autoreload 2\n",
    "from srcv2_2.models.params import get_params\n",
    "from srcv2_2.models.Unet import Unet, UnetV2\n",
    "from srcv2_2.visualization.make_image_files import visualize_test_data, __visualize_landsat8_tile__\n",
    "from srcv2_2.visualization.visualization_utils import get_predicted_thumbnails \n",
    "from srcv2_2.utils import get_model_name\n",
    "\n",
    "import tensorflow as tf"
   ]
  },
  {
   "cell_type": "markdown",
   "metadata": {},
   "source": [
    "## Load KERAS Model"
   ]
  },
  {
   "cell_type": "code",
   "execution_count": 2,
   "metadata": {},
   "outputs": [],
   "source": [
    "params = get_params('U-net', 'Landsat8')\n",
    "params.cls = ['cloud', 'thin'] # clear, cloud, shadow, snow, water\n",
    "params.project_path = \"/home/mxh/RS-Net/\"\n",
    "activation_func='relu'\n",
    "params.learning_rate =1e-3\n",
    "params.epochs = 5\n",
    "params.threshold = 0.5\n",
    "params.dropout = 0\n",
    "params.L2reg = 0\n",
    "params.decay = 0\n",
    "params.num_gpus = 1\n",
    "params.modelID = \"Test_Local\"\n",
    "params.norm_threshold = 3500\n",
    "\n",
    "#tile = 'all'  # Name of one tile or 'all'\n",
    "#tile = 'L2A_T32UNF_20170803T103019' "
   ]
  },
  {
   "cell_type": "code",
   "execution_count": 3,
   "metadata": {},
   "outputs": [
    {
     "name": "stderr",
     "output_type": "stream",
     "text": [
      "2024-02-23 14:29:12.844409: I external/local_xla/xla/stream_executor/cuda/cuda_executor.cc:901] successful NUMA node read from SysFS had negative value (-1), but there must be at least one NUMA node, so returning NUMA node zero. See more at https://github.com/torvalds/linux/blob/v6.0/Documentation/ABI/testing/sysfs-bus-pci#L344-L355\n",
      "2024-02-23 14:29:12.902516: I external/local_xla/xla/stream_executor/cuda/cuda_executor.cc:901] successful NUMA node read from SysFS had negative value (-1), but there must be at least one NUMA node, so returning NUMA node zero. See more at https://github.com/torvalds/linux/blob/v6.0/Documentation/ABI/testing/sysfs-bus-pci#L344-L355\n",
      "2024-02-23 14:29:12.902601: I external/local_xla/xla/stream_executor/cuda/cuda_executor.cc:901] successful NUMA node read from SysFS had negative value (-1), but there must be at least one NUMA node, so returning NUMA node zero. See more at https://github.com/torvalds/linux/blob/v6.0/Documentation/ABI/testing/sysfs-bus-pci#L344-L355\n",
      "2024-02-23 14:29:12.903788: I external/local_xla/xla/stream_executor/cuda/cuda_executor.cc:901] successful NUMA node read from SysFS had negative value (-1), but there must be at least one NUMA node, so returning NUMA node zero. See more at https://github.com/torvalds/linux/blob/v6.0/Documentation/ABI/testing/sysfs-bus-pci#L344-L355\n",
      "2024-02-23 14:29:12.903855: I external/local_xla/xla/stream_executor/cuda/cuda_executor.cc:901] successful NUMA node read from SysFS had negative value (-1), but there must be at least one NUMA node, so returning NUMA node zero. See more at https://github.com/torvalds/linux/blob/v6.0/Documentation/ABI/testing/sysfs-bus-pci#L344-L355\n",
      "2024-02-23 14:29:12.903897: I external/local_xla/xla/stream_executor/cuda/cuda_executor.cc:901] successful NUMA node read from SysFS had negative value (-1), but there must be at least one NUMA node, so returning NUMA node zero. See more at https://github.com/torvalds/linux/blob/v6.0/Documentation/ABI/testing/sysfs-bus-pci#L344-L355\n",
      "2024-02-23 14:29:12.955017: I external/local_xla/xla/stream_executor/cuda/cuda_executor.cc:901] successful NUMA node read from SysFS had negative value (-1), but there must be at least one NUMA node, so returning NUMA node zero. See more at https://github.com/torvalds/linux/blob/v6.0/Documentation/ABI/testing/sysfs-bus-pci#L344-L355\n",
      "2024-02-23 14:29:12.955209: I external/local_xla/xla/stream_executor/cuda/cuda_executor.cc:901] successful NUMA node read from SysFS had negative value (-1), but there must be at least one NUMA node, so returning NUMA node zero. See more at https://github.com/torvalds/linux/blob/v6.0/Documentation/ABI/testing/sysfs-bus-pci#L344-L355\n",
      "2024-02-23 14:29:12.955264: I external/local_xla/xla/stream_executor/cuda/cuda_executor.cc:901] successful NUMA node read from SysFS had negative value (-1), but there must be at least one NUMA node, so returning NUMA node zero. See more at https://github.com/torvalds/linux/blob/v6.0/Documentation/ABI/testing/sysfs-bus-pci#L344-L355\n",
      "2024-02-23 14:29:12.955381: I tensorflow/core/common_runtime/gpu/gpu_device.cc:1929] Created device /job:localhost/replica:0/task:0/device:GPU:0 with 13401 MB memory:  -> device: 0, name: NVIDIA GeForce RTX 4080, pci bus id: 0000:01:00.0, compute capability: 8.9\n"
     ]
    }
   ],
   "source": [
    "local_loaded_model = tf.keras.saving.load_model(f\"../models/Unet/{get_model_name(params)}.keras\")\n",
    "# weights and funcs will automatically be loaded\n",
    "\n",
    "unet_loaded_local_model = UnetV2(params, model=local_loaded_model)"
   ]
  },
  {
   "cell_type": "markdown",
   "metadata": {},
   "source": [
    "## Load MODIS file(s)"
   ]
  },
  {
   "cell_type": "code",
   "execution_count": 4,
   "metadata": {},
   "outputs": [],
   "source": [
    "modis_path = \"/media/mxh/Volume/SAT-DATA/MODIS_MOD09GA_GERITAFRA_31day_DEC2023/\"\n",
    "day1 = \"MOD09GA.A2023335.h18v04.061.2023340033530.hdf\"\n",
    "\n",
    "from osgeo import gdal"
   ]
  },
  {
   "cell_type": "code",
   "execution_count": 5,
   "metadata": {},
   "outputs": [
    {
     "name": "stderr",
     "output_type": "stream",
     "text": [
      "/home/mxh/anaconda3/envs/tf2+gpu/lib/python3.11/site-packages/osgeo/gdal.py:312: FutureWarning: Neither gdal.UseExceptions() nor gdal.DontUseExceptions() has been explicitly called. In GDAL 4.0, exceptions will be enabled by default.\n",
      "  warnings.warn(\n"
     ]
    }
   ],
   "source": [
    "day1_hdf = gdal.Open(modis_path + day1)\n",
    "day1_subsets = day1_hdf.GetSubDatasets()"
   ]
  },
  {
   "cell_type": "code",
   "execution_count": 6,
   "metadata": {},
   "outputs": [
    {
     "data": {
      "text/plain": [
       "[('HDF4_EOS:EOS_GRID:\"/media/mxh/Volume/SAT-DATA/MODIS_MOD09GA_GERITAFRA_31day_DEC2023/MOD09GA.A2023335.h18v04.061.2023340033530.hdf\":MODIS_Grid_1km_2D:num_observations_1km',\n",
       "  '[1200x1200] num_observations_1km MODIS_Grid_1km_2D (8-bit integer)'),\n",
       " ('HDF4_EOS:EOS_GRID:\"/media/mxh/Volume/SAT-DATA/MODIS_MOD09GA_GERITAFRA_31day_DEC2023/MOD09GA.A2023335.h18v04.061.2023340033530.hdf\":MODIS_Grid_1km_2D:state_1km_1',\n",
       "  '[1200x1200] state_1km_1 MODIS_Grid_1km_2D (16-bit unsigned integer)'),\n",
       " ('HDF4_EOS:EOS_GRID:\"/media/mxh/Volume/SAT-DATA/MODIS_MOD09GA_GERITAFRA_31day_DEC2023/MOD09GA.A2023335.h18v04.061.2023340033530.hdf\":MODIS_Grid_1km_2D:SensorZenith_1',\n",
       "  '[1200x1200] SensorZenith_1 MODIS_Grid_1km_2D (16-bit integer)'),\n",
       " ('HDF4_EOS:EOS_GRID:\"/media/mxh/Volume/SAT-DATA/MODIS_MOD09GA_GERITAFRA_31day_DEC2023/MOD09GA.A2023335.h18v04.061.2023340033530.hdf\":MODIS_Grid_1km_2D:SensorAzimuth_1',\n",
       "  '[1200x1200] SensorAzimuth_1 MODIS_Grid_1km_2D (16-bit integer)'),\n",
       " ('HDF4_EOS:EOS_GRID:\"/media/mxh/Volume/SAT-DATA/MODIS_MOD09GA_GERITAFRA_31day_DEC2023/MOD09GA.A2023335.h18v04.061.2023340033530.hdf\":MODIS_Grid_1km_2D:Range_1',\n",
       "  '[1200x1200] Range_1 MODIS_Grid_1km_2D (16-bit unsigned integer)'),\n",
       " ('HDF4_EOS:EOS_GRID:\"/media/mxh/Volume/SAT-DATA/MODIS_MOD09GA_GERITAFRA_31day_DEC2023/MOD09GA.A2023335.h18v04.061.2023340033530.hdf\":MODIS_Grid_1km_2D:SolarZenith_1',\n",
       "  '[1200x1200] SolarZenith_1 MODIS_Grid_1km_2D (16-bit integer)'),\n",
       " ('HDF4_EOS:EOS_GRID:\"/media/mxh/Volume/SAT-DATA/MODIS_MOD09GA_GERITAFRA_31day_DEC2023/MOD09GA.A2023335.h18v04.061.2023340033530.hdf\":MODIS_Grid_1km_2D:SolarAzimuth_1',\n",
       "  '[1200x1200] SolarAzimuth_1 MODIS_Grid_1km_2D (16-bit integer)'),\n",
       " ('HDF4_EOS:EOS_GRID:\"/media/mxh/Volume/SAT-DATA/MODIS_MOD09GA_GERITAFRA_31day_DEC2023/MOD09GA.A2023335.h18v04.061.2023340033530.hdf\":MODIS_Grid_1km_2D:gflags_1',\n",
       "  '[1200x1200] gflags_1 MODIS_Grid_1km_2D (8-bit unsigned integer)'),\n",
       " ('HDF4_EOS:EOS_GRID:\"/media/mxh/Volume/SAT-DATA/MODIS_MOD09GA_GERITAFRA_31day_DEC2023/MOD09GA.A2023335.h18v04.061.2023340033530.hdf\":MODIS_Grid_1km_2D:orbit_pnt_1',\n",
       "  '[1200x1200] orbit_pnt_1 MODIS_Grid_1km_2D (8-bit integer)'),\n",
       " ('HDF4_EOS:EOS_GRID:\"/media/mxh/Volume/SAT-DATA/MODIS_MOD09GA_GERITAFRA_31day_DEC2023/MOD09GA.A2023335.h18v04.061.2023340033530.hdf\":MODIS_Grid_1km_2D:granule_pnt_1',\n",
       "  '[1200x1200] granule_pnt_1 MODIS_Grid_1km_2D (8-bit unsigned integer)'),\n",
       " ('HDF4_EOS:EOS_GRID:\"/media/mxh/Volume/SAT-DATA/MODIS_MOD09GA_GERITAFRA_31day_DEC2023/MOD09GA.A2023335.h18v04.061.2023340033530.hdf\":MODIS_Grid_500m_2D:num_observations_500m',\n",
       "  '[2400x2400] num_observations_500m MODIS_Grid_500m_2D (8-bit integer)'),\n",
       " ('HDF4_EOS:EOS_GRID:\"/media/mxh/Volume/SAT-DATA/MODIS_MOD09GA_GERITAFRA_31day_DEC2023/MOD09GA.A2023335.h18v04.061.2023340033530.hdf\":MODIS_Grid_500m_2D:sur_refl_b01_1',\n",
       "  '[2400x2400] sur_refl_b01_1 MODIS_Grid_500m_2D (16-bit integer)'),\n",
       " ('HDF4_EOS:EOS_GRID:\"/media/mxh/Volume/SAT-DATA/MODIS_MOD09GA_GERITAFRA_31day_DEC2023/MOD09GA.A2023335.h18v04.061.2023340033530.hdf\":MODIS_Grid_500m_2D:sur_refl_b02_1',\n",
       "  '[2400x2400] sur_refl_b02_1 MODIS_Grid_500m_2D (16-bit integer)'),\n",
       " ('HDF4_EOS:EOS_GRID:\"/media/mxh/Volume/SAT-DATA/MODIS_MOD09GA_GERITAFRA_31day_DEC2023/MOD09GA.A2023335.h18v04.061.2023340033530.hdf\":MODIS_Grid_500m_2D:sur_refl_b03_1',\n",
       "  '[2400x2400] sur_refl_b03_1 MODIS_Grid_500m_2D (16-bit integer)'),\n",
       " ('HDF4_EOS:EOS_GRID:\"/media/mxh/Volume/SAT-DATA/MODIS_MOD09GA_GERITAFRA_31day_DEC2023/MOD09GA.A2023335.h18v04.061.2023340033530.hdf\":MODIS_Grid_500m_2D:sur_refl_b04_1',\n",
       "  '[2400x2400] sur_refl_b04_1 MODIS_Grid_500m_2D (16-bit integer)'),\n",
       " ('HDF4_EOS:EOS_GRID:\"/media/mxh/Volume/SAT-DATA/MODIS_MOD09GA_GERITAFRA_31day_DEC2023/MOD09GA.A2023335.h18v04.061.2023340033530.hdf\":MODIS_Grid_500m_2D:sur_refl_b05_1',\n",
       "  '[2400x2400] sur_refl_b05_1 MODIS_Grid_500m_2D (16-bit integer)'),\n",
       " ('HDF4_EOS:EOS_GRID:\"/media/mxh/Volume/SAT-DATA/MODIS_MOD09GA_GERITAFRA_31day_DEC2023/MOD09GA.A2023335.h18v04.061.2023340033530.hdf\":MODIS_Grid_500m_2D:sur_refl_b06_1',\n",
       "  '[2400x2400] sur_refl_b06_1 MODIS_Grid_500m_2D (16-bit integer)'),\n",
       " ('HDF4_EOS:EOS_GRID:\"/media/mxh/Volume/SAT-DATA/MODIS_MOD09GA_GERITAFRA_31day_DEC2023/MOD09GA.A2023335.h18v04.061.2023340033530.hdf\":MODIS_Grid_500m_2D:sur_refl_b07_1',\n",
       "  '[2400x2400] sur_refl_b07_1 MODIS_Grid_500m_2D (16-bit integer)'),\n",
       " ('HDF4_EOS:EOS_GRID:\"/media/mxh/Volume/SAT-DATA/MODIS_MOD09GA_GERITAFRA_31day_DEC2023/MOD09GA.A2023335.h18v04.061.2023340033530.hdf\":MODIS_Grid_500m_2D:QC_500m_1',\n",
       "  '[2400x2400] QC_500m_1 MODIS_Grid_500m_2D (32-bit unsigned integer)'),\n",
       " ('HDF4_EOS:EOS_GRID:\"/media/mxh/Volume/SAT-DATA/MODIS_MOD09GA_GERITAFRA_31day_DEC2023/MOD09GA.A2023335.h18v04.061.2023340033530.hdf\":MODIS_Grid_500m_2D:obscov_500m_1',\n",
       "  '[2400x2400] obscov_500m_1 MODIS_Grid_500m_2D (8-bit integer)'),\n",
       " ('HDF4_EOS:EOS_GRID:\"/media/mxh/Volume/SAT-DATA/MODIS_MOD09GA_GERITAFRA_31day_DEC2023/MOD09GA.A2023335.h18v04.061.2023340033530.hdf\":MODIS_Grid_500m_2D:iobs_res_1',\n",
       "  '[2400x2400] iobs_res_1 MODIS_Grid_500m_2D (8-bit unsigned integer)'),\n",
       " ('HDF4_EOS:EOS_GRID:\"/media/mxh/Volume/SAT-DATA/MODIS_MOD09GA_GERITAFRA_31day_DEC2023/MOD09GA.A2023335.h18v04.061.2023340033530.hdf\":MODIS_Grid_500m_2D:q_scan_1',\n",
       "  '[2400x2400] q_scan_1 MODIS_Grid_500m_2D (8-bit unsigned integer)')]"
      ]
     },
     "execution_count": 6,
     "metadata": {},
     "output_type": "execute_result"
    }
   ],
   "source": [
    "day1_subsets"
   ]
  },
  {
   "cell_type": "code",
   "execution_count": 7,
   "metadata": {},
   "outputs": [],
   "source": [
    "day1_state_1km = gdal.Open('HDF4_EOS:EOS_GRID:\"/media/mxh/Volume/SAT-DATA/MODIS_MOD09GA_GERITAFRA_31day_DEC2023/MOD09GA.A2023335.h18v04.061.2023340033530.hdf\":MODIS_Grid_1km_2D:state_1km_1')\n",
    "day1_sur_refl_b06 = gdal.Open('HDF4_EOS:EOS_GRID:\"/media/mxh/Volume/SAT-DATA/MODIS_MOD09GA_GERITAFRA_31day_DEC2023/MOD09GA.A2023335.h18v04.061.2023340033530.hdf\":MODIS_Grid_500m_2D:sur_refl_b06_1')"
   ]
  },
  {
   "cell_type": "code",
   "execution_count": null,
   "metadata": {},
   "outputs": [],
   "source": [
    "# convert to TIFF for Unet input?"
   ]
  },
  {
   "cell_type": "markdown",
   "metadata": {},
   "source": [
    "## Run KERAS Model on MODIS file"
   ]
  },
  {
   "cell_type": "markdown",
   "metadata": {},
   "source": []
  }
 ],
 "metadata": {
  "kernelspec": {
   "display_name": "tensorflow-cuda-env",
   "language": "python",
   "name": "python3"
  },
  "language_info": {
   "codemirror_mode": {
    "name": "ipython",
    "version": 3
   },
   "file_extension": ".py",
   "mimetype": "text/x-python",
   "name": "python",
   "nbconvert_exporter": "python",
   "pygments_lexer": "ipython3",
   "version": "3.11.7"
  }
 },
 "nbformat": 4,
 "nbformat_minor": 2
}
