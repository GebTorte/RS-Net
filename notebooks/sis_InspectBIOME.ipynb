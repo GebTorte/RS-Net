{
 "cells": [
  {
   "cell_type": "code",
   "execution_count": 2,
   "metadata": {},
   "outputs": [],
   "source": [
    "import tifffile"
   ]
  },
  {
   "cell_type": "code",
   "execution_count": 4,
   "metadata": {},
   "outputs": [],
   "source": [
    "img  = tifffile.imread(\"/home/mxh/RS-Net/notebooks/unzipped/Barren/BC/LC80420082013220LGN00/LC80420082013220LGN00_fixedmask.TIF\")"
   ]
  },
  {
   "cell_type": "code",
   "execution_count": 12,
   "metadata": {},
   "outputs": [],
   "source": [
    "biome_cls = [0, 64, 128, 192, 255]"
   ]
  },
  {
   "cell_type": "code",
   "execution_count": 14,
   "metadata": {},
   "outputs": [
    {
     "name": "stdout",
     "output_type": "stream",
     "text": [
      "Biome cls 0, number:  0\n",
      "Biome cls 64, number:  0\n",
      "Biome cls 128, number:  5358711040\n",
      "Biome cls 192, number:  0\n",
      "Biome cls 255, number:  0\n"
     ]
    }
   ],
   "source": [
    "for i in biome_cls:\n",
    "    print(f\"Biome cls {i}, number: \", img[img==i].sum())"
   ]
  },
  {
   "cell_type": "code",
   "execution_count": null,
   "metadata": {},
   "outputs": [],
   "source": []
  }
 ],
 "metadata": {
  "kernelspec": {
   "display_name": "eo-rs",
   "language": "python",
   "name": "python3"
  },
  "language_info": {
   "codemirror_mode": {
    "name": "ipython",
    "version": 3
   },
   "file_extension": ".py",
   "mimetype": "text/x-python",
   "name": "python",
   "nbconvert_exporter": "python",
   "pygments_lexer": "ipython3",
   "version": "3.11.9"
  }
 },
 "nbformat": 4,
 "nbformat_minor": 2
}
