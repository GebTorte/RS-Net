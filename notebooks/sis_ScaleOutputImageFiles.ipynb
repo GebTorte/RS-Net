{
 "cells": [
  {
   "cell_type": "code",
   "execution_count": 5,
   "metadata": {},
   "outputs": [],
   "source": [
    "import skimage\n",
    "from skimage import io, transform\n",
    "import os\n",
    "import tifffile\n",
    "import matplotlib.pyplot as plt\n",
    "import numpy as np"
   ]
  },
  {
   "cell_type": "code",
   "execution_count": 6,
   "metadata": {},
   "outputs": [],
   "source": [
    "modis_tower_path = \"/home/mxh/MODIS_MOD09GA_GERITAFRA_31day_DEC2023/\"\n",
    "modis_volume_path=\"/media/mxh/Volume/SAT-DATA/MODIS_MOD09GA_GERITAFRA_31day_DEC2023/\"\n",
    "\n",
    "# normal imgs\n",
    "fedora_path = \"/home/sisa/sat-data/MODIS_MOD09GA_GERITAFRA_31day_DEC2023/\"\n",
    "extern_path = \"/mnt/f/Bachelorarbeit/sat-data/modis/MODIS_MOD09GA_GERITAFRA_31day_DEC2023/MOD_RGB_corrected_15percent/\"\n",
    "\n",
    "# predictions\n",
    "extern_prediction_path = \"/mnt/f/Bachelorarbeit/sat-data/modis/MODIS_DEC2023_Predictions_Binary/\"\n",
    "\n",
    "# experiments\n",
    "modis_exp2_tower_path = modis_tower_path + \"experiment2/\"\n",
    "\n",
    "path = modis_exp2_tower_path"
   ]
  },
  {
   "cell_type": "markdown",
   "metadata": {},
   "source": [
    "## do for all in directory"
   ]
  },
  {
   "cell_type": "code",
   "execution_count": 7,
   "metadata": {},
   "outputs": [],
   "source": [
    "mod_dir = os.listdir(path)"
   ]
  },
  {
   "cell_type": "code",
   "execution_count": 8,
   "metadata": {},
   "outputs": [
    {
     "name": "stdout",
     "output_type": "stream",
     "text": [
      "exp_5_mod-hdf_ql-mod_days-7-20_stats.txt\n",
      "exp_5_mod-hdf_ql-mod_days-7-20_interpolated_MOD09GA.A2023353.h18v04.061.2023355063849.tif\n",
      "exp_6_mod-hdf_ql-mod_days-7-20_interpolated_MOD09GA.A2023341.h18v04.061.2023343024753.png\n",
      "exp_6.1_mod-hdf_ql-mod_days-7-20_interpolated_MOD09GA.A2023344.h18v04.061.2023346030519_rgb_scaled_tc_0.15.png\n",
      "exp_6_mod-hdf_ql-mod_days-7-20_interpolated_MOD09GA.A2023346.h18v04.061.2023348030312.png\n",
      "exp_6_mod-hdf_ql-mod_days-7-20_interpolated_MOD09GA.A2023347.h18v04.061.2023349025736.tif\n",
      "exp_6.1_mod-hdf_ql-mod_days-7-20_interpolated_MOD09GA.A2023344.h18v04.061.2023346030519.tif\n",
      "exp_5_mod-hdf_ql-mod_days-7-20_interpolated_MOD09GA.A2023352.h18v04.061.2023354042819.tif\n",
      "ps_exp_6.1_mod-hdf_ql-mod_days-7-20_interpolated_MOD09GA.A2023349.h18v04.061.2023351023935.tif\n",
      "exp_6.1_mod-hdf_ql-mod_days-7-20_interpolated_MOD09GA.A2023341.h18v04.061.2023343024753_rgb_scaled_tc_0.15.png\n",
      "exp_6.1_mod-hdf_ql-mod_days-7-20_interpolated_MOD09GA.A2023343.h18v04.061.2023345024918.tif\n",
      "exp_5_mod-hdf_ql-mod_days-7-20_interpolated_MOD09GA.A2023344.h18v04.061.2023346030519.tif\n",
      "exp_6_mod-hdf_ql-mod_days-7-20_interpolated_MOD09GA.A2023343.h18v04.061.2023345024918.tif\n",
      "opts5.txt\n",
      "exp_6_mod-hdf_ql-mod_days-7-20_interpolated_MOD09GA.A2023345.h18v04.061.2023347025532.png\n",
      "exp_6_mod-hdf_ql-mod_days-7-20_interpolated_MOD09GA.A2023353.h18v04.061.2023355063849_rgb_scaled_tc_0.15.png\n",
      "exp_5_mod-hdf_ql-mod_days-7-20_interpolated_MOD09GA.A2023348.h18v04.061.2023350024202.tif\n",
      "exp_5_mod-hdf_ql-mod_days-7-20_interpolated_MOD09GA.A2023346.h18v04.061.2023348030312.tif\n",
      "exp_6_mod-hdf_ql-mod_days-7-20_interpolated_MOD09GA.A2023342.h18v04.061.2023344024915.png\n",
      "opts6.txt\n",
      "opts4.txt\n",
      "exp_6.1_mod-hdf_ql-mod_days-7-20_interpolated_MOD09GA.A2023342.h18v04.061.2023344024915_rgb_scaled_tc_0.15.png\n",
      "exp_3_mod-tiff_ql-img_days-7-20_interpolated_MOD09GA.A2023353.h18v04.061.2023355063849_merged_2400.tif\n",
      "exp_6.1_mod-hdf_ql-mod_days-7-20_interpolated_MOD09GA.A2023350.h18v04.061.2023352030330_rgb_scaled_tc_0.15.png\n",
      "exp_6_mod-hdf_ql-mod_days-7-20_interpolated_MOD09GA.A2023348.h18v04.061.2023350024202_rgb_scaled_tc_0.15.png\n",
      "exp_4_mod-tiff_ql-mod_days-7-20_interpolated_MOD09GA.A2023351.h18v04.061.2023353030525_merged_2400.tif\n",
      "exp_6.1_mod-hdf_ql-mod_days-7-20_interpolated_MOD09GA.A2023352.h18v04.061.2023354042819_rgb_scaled_tc_0.15.png\n",
      "exp_6.1_mod-hdf_ql-mod_days-7-20_interpolated_MOD09GA.A2023351.h18v04.061.2023353030525.tif\n",
      "exp_5_mod-hdf_ql-mod_days-7-20_interpolated_MOD09GA.A2023341.h18v04.061.2023343024753.tif\n",
      "exp_6_mod-hdf_ql-mod_days-7-20_interpolated_MOD09GA.A2023350.h18v04.061.2023352030330_rgb_scaled_tc_0.15.png\n",
      "exp_3_mod-tiff_ql-img_days-7-20_interpolated_MOD09GA.A2023345.h18v04.061.2023347025532_merged_2400.tif\n",
      "exp_6.1_mod-hdf_ql-mod_days-7-20_interpolated_MOD09GA.A2023347.h18v04.061.2023349025736_rgb_scaled_tc_0.15.png\n",
      "exp_4_mod-tiff_ql-mod_days-7-20_interpolated_MOD09GA.A2023343.h18v04.061.2023345024918_merged_2400.tif\n",
      "ps_exp_6.1_mod-hdf_ql-mod_days-7-20_interpolated_MOD09GA.A2023350.h18v04.061.2023352030330.tif\n",
      "exp_5_mod-hdf_ql-mod_days-7-20_interpolated_MOD09GA.A2023349.h18v04.061.2023351023935.tif\n",
      "exp_6.1_mod-hdf_ql-mod_days-7-20_interpolated_MOD09GA.A2023344.h18v04.061.2023346030519.png\n",
      "ps_exp_6.1_mod-hdf_ql-mod_days-7-20_interpolated_MOD09GA.A2023346.h18v04.061.2023348030312.tif\n",
      "exp_6.1_mod-hdf_ql-mod_days-7-20_interpolated_MOD09GA.A2023349.h18v04.061.2023351023935_rgb_scaled_tc_0.15.png\n",
      "exp_3_mod-tiff_ql-img_days-7-20_interpolated_MOD09GA.A2023348.h18v04.061.2023350024202_merged_2400.tif\n",
      "exp_5_mod-hdf_ql-mod_days-7-20_interpolated_MOD09GA.A2023343.h18v04.061.2023345024918.tif\n",
      "exp_3_mod-tiff_ql-img_days-7-20_interpolated_MOD09GA.A2023349.h18v04.061.2023351023935_merged_2400.tif\n",
      "exp_6.1_mod-hdf_ql-mod_days-7-20_interpolated_MOD09GA.A2023352.h18v04.061.2023354042819.png\n",
      "exp_6_mod-hdf_ql-mod_days-7-20_interpolated_MOD09GA.A2023350.h18v04.061.2023352030330.tif\n",
      "exp_6_mod-hdf_ql-mod_days-7-20_interpolated_MOD09GA.A2023352.h18v04.061.2023354042819_rgb_scaled_tc_0.15.png\n",
      "exp_6.1_mod-hdf_ql-mod_days-7-20_interpolated_MOD09GA.A2023343.h18v04.061.2023345024918_rgb_scaled_tc_0.15.png\n",
      "exp_3_mod-tiff_ql-img_days-7-20_interpolated_MOD09GA.A2023347.h18v04.061.2023349025736_merged_2400.tif\n",
      "exp_6_mod-hdf_ql-mod_days-7-20_interpolated_MOD09GA.A2023352.h18v04.061.2023354042819.tif\n",
      "exp_4_mod-tiff_ql-mod_days-7-20_interpolated_MOD09GA.A2023352.h18v04.061.2023354042819_merged_2400.tif\n",
      "exp_5_mod-hdf_ql-mod_days-7-20_interpolated_MOD09GA.A2023347.h18v04.061.2023349025736.tif\n",
      "ps_exp_6.1_mod-hdf_ql-mod_days-7-20_interpolated_MOD09GA.A2023353.h18v04.061.2023355063849.tif\n",
      "exp_6.1_mod-hdf_ql-mod_days-7-20_interpolated_MOD09GA.A2023346.h18v04.061.2023348030312.tif\n",
      "exp_6.1_mod-hdf_ql-mod_days-7-20_interpolated_MOD09GA.A2023347.h18v04.061.2023349025736.png\n",
      "ps_exp_6.1_mod-hdf_ql-mod_days-7-20_interpolated_MOD09GA.A2023341.h18v04.061.2023343024753.tif\n",
      "exp_4_mod-tiff_ql-mod_days-7-20_interpolated_MOD09GA.A2023342.h18v04.061.2023344024915_merged_2400.tif\n",
      "exp_3_mod-tiff_ql-img_days-7-20_interpolated_MOD09GA.A2023352.h18v04.061.2023354042819_merged_2400.tif\n",
      "exp_6.1_mod-hdf_ql-mod_days-7-20_interpolated_MOD09GA.A2023350.h18v04.061.2023352030330.png\n",
      "exp_3_mod-tiff_ql-img_days-7-20_stats.txt\n",
      "exp_6_mod-hdf_ql-mod_days-7-20_interpolated_MOD09GA.A2023351.h18v04.061.2023353030525.tif\n",
      "exp_6.1_mod-hdf_ql-mod_days-7-20_interpolated_MOD09GA.A2023348.h18v04.061.2023350024202.png\n",
      "exp_6_mod-hdf_ql-mod_days-7-20_interpolated_MOD09GA.A2023353.h18v04.061.2023355063849.tif\n",
      "exp_6_mod-hdf_ql-mod_days-7-20_interpolated_MOD09GA.A2023346.h18v04.061.2023348030312.tif\n",
      "exp_4_mod-tiff_ql-mod_days-7-20_interpolated_MOD09GA.A2023344.h18v04.061.2023346030519_merged_2400.tif\n",
      "exp_6_mod-hdf_ql-mod_days-7-20_interpolated_MOD09GA.A2023346.h18v04.061.2023348030312_rgb_scaled_tc_0.15.png\n",
      "exp_4_mod-tiff_ql-mod_days-7-20_interpolated_MOD09GA.A2023350.h18v04.061.2023352030330_merged_2400.tif\n",
      "exp_3_mod-tiff_ql-img_days-7-20_interpolated_MOD09GA.A2023343.h18v04.061.2023345024918_merged_2400.tif\n",
      "ps_exp_6.1_mod-hdf_ql-mod_days-7-20_interpolated_MOD09GA.A2023351.h18v04.061.2023353030525.tif\n",
      "exp_6_mod-hdf_ql-mod_days-7-20_interpolated_MOD09GA.A2023345.h18v04.061.2023347025532.tif\n",
      "exp_6_mod-hdf_ql-mod_days-7-20_interpolated_MOD09GA.A2023341.h18v04.061.2023343024753.tif\n",
      "exp_6_mod-hdf_ql-mod_days-7-20_interpolated_MOD09GA.A2023341.h18v04.061.2023343024753_rgb_scaled_tc_0.15.png\n",
      "exp_6_mod-hdf_ql-mod_days-7-20_stats.txt\n",
      "exp_6_mod-hdf_ql-mod_days-7-20_interpolated_MOD09GA.A2023344.h18v04.061.2023346030519.tif\n",
      "exp_4_mod-tiff_ql-mod_days-7-20_interpolated_MOD09GA.A2023348.h18v04.061.2023350024202_merged_2400.tif\n",
      "exp_6_mod-hdf_ql-mod_days-7-20_interpolated_MOD09GA.A2023352.h18v04.061.2023354042819.png\n",
      "exp_6_mod-hdf_ql-mod_days-7-20_interpolated_MOD09GA.A2023348.h18v04.061.2023350024202.png\n",
      "exp_6.1_mod-hdf_ql-mod_days-7-20_interpolated_MOD09GA.A2023345.h18v04.061.2023347025532_rgb_scaled_tc_0.15.png\n",
      "exp_6.1_mod-hdf_ql-mod_days-7-20_interpolated_MOD09GA.A2023342.h18v04.061.2023344024915.png\n",
      "ps_exp_6.1_mod-hdf_ql-mod_days-7-20_interpolated_MOD09GA.A2023348.h18v04.061.2023350024202.tif\n",
      "exp_6.1_mod-hdf_ql-mod_days-7-20_interpolated_MOD09GA.A2023345.h18v04.061.2023347025532.png\n",
      "exp_4_mod-tiff_ql-mod_days-7-20_interpolated_MOD09GA.A2023349.h18v04.061.2023351023935_merged_2400.tif\n",
      "exp_3_mod-tiff_ql-img_days-7-20_interpolated_MOD09GA.A2023346.h18v04.061.2023348030312_merged_2400.tif\n",
      "exp_6.1_mod-hdf_ql-mod_days-7-20_interpolated_MOD09GA.A2023346.h18v04.061.2023348030312_rgb_scaled_tc_0.15.png\n",
      "exp_6_mod-hdf_ql-mod_days-7-20_interpolated_MOD09GA.A2023344.h18v04.061.2023346030519_rgb_scaled_tc_0.15.png\n",
      "exp_6.1_mod-hdf_ql-mod_days-7-20_interpolated_MOD09GA.A2023349.h18v04.061.2023351023935.tif\n",
      "exp_6.1_mod-hdf_ql-mod_days-7-20_interpolated_MOD09GA.A2023347.h18v04.061.2023349025736.tif\n",
      "exp_6_mod-hdf_ql-mod_days-7-20_interpolated_MOD09GA.A2023349.h18v04.061.2023351023935.tif\n",
      "exp_4_mod-tiff_ql-mod_days-7-20_interpolated_MOD09GA.A2023347.h18v04.061.2023349025736_merged_2400.tif\n",
      "exp_6.1_mod-hdf_ql-mod_days-7-20_interpolated_MOD09GA.A2023351.h18v04.061.2023353030525.png\n",
      "opts2.txt\n",
      "exp_6.1_mod-hdf_ql-mod_days-7-20_interpolated_MOD09GA.A2023353.h18v04.061.2023355063849.png\n",
      "exp_6.1_mod-hdf_ql-mod_days-7-20_interpolated_MOD09GA.A2023353.h18v04.061.2023355063849.tif\n",
      "exp_6_mod-hdf_ql-mod_days-7-20_interpolated_MOD09GA.A2023345.h18v04.061.2023347025532_rgb_scaled_tc_0.15.png\n",
      "exp_6.1_mod-hdf_ql-mod_days-7-20_stats.txt\n",
      "ps_exp_6.1_mod-hdf_ql-mod_days-7-20_interpolated_MOD09GA.A2023343.h18v04.061.2023345024918.tif\n",
      "exp_6.1_mod-hdf_ql-mod_days-7-20_interpolated_MOD09GA.A2023348.h18v04.061.2023350024202_rgb_scaled_tc_0.15.png\n",
      "exp_6.1_mod-hdf_ql-mod_days-7-20_interpolated_MOD09GA.A2023353.h18v04.061.2023355063849_rgb_scaled_tc_0.15.png\n",
      "exp_4_mod-tiff_ql-mod_days-7-20_interpolated_MOD09GA.A2023346.h18v04.061.2023348030312_merged_2400.tif\n",
      "exp_5_mod-hdf_ql-mod_days-7-20_interpolated_MOD09GA.A2023342.h18v04.061.2023344024915.tif\n",
      "exp_5_mod-hdf_ql-mod_days-7-20_interpolated_MOD09GA.A2023351.h18v04.061.2023353030525.tif\n",
      "exp_4_mod-tiff_ql-mod_days-7-20_interpolated_MOD09GA.A2023353.h18v04.061.2023355063849_merged_2400.tif\n",
      "exp_6.1_mod-hdf_ql-mod_days-7-20_interpolated_MOD09GA.A2023346.h18v04.061.2023348030312.png\n",
      "exp_4_mod-tiff_ql-mod_days-7-20_stats.txt\n",
      "exp_3_mod-tiff_ql-img_days-7-20_interpolated_MOD09GA.A2023351.h18v04.061.2023353030525_merged_2400.tif\n",
      "exp_6_mod-hdf_ql-mod_days-7-20_interpolated_MOD09GA.A2023347.h18v04.061.2023349025736.png\n",
      "exp_3_mod-tiff_ql-img_days-7-20_interpolated_MOD09GA.A2023341.h18v04.061.2023343024753_merged_2400.tif\n",
      "exp_6_mod-hdf_ql-mod_days-7-20_interpolated_MOD09GA.A2023351.h18v04.061.2023353030525_rgb_scaled_tc_0.15.png\n",
      "exp_6_mod-hdf_ql-mod_days-7-20_interpolated_MOD09GA.A2023342.h18v04.061.2023344024915_rgb_scaled_tc_0.15.png\n",
      "exp_6_mod-hdf_ql-mod_days-7-20_interpolated_MOD09GA.A2023342.h18v04.061.2023344024915.tif\n",
      "exp_6.1_mod-hdf_ql-mod_days-7-20_interpolated_MOD09GA.A2023350.h18v04.061.2023352030330.tif\n",
      "exp_6_mod-hdf_ql-mod_days-7-20_interpolated_MOD09GA.A2023344.h18v04.061.2023346030519.png\n",
      "exp_6.1_mod-hdf_ql-mod_days-7-20_interpolated_MOD09GA.A2023348.h18v04.061.2023350024202.tif\n",
      "exp_6.1_mod-hdf_ql-mod_days-7-20_interpolated_MOD09GA.A2023341.h18v04.061.2023343024753.tif\n",
      "exp_6_mod-hdf_ql-mod_days-7-20_interpolated_MOD09GA.A2023349.h18v04.061.2023351023935_rgb_scaled_tc_0.15.png\n",
      "exp_3_mod-tiff_ql-img_days-7-20_interpolated_MOD09GA.A2023350.h18v04.061.2023352030330_merged_2400.tif\n",
      "exp_3_mod-tiff_ql-img_days-7-20_interpolated_MOD09GA.A2023344.h18v04.061.2023346030519_merged_2400.tif\n",
      "exp_6_mod-hdf_ql-mod_days-7-20_interpolated_MOD09GA.A2023348.h18v04.061.2023350024202.tif\n",
      "exp_6.1_mod-hdf_ql-mod_days-7-20_interpolated_MOD09GA.A2023351.h18v04.061.2023353030525_rgb_scaled_tc_0.15.png\n",
      "exp_6_mod-hdf_ql-mod_days-7-20_interpolated_MOD09GA.A2023349.h18v04.061.2023351023935.png\n",
      "exp_6_mod-hdf_ql-mod_days-7-20_interpolated_MOD09GA.A2023350.h18v04.061.2023352030330.png\n",
      "exp_6_mod-hdf_ql-mod_days-7-20_interpolated_MOD09GA.A2023347.h18v04.061.2023349025736_rgb_scaled_tc_0.15.png\n",
      "ps_exp_6.1_mod-hdf_ql-mod_days-7-20_interpolated_MOD09GA.A2023344.h18v04.061.2023346030519.tif\n",
      "ps_exp_6.1_mod-hdf_ql-mod_days-7-20_interpolated_MOD09GA.A2023347.h18v04.061.2023349025736.tif\n",
      "exp_5_mod-hdf_ql-mod_days-7-20_interpolated_MOD09GA.A2023350.h18v04.061.2023352030330.tif\n",
      "exp_6_mod-hdf_ql-mod_days-7-20_interpolated_MOD09GA.A2023351.h18v04.061.2023353030525.png\n",
      "exp_5_mod-hdf_ql-mod_days-7-20_interpolated_MOD09GA.A2023345.h18v04.061.2023347025532.tif\n",
      "exp_3_mod-tiff_ql-img_days-7-20_interpolated_MOD09GA.A2023342.h18v04.061.2023344024915_merged_2400.tif\n",
      "exp_6_mod-hdf_ql-mod_days-7-20_interpolated_MOD09GA.A2023353.h18v04.061.2023355063849.png\n",
      "exp_6_mod-hdf_ql-mod_days-7-20_interpolated_MOD09GA.A2023343.h18v04.061.2023345024918_rgb_scaled_tc_0.15.png\n",
      "exp_6.1_mod-hdf_ql-mod_days-7-20_interpolated_MOD09GA.A2023343.h18v04.061.2023345024918.png\n",
      "exp_6.1_mod-hdf_ql-mod_days-7-20_interpolated_MOD09GA.A2023341.h18v04.061.2023343024753.png\n",
      "exp_4_mod-tiff_ql-mod_days-7-20_interpolated_MOD09GA.A2023341.h18v04.061.2023343024753_merged_2400.tif\n",
      "exp_4_mod-tiff_ql-mod_days-7-20_interpolated_MOD09GA.A2023345.h18v04.061.2023347025532_merged_2400.tif\n",
      "ps_exp_6.1_mod-hdf_ql-mod_days-7-20_interpolated_MOD09GA.A2023352.h18v04.061.2023354042819.tif\n",
      "ps_exp_6.1_mod-hdf_ql-mod_days-7-20_interpolated_MOD09GA.A2023342.h18v04.061.2023344024915.tif\n",
      "exp_6.1_mod-hdf_ql-mod_days-7-20_interpolated_MOD09GA.A2023342.h18v04.061.2023344024915.tif\n",
      "exp_6_mod-hdf_ql-mod_days-7-20_interpolated_MOD09GA.A2023343.h18v04.061.2023345024918.png\n",
      "exp_6.1_mod-hdf_ql-mod_days-7-20_interpolated_MOD09GA.A2023349.h18v04.061.2023351023935.png\n",
      "opts6.1.txt\n",
      "ps_exp_6.1_mod-hdf_ql-mod_days-7-20_interpolated_MOD09GA.A2023345.h18v04.061.2023347025532.tif\n",
      "exp_6.1_mod-hdf_ql-mod_days-7-20_interpolated_MOD09GA.A2023345.h18v04.061.2023347025532.tif\n",
      "exp_6.1_mod-hdf_ql-mod_days-7-20_interpolated_MOD09GA.A2023352.h18v04.061.2023354042819.tif\n"
     ]
    }
   ],
   "source": [
    "for f in mod_dir:\n",
    "    print(f) "
   ]
  },
  {
   "cell_type": "markdown",
   "metadata": {},
   "source": [
    "define size"
   ]
  },
  {
   "cell_type": "code",
   "execution_count": null,
   "metadata": {},
   "outputs": [],
   "source": [
    "# size 1\n",
    "newsize = (240,240,3)"
   ]
  },
  {
   "cell_type": "code",
   "execution_count": 11,
   "metadata": {},
   "outputs": [],
   "source": [
    "# size 2\n",
    "\n",
    "width = length = 480\n",
    "newsize = (width, length)"
   ]
  },
  {
   "cell_type": "markdown",
   "metadata": {},
   "source": [
    "determine images to scale"
   ]
  },
  {
   "cell_type": "code",
   "execution_count": 12,
   "metadata": {},
   "outputs": [],
   "source": [
    "extension  = \".png\" #\".tiff\"\n",
    "file_determinant =\"_rgb_scaled_tc_0.15\" # \"_prediction_bin_mask\""
   ]
  },
  {
   "cell_type": "markdown",
   "metadata": {},
   "source": [
    "is capable of converting [tiff, png] and scaling to png "
   ]
  },
  {
   "cell_type": "code",
   "execution_count": 14,
   "metadata": {},
   "outputs": [
    {
     "ename": "TypeError",
     "evalue": "Cannot handle this data type: (1, 1, 4), <f8",
     "output_type": "error",
     "traceback": [
      "\u001b[0;31m---------------------------------------------------------------------------\u001b[0m",
      "\u001b[0;31mKeyError\u001b[0m                                  Traceback (most recent call last)",
      "File \u001b[0;32m~/anaconda3/envs/eo-rs/lib/python3.11/site-packages/PIL/Image.py:3130\u001b[0m, in \u001b[0;36mfromarray\u001b[0;34m(obj, mode)\u001b[0m\n\u001b[1;32m   3129\u001b[0m \u001b[38;5;28;01mtry\u001b[39;00m:\n\u001b[0;32m-> 3130\u001b[0m     mode, rawmode \u001b[38;5;241m=\u001b[39m \u001b[43m_fromarray_typemap\u001b[49m\u001b[43m[\u001b[49m\u001b[43mtypekey\u001b[49m\u001b[43m]\u001b[49m\n\u001b[1;32m   3131\u001b[0m \u001b[38;5;28;01mexcept\u001b[39;00m \u001b[38;5;167;01mKeyError\u001b[39;00m \u001b[38;5;28;01mas\u001b[39;00m e:\n",
      "\u001b[0;31mKeyError\u001b[0m: ((1, 1, 4), '<f8')",
      "\nThe above exception was the direct cause of the following exception:\n",
      "\u001b[0;31mTypeError\u001b[0m                                 Traceback (most recent call last)",
      "Cell \u001b[0;32mIn[14], line 12\u001b[0m\n\u001b[1;32m      6\u001b[0m new_img \u001b[38;5;241m=\u001b[39m skimage\u001b[38;5;241m.\u001b[39mtransform\u001b[38;5;241m.\u001b[39mresize(img, newsize)\n\u001b[1;32m      7\u001b[0m \u001b[38;5;66;03m# new_img = vectorized_normalize_float_255(new_img, scale=1.0, c_min=0.0, c_max=new_img.max())\u001b[39;00m\n\u001b[1;32m      8\u001b[0m \n\u001b[1;32m      9\u001b[0m \u001b[38;5;66;03m# save as png\u001b[39;00m\n\u001b[1;32m     10\u001b[0m \u001b[38;5;66;03m#plt.imsave(path + img_name + f\"_{width}.png\", new_img)\u001b[39;00m\n\u001b[0;32m---> 12\u001b[0m \u001b[43mskimage\u001b[49m\u001b[38;5;241;43m.\u001b[39;49m\u001b[43mio\u001b[49m\u001b[38;5;241;43m.\u001b[39;49m\u001b[43mimsave\u001b[49m\u001b[43m(\u001b[49m\u001b[43mpath\u001b[49m\u001b[43m \u001b[49m\u001b[38;5;241;43m+\u001b[39;49m\u001b[43m \u001b[49m\u001b[43mimg_name\u001b[49m\u001b[43m \u001b[49m\u001b[38;5;241;43m+\u001b[39;49m\u001b[43m \u001b[49m\u001b[38;5;124;43m\"\u001b[39;49m\u001b[38;5;124;43m_240.png\u001b[39;49m\u001b[38;5;124;43m\"\u001b[39;49m\u001b[43m,\u001b[49m\u001b[43m \u001b[49m\u001b[43mnew_img\u001b[49m\u001b[43m)\u001b[49m\n",
      "File \u001b[0;32m~/anaconda3/envs/eo-rs/lib/python3.11/site-packages/skimage/io/_io.py:153\u001b[0m, in \u001b[0;36mimsave\u001b[0;34m(fname, arr, plugin, check_contrast, **plugin_args)\u001b[0m\n\u001b[1;32m    151\u001b[0m \u001b[38;5;28;01mif\u001b[39;00m check_contrast \u001b[38;5;129;01mand\u001b[39;00m is_low_contrast(arr):\n\u001b[1;32m    152\u001b[0m     warn(\u001b[38;5;124mf\u001b[39m\u001b[38;5;124m'\u001b[39m\u001b[38;5;132;01m{\u001b[39;00mfname\u001b[38;5;132;01m}\u001b[39;00m\u001b[38;5;124m is a low contrast image\u001b[39m\u001b[38;5;124m'\u001b[39m)\n\u001b[0;32m--> 153\u001b[0m \u001b[38;5;28;01mreturn\u001b[39;00m \u001b[43mcall_plugin\u001b[49m\u001b[43m(\u001b[49m\u001b[38;5;124;43m'\u001b[39;49m\u001b[38;5;124;43mimsave\u001b[39;49m\u001b[38;5;124;43m'\u001b[39;49m\u001b[43m,\u001b[49m\u001b[43m \u001b[49m\u001b[43mfname\u001b[49m\u001b[43m,\u001b[49m\u001b[43m \u001b[49m\u001b[43marr\u001b[49m\u001b[43m,\u001b[49m\u001b[43m \u001b[49m\u001b[43mplugin\u001b[49m\u001b[38;5;241;43m=\u001b[39;49m\u001b[43mplugin\u001b[49m\u001b[43m,\u001b[49m\u001b[43m \u001b[49m\u001b[38;5;241;43m*\u001b[39;49m\u001b[38;5;241;43m*\u001b[39;49m\u001b[43mplugin_args\u001b[49m\u001b[43m)\u001b[49m\n",
      "File \u001b[0;32m~/anaconda3/envs/eo-rs/lib/python3.11/site-packages/skimage/io/manage_plugins.py:217\u001b[0m, in \u001b[0;36mcall_plugin\u001b[0;34m(kind, *args, **kwargs)\u001b[0m\n\u001b[1;32m    214\u001b[0m     \u001b[38;5;28;01mexcept\u001b[39;00m \u001b[38;5;167;01mIndexError\u001b[39;00m:\n\u001b[1;32m    215\u001b[0m         \u001b[38;5;28;01mraise\u001b[39;00m \u001b[38;5;167;01mRuntimeError\u001b[39;00m(\u001b[38;5;124mf\u001b[39m\u001b[38;5;124m'\u001b[39m\u001b[38;5;124mCould not find the plugin \u001b[39m\u001b[38;5;124m\"\u001b[39m\u001b[38;5;132;01m{\u001b[39;00mplugin\u001b[38;5;132;01m}\u001b[39;00m\u001b[38;5;124m\"\u001b[39m\u001b[38;5;124m for \u001b[39m\u001b[38;5;132;01m{\u001b[39;00mkind\u001b[38;5;132;01m}\u001b[39;00m\u001b[38;5;124m.\u001b[39m\u001b[38;5;124m'\u001b[39m)\n\u001b[0;32m--> 217\u001b[0m \u001b[38;5;28;01mreturn\u001b[39;00m \u001b[43mfunc\u001b[49m\u001b[43m(\u001b[49m\u001b[38;5;241;43m*\u001b[39;49m\u001b[43margs\u001b[49m\u001b[43m,\u001b[49m\u001b[43m \u001b[49m\u001b[38;5;241;43m*\u001b[39;49m\u001b[38;5;241;43m*\u001b[39;49m\u001b[43mkwargs\u001b[49m\u001b[43m)\u001b[49m\n",
      "File \u001b[0;32m~/anaconda3/envs/eo-rs/lib/python3.11/site-packages/imageio/v3.py:147\u001b[0m, in \u001b[0;36mimwrite\u001b[0;34m(uri, image, plugin, extension, format_hint, **kwargs)\u001b[0m\n\u001b[1;32m    105\u001b[0m \u001b[38;5;250m\u001b[39m\u001b[38;5;124;03m\"\"\"Write an ndimage to the given URI.\u001b[39;00m\n\u001b[1;32m    106\u001b[0m \n\u001b[1;32m    107\u001b[0m \u001b[38;5;124;03mThe exact behavior depends on the file type and plugin used. To learn about\u001b[39;00m\n\u001b[0;32m   (...)\u001b[0m\n\u001b[1;32m    136\u001b[0m \n\u001b[1;32m    137\u001b[0m \u001b[38;5;124;03m\"\"\"\u001b[39;00m\n\u001b[1;32m    139\u001b[0m \u001b[38;5;28;01mwith\u001b[39;00m imopen(\n\u001b[1;32m    140\u001b[0m     uri,\n\u001b[1;32m    141\u001b[0m     \u001b[38;5;124m\"\u001b[39m\u001b[38;5;124mw\u001b[39m\u001b[38;5;124m\"\u001b[39m,\n\u001b[0;32m   (...)\u001b[0m\n\u001b[1;32m    145\u001b[0m     extension\u001b[38;5;241m=\u001b[39mextension,\n\u001b[1;32m    146\u001b[0m ) \u001b[38;5;28;01mas\u001b[39;00m img_file:\n\u001b[0;32m--> 147\u001b[0m     encoded \u001b[38;5;241m=\u001b[39m \u001b[43mimg_file\u001b[49m\u001b[38;5;241;43m.\u001b[39;49m\u001b[43mwrite\u001b[49m\u001b[43m(\u001b[49m\u001b[43mimage\u001b[49m\u001b[43m,\u001b[49m\u001b[43m \u001b[49m\u001b[38;5;241;43m*\u001b[39;49m\u001b[38;5;241;43m*\u001b[39;49m\u001b[43mkwargs\u001b[49m\u001b[43m)\u001b[49m\n\u001b[1;32m    149\u001b[0m \u001b[38;5;28;01mreturn\u001b[39;00m encoded\n",
      "File \u001b[0;32m~/anaconda3/envs/eo-rs/lib/python3.11/site-packages/imageio/plugins/pillow.py:444\u001b[0m, in \u001b[0;36mPillowPlugin.write\u001b[0;34m(self, ndimage, mode, format, is_batch, **kwargs)\u001b[0m\n\u001b[1;32m    441\u001b[0m     ndimage \u001b[38;5;241m=\u001b[39m ndimage[\u001b[38;5;28;01mNone\u001b[39;00m, \u001b[38;5;241m.\u001b[39m\u001b[38;5;241m.\u001b[39m\u001b[38;5;241m.\u001b[39m]\n\u001b[1;32m    443\u001b[0m \u001b[38;5;28;01mfor\u001b[39;00m frame \u001b[38;5;129;01min\u001b[39;00m ndimage:\n\u001b[0;32m--> 444\u001b[0m     pil_frame \u001b[38;5;241m=\u001b[39m \u001b[43mImage\u001b[49m\u001b[38;5;241;43m.\u001b[39;49m\u001b[43mfromarray\u001b[49m\u001b[43m(\u001b[49m\u001b[43mframe\u001b[49m\u001b[43m,\u001b[49m\u001b[43m \u001b[49m\u001b[43mmode\u001b[49m\u001b[38;5;241;43m=\u001b[39;49m\u001b[43mmode\u001b[49m\u001b[43m)\u001b[49m\n\u001b[1;32m    445\u001b[0m     \u001b[38;5;28;01mif\u001b[39;00m \u001b[38;5;124m\"\u001b[39m\u001b[38;5;124mbits\u001b[39m\u001b[38;5;124m\"\u001b[39m \u001b[38;5;129;01min\u001b[39;00m kwargs:\n\u001b[1;32m    446\u001b[0m         pil_frame \u001b[38;5;241m=\u001b[39m pil_frame\u001b[38;5;241m.\u001b[39mquantize(colors\u001b[38;5;241m=\u001b[39m\u001b[38;5;241m2\u001b[39m \u001b[38;5;241m*\u001b[39m\u001b[38;5;241m*\u001b[39m kwargs[\u001b[38;5;124m\"\u001b[39m\u001b[38;5;124mbits\u001b[39m\u001b[38;5;124m\"\u001b[39m])\n",
      "File \u001b[0;32m~/anaconda3/envs/eo-rs/lib/python3.11/site-packages/PIL/Image.py:3134\u001b[0m, in \u001b[0;36mfromarray\u001b[0;34m(obj, mode)\u001b[0m\n\u001b[1;32m   3132\u001b[0m         typekey_shape, typestr \u001b[38;5;241m=\u001b[39m typekey\n\u001b[1;32m   3133\u001b[0m         msg \u001b[38;5;241m=\u001b[39m \u001b[38;5;124mf\u001b[39m\u001b[38;5;124m\"\u001b[39m\u001b[38;5;124mCannot handle this data type: \u001b[39m\u001b[38;5;132;01m{\u001b[39;00mtypekey_shape\u001b[38;5;132;01m}\u001b[39;00m\u001b[38;5;124m, \u001b[39m\u001b[38;5;132;01m{\u001b[39;00mtypestr\u001b[38;5;132;01m}\u001b[39;00m\u001b[38;5;124m\"\u001b[39m\n\u001b[0;32m-> 3134\u001b[0m         \u001b[38;5;28;01mraise\u001b[39;00m \u001b[38;5;167;01mTypeError\u001b[39;00m(msg) \u001b[38;5;28;01mfrom\u001b[39;00m \u001b[38;5;21;01me\u001b[39;00m\n\u001b[1;32m   3135\u001b[0m \u001b[38;5;28;01melse\u001b[39;00m:\n\u001b[1;32m   3136\u001b[0m     rawmode \u001b[38;5;241m=\u001b[39m mode\n",
      "\u001b[0;31mTypeError\u001b[0m: Cannot handle this data type: (1, 1, 4), <f8"
     ]
    }
   ],
   "source": [
    "for f in mod_dir:\n",
    "    if file_determinant + extension == f[-len(file_determinant+extension):]:\n",
    "        img_name = f[:-len(extension)]\n",
    "\n",
    "        img = skimage.io.imread(path + f)\n",
    "        new_img = skimage.transform.resize(img, newsize)\n",
    "        # new_img = vectorized_normalize_float_255(new_img, scale=1.0, c_min=0.0, c_max=new_img.max())\n",
    "\n",
    "        # save as png\n",
    "        plt.imsave(path + img_name + f\"_{width}.png\", new_img)\n",
    "        \n",
    "        #skimage.io.imsave(path + img_name + \"_240.png\", new_img)"
   ]
  },
  {
   "cell_type": "code",
   "execution_count": null,
   "metadata": {},
   "outputs": [],
   "source": []
  },
  {
   "cell_type": "code",
   "execution_count": null,
   "metadata": {},
   "outputs": [],
   "source": []
  },
  {
   "cell_type": "markdown",
   "metadata": {},
   "source": [
    "## do for all in defined days"
   ]
  },
  {
   "cell_type": "code",
   "execution_count": null,
   "metadata": {},
   "outputs": [],
   "source": [
    "# TODO"
   ]
  },
  {
   "cell_type": "code",
   "execution_count": 17,
   "metadata": {},
   "outputs": [],
   "source": [
    "days = {0: \"MOD09GA.A2023335.h18v04.061.2023340033530.hdf\",\n",
    "1: \"MOD09GA.A2023336.h18v04.061.2023338023416.hdf\",\n",
    "2: \"MOD09GA.A2023337.h18v04.061.2023339023523.hdf\",\n",
    "3: \"MOD09GA.A2023338.h18v04.061.2023340034455.hdf\", \n",
    "4: \"MOD09GA.A2023339.h18v04.061.2023341041457.hdf\",\n",
    "5: \"MOD09GA.A2023340.h18v04.061.2023342030232.hdf\",\n",
    "6: \"MOD09GA.A2023341.h18v04.061.2023343024753.hdf\",\n",
    "7: \"MOD09GA.A2023342.h18v04.061.2023344024915.hdf\",\n",
    "8: \"MOD09GA.A2023343.h18v04.061.2023345024918.hdf\"}"
   ]
  },
  {
   "cell_type": "code",
   "execution_count": null,
   "metadata": {},
   "outputs": [],
   "source": [
    "extension = \".hdf\""
   ]
  },
  {
   "cell_type": "code",
   "execution_count": null,
   "metadata": {},
   "outputs": [],
   "source": [
    "for i, f in days.items():\n",
    "    img_name = f[:-len(extension)]\n",
    "\n",
    "    img = skimage.io.imread(path + f)\n",
    "    new_img = skimage.transform.resize(img, newsize)\n",
    "    # new_img = vectorized_normalize_float_255(new_img, scale=1.0, c_min=0.0, c_max=new_img.max())\n",
    "\n",
    "    # save as png\n",
    "    plt.imsave(path + img_name + f\"_{width}.png\", new_img)\n",
    "    \n",
    "    #skimage.io.imsave(path + img_name + \"_240.png\", new_img)"
   ]
  },
  {
   "cell_type": "markdown",
   "metadata": {},
   "source": []
  }
 ],
 "metadata": {
  "kernelspec": {
   "display_name": "sat-imaging",
   "language": "python",
   "name": "python3"
  },
  "language_info": {
   "codemirror_mode": {
    "name": "ipython",
    "version": 3
   },
   "file_extension": ".py",
   "mimetype": "text/x-python",
   "name": "python",
   "nbconvert_exporter": "python",
   "pygments_lexer": "ipython3",
   "version": "3.11.9"
  }
 },
 "nbformat": 4,
 "nbformat_minor": 2
}
