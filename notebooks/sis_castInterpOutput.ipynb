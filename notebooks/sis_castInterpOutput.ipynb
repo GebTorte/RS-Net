{
 "cells": [
  {
   "cell_type": "code",
   "execution_count": 42,
   "metadata": {},
   "outputs": [],
   "source": [
    "import tifffile\n",
    "import numpy as np\n",
    "import os"
   ]
  },
  {
   "cell_type": "markdown",
   "metadata": {},
   "source": [
    "Have to \"cast\" imginterp output to signed Integer, as imgcompare (in it gdal) does not support UInt32..."
   ]
  },
  {
   "cell_type": "code",
   "execution_count": 66,
   "metadata": {},
   "outputs": [],
   "source": [
    "path_exp2 = \"/home/builder/sat-data/modis/MODIS_MOD09GA_GERITAFRA_31day_DEC2023/experiment2/\"\n",
    "modga_path = \"/home/builder/sat-data/modis/MODIS_MOD09GA_GERITAFRA_31day_DEC2023/\"\n",
    "\n",
    "modis_path = modga_path"
   ]
  },
  {
   "cell_type": "code",
   "execution_count": 67,
   "metadata": {},
   "outputs": [],
   "source": [
    "files = os.listdir(modis_path)"
   ]
  },
  {
   "cell_type": "code",
   "execution_count": 88,
   "metadata": {},
   "outputs": [],
   "source": [
    "determinant = \"exp_7.1_\" # \"exp_6.1_\"\n",
    "extension = \".tif\"\n",
    "filter1 = \"ps_\"\n",
    "filter2 = \"_int16\" # already converted stuff"
   ]
  },
  {
   "cell_type": "code",
   "execution_count": 89,
   "metadata": {},
   "outputs": [],
   "source": [
    "exp_files = [f for f in files if determinant in f and filter1 not in f and filter2 not in f and f[-len(extension):] == extension]"
   ]
  },
  {
   "cell_type": "code",
   "execution_count": 90,
   "metadata": {},
   "outputs": [
    {
     "name": "stdout",
     "output_type": "stream",
     "text": [
      "exp_7.1_above_mod-tiff_ql-mod_days-7-20_interpolated_MOD09GA.A2023352.h18v04.061.2023354042819_merged_2400.tif\n",
      "exp_7.1_above_mod-tiff_ql-mod_days-7-20_interpolated_MOD09GA.A2023353.h18v04.061.2023355063849_merged_2400.tif\n",
      "exp_7.1_above_mod-tiff_ql-mod_days-7-20_interpolated_MOD09GA.A2023348.h18v04.061.2023350024202_merged_2400.tif\n",
      "exp_7.1_above_mod-tiff_ql-mod_days-7-20_interpolated_MOD09GA.A2023344.h18v04.061.2023346030519_merged_2400.tif\n",
      "exp_7.1_above_mod-tiff_ql-mod_days-7-20_interpolated_MOD09GA.A2023349.h18v04.061.2023351023935_merged_2400.tif\n",
      "exp_7.1_above_mod-tiff_ql-mod_days-7-20_interpolated_MOD09GA.A2023341.h18v04.061.2023343024753_merged_2400.tif\n",
      "exp_7.1_above_mod-tiff_ql-mod_days-7-20_interpolated_MOD09GA.A2023345.h18v04.061.2023347025532_merged_2400.tif\n",
      "exp_7.1_above_mod-tiff_ql-mod_days-7-20_interpolated_MOD09GA.A2023342.h18v04.061.2023344024915_merged_2400.tif\n",
      "exp_7.1_above_mod-tiff_ql-mod_days-7-20_interpolated_MOD09GA.A2023346.h18v04.061.2023348030312_merged_2400.tif\n",
      "exp_7.1_above_mod-tiff_ql-mod_days-7-20_interpolated_MOD09GA.A2023343.h18v04.061.2023345024918_merged_2400.tif\n",
      "exp_7.1_above_mod-tiff_ql-mod_days-7-20_interpolated_MOD09GA.A2023350.h18v04.061.2023352030330_merged_2400.tif\n",
      "exp_7.1_above_mod-tiff_ql-mod_days-7-20_interpolated_MOD09GA.A2023351.h18v04.061.2023353030525_merged_2400.tif\n",
      "exp_7.1_above_mod-tiff_ql-mod_days-7-20_interpolated_MOD09GA.A2023347.h18v04.061.2023349025736_merged_2400.tif\n"
     ]
    }
   ],
   "source": [
    "for f in exp_files:\n",
    "    print(f)"
   ]
  },
  {
   "cell_type": "code",
   "execution_count": 91,
   "metadata": {},
   "outputs": [],
   "source": [
    "for f in exp_files:\n",
    "    data = tifffile.imread(modis_path + f)\n",
    "    tifffile.imwrite(modis_path + f[:-len(extension)] + \"_int16\" + \".tif\", data)"
   ]
  },
  {
   "cell_type": "code",
   "execution_count": null,
   "metadata": {},
   "outputs": [],
   "source": []
  }
 ],
 "metadata": {
  "kernelspec": {
   "display_name": ".venv",
   "language": "python",
   "name": "python3"
  },
  "language_info": {
   "codemirror_mode": {
    "name": "ipython",
    "version": 3
   },
   "file_extension": ".py",
   "mimetype": "text/x-python",
   "name": "python",
   "nbconvert_exporter": "python",
   "pygments_lexer": "ipython3",
   "version": "3.10.12"
  }
 },
 "nbformat": 4,
 "nbformat_minor": 2
}
