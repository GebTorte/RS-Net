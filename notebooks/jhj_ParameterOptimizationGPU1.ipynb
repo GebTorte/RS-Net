{
 "cells": [
  {
   "cell_type": "code",
   "execution_count": null,
   "metadata": {},
   "outputs": [
    {
     "name": "stderr",
     "output_type": "stream",
     "text": [
      "/home/jhj/anaconda3/envs/CloudDetection/lib/python3.6/site-packages/h5py/__init__.py:34: FutureWarning: Conversion of the second argument of issubdtype from `float` to `np.floating` is deprecated. In future, it will be treated as `np.float64 == np.dtype(float).type`.\n",
      "  from ._conv import register_converters as _register_converters\n",
      "Using TensorFlow backend.\n"
     ]
    },
    {
     "name": "stdout",
     "output_type": "stream",
     "text": [
      "env: CUDA_DEVICE_ORDER=PCI_BUS_ID\n",
      "env: CUDA_VISIBLE_DEVICES=1\n"
     ]
    }
   ],
   "source": [
    "import sys\n",
    "import os\n",
    "import datetime\n",
    "import pandas as pd\n",
    "import seaborn as sns\n",
    "from keras import backend as K\n",
    "from PIL import Image\n",
    "Image.MAX_IMAGE_PIXELS = 1000000000   \n",
    "from matplotlib import pyplot as plt\n",
    "\n",
    "sys.path.insert(0, '../')\n",
    "%load_ext autoreload\n",
    "%autoreload 2\n",
    "from src.models.params import get_params\n",
    "from src.models.model_utils import evaluate_test_set, write_csv_files\n",
    "from src.models.Unet import Unet\n",
    "from src.visualization.make_image_files import visualize_test_data, visualize_landsat8_tile\n",
    "from src.visualization.visualization_utils import get_predicted_thumbnails \n",
    "from src.utils import get_model_name\n",
    "\n",
    "%env CUDA_DEVICE_ORDER=PCI_BUS_ID\n",
    "%env CUDA_VISIBLE_DEVICES=1"
   ]
  },
  {
   "cell_type": "markdown",
   "metadata": {},
   "source": [
    "# Define and run the training loops"
   ]
  },
  {
   "cell_type": "code",
   "execution_count": null,
   "metadata": {
    "scrolled": true
   },
   "outputs": [
    {
     "name": "stdout",
     "output_type": "stream",
     "text": [
      "###########################################\n",
      "# activation_func: swish\n",
      "# loss_function:   binary_crossentropy\n",
      "# optimizer:       Adam\n",
      "###########################################\n",
      "------------------------------------------\n",
      "Always training from scratch at the moment\n",
      "------------------------------------------\n",
      "Start training:\n",
      "Epoch 1/300\n",
      "40/40 [==============================] - 25s 615ms/step - loss: 0.4690 - binary_crossentropy: 0.4690 - jaccard_coef_loss: 5.2791 - jaccard_coef: 0.5014 - jaccard_coef_thresholded: 0.6050 - acc: 0.7848 - val_loss: 1.2790 - val_binary_crossentropy: 1.2790 - val_jaccard_coef_loss: 8.2553 - val_jaccard_coef: 0.3612 - val_jaccard_coef_thresholded: 0.4507 - val_acc: 0.6502\n",
      "Epoch 2/300\n",
      "40/40 [==============================] - 21s 514ms/step - loss: 0.4176 - binary_crossentropy: 0.4176 - jaccard_coef_loss: 4.8583 - jaccard_coef: 0.5053 - jaccard_coef_thresholded: 0.6167 - acc: 0.8108 - val_loss: 1.7095 - val_binary_crossentropy: 1.7095 - val_jaccard_coef_loss: 9.8103 - val_jaccard_coef: 0.4078 - val_jaccard_coef_thresholded: 0.4267 - val_acc: 0.4341\n",
      "Epoch 3/300\n",
      "40/40 [==============================] - 21s 523ms/step - loss: 0.3749 - binary_crossentropy: 0.3749 - jaccard_coef_loss: 4.3268 - jaccard_coef: 0.5826 - jaccard_coef_thresholded: 0.6913 - acc: 0.8321 - val_loss: 1.2603 - val_binary_crossentropy: 1.2603 - val_jaccard_coef_loss: 9.1106 - val_jaccard_coef: 0.4197 - val_jaccard_coef_thresholded: 0.4477 - val_acc: 0.4754\n",
      "Epoch 4/300\n",
      "40/40 [==============================] - 21s 526ms/step - loss: 0.3198 - binary_crossentropy: 0.3198 - jaccard_coef_loss: 3.5297 - jaccard_coef: 0.6364 - jaccard_coef_thresholded: 0.7233 - acc: 0.8590 - val_loss: 1.3936 - val_binary_crossentropy: 1.3936 - val_jaccard_coef_loss: 9.5844 - val_jaccard_coef: 0.3640 - val_jaccard_coef_thresholded: 0.4095 - val_acc: 0.4370\n",
      "Epoch 5/300\n",
      "40/40 [==============================] - 21s 525ms/step - loss: 0.3568 - binary_crossentropy: 0.3568 - jaccard_coef_loss: 3.9802 - jaccard_coef: 0.6146 - jaccard_coef_thresholded: 0.7139 - acc: 0.8442 - val_loss: 1.2739 - val_binary_crossentropy: 1.2739 - val_jaccard_coef_loss: 8.8176 - val_jaccard_coef: 0.3676 - val_jaccard_coef_thresholded: 0.4614 - val_acc: 0.4903\n",
      "Epoch 6/300\n",
      " 4/40 [==>...........................] - ETA: 16s - loss: 0.3655 - binary_crossentropy: 0.3655 - jaccard_coef_loss: 4.2425 - jaccard_coef: 0.5116 - jaccard_coef_thresholded: 0.6854 - acc: 0.8852"
     ]
    }
   ],
   "source": [
    "activation_functions = ['swish', 'relu']\n",
    "loss_functions = ['binary_crossentropy', 'jaccard_coef_loss']\n",
    "optimizers = ['Adam', 'Nadam']\n",
    "dropout_vals = [0, 0.5]\n",
    "epochs = 300\n",
    "num_gpus = 1\n",
    "\n",
    "# Train the models\n",
    "for activation_func in activation_functions:\n",
    "    for loss_function in loss_functions:\n",
    "        for optimizer in optimizers:\n",
    "            for dropout in dropout_vals:\n",
    "                K.clear_session()\n",
    "                params = get_params('U-net', 'Landsat8')\n",
    "                params.modelID = datetime.datetime.now().strftime(\"%y%m%d%H%M%S\")\n",
    "                params.loss_func = loss_function\n",
    "                params.optimizer = optimizer\n",
    "                params.activation_func = activation_func\n",
    "                params.dropout = dropout\n",
    "                params.epochs = epochs\n",
    "                params.brightness_augmentation = False\n",
    "                params.batch_size = 12\n",
    "                params.learning_rate = 2e-2\n",
    "\n",
    "                print('###########################################')\n",
    "                print('# activation_func: ' + activation_func)\n",
    "                print('# loss_function:   ' + loss_function)\n",
    "                print('# optimizer:       ' + optimizer)\n",
    "                print('###########################################')\n",
    "                model = Unet()\n",
    "                model.train(num_gpus, params)\n",
    "                evaluate_test_set(model, num_gpus, params)\n",
    "            "
   ]
  },
  {
   "cell_type": "code",
   "execution_count": null,
   "metadata": {},
   "outputs": [],
   "source": [
    "classes = [['thin', 'cloud']]\n",
    "epochs = 50\n",
    "num_gpus = 1\n",
    "\n",
    "# Train the models\n",
    "for cls in classes:\n",
    "        print('###########################################')\n",
    "        print('# class:   ' + str(cls))\n",
    "        print('###########################################')\n",
    "        params = get_params('U-net', 'Landsat8')\n",
    "        params.batch_size = 12\n",
    "        params.modelID = datetime.datetime.now().strftime(\"%y%m%d%H%M%S\")\n",
    "        params.loss_func = 'binary_crossentropy'\n",
    "        params.optimizer = 'Nadam'\n",
    "        params.activation_func = 'swish'\n",
    "        params.epochs = epochs\n",
    "        params.cls = cls\n",
    "        \n",
    "        model = Unet()\n",
    "        model.train(num_gpus, params)\n",
    "\n",
    "        # Test different threshold values for the trained model (remember timeID is the same for all thresholds)\n",
    "        for threshold in thresholds:            \n",
    "            params.threshold = threshold\n",
    "            avg_jaccard, product_names, product_jaccard = evaluate_test_set(model, num_gpus, params)\n",
    "            write_csv_files(avg_jaccard, product_jaccard, product_names, params) "
   ]
  },
  {
   "cell_type": "markdown",
   "metadata": {},
   "source": [
    "# Investigate the trained models"
   ]
  },
  {
   "cell_type": "code",
   "execution_count": null,
   "metadata": {},
   "outputs": [],
   "source": [
    "params = get_params('U-net', 'Landsat8')\n",
    "df = pd.read_csv(params.project_path + 'reports/Unet/param_optimization.csv' )\n",
    "#df.sort_values('entire_testset', ascending=False).head(40)\n",
    "#df.loc[df['modelID'] == 180201172308]\n",
    "df.loc[df['cls'] == 'shadow']\n"
   ]
  },
  {
   "cell_type": "markdown",
   "metadata": {},
   "source": [
    "# Plot predictions from the desired model"
   ]
  },
  {
   "cell_type": "code",
   "execution_count": null,
   "metadata": {},
   "outputs": [],
   "source": [
    "modelID = '180202154744'\n",
    "num_gpus = 2\n",
    "\n",
    "K.clear_session()\n",
    "model = Unet()\n",
    "params = get_params('U-net', 'Landsat8')\n",
    "params.add_hparam('modelID', modelID)\n",
    "params.activation_func = 'swish'\n",
    "params.cls = ['shadow']\n",
    "visualize_test_data(model, num_gpus, params)"
   ]
  },
  {
   "cell_type": "code",
   "execution_count": null,
   "metadata": {},
   "outputs": [],
   "source": [
    "# Overlay pictures \n",
    "thresholded = True\n",
    "transparency = 200\n",
    "thumbnail_res = 512, 512  # Resolution to be showed\n",
    "area = (1000, 1000, 7000, 7000)  # Area to be cropped in (min_width, min_height, max_width, max_height)\n",
    "params.threshold = 0.1\n",
    "model_name = get_model_name(params)\n",
    "\n",
    "# Plot predictions\n",
    "files = sorted(os.listdir(params.project_path + 'data/output/'))  # os.listdir loads in arbitrary order, hence use sorted()\n",
    "files = [f for f in files if ('thresholded_Unet_Landsat8_' + modelID) in f]  # Filter out one ID for each tile\n",
    "    \n",
    "for i, f in enumerate(files, start=1):\n",
    "    rgb, pred_unet, pred_true = get_predicted_thumbnails(f, thresholded, area, transparency, thumbnail_res, params)\n",
    "\n",
    "    # Plot\n",
    "    plt.figure(figsize=(35, 35))\n",
    "    \n",
    "    plt.subplot(1, 3, 1)\n",
    "    plt.title('RGB for tile: ' + f[0:21])\n",
    "    plt.imshow(rgb)\n",
    "    \n",
    "    plt.subplot(1, 3, 2)\n",
    "    plt.title('Unet for tile: ' + f[0:21])\n",
    "    plt.imshow(pred_unet)\n",
    "    \n",
    "    plt.subplot(1, 3, 3)\n",
    "    plt.title('True for tile: ' + f[0:21])\n",
    "    plt.imshow(pred_true)\n",
    "\n",
    "    plt.show()"
   ]
  },
  {
   "cell_type": "code",
   "execution_count": null,
   "metadata": {},
   "outputs": [],
   "source": []
  }
 ],
 "metadata": {
  "kernelspec": {
   "display_name": "Python [conda env:CloudDetection]",
   "language": "python",
   "name": "conda-env-CloudDetection-py"
  },
  "language_info": {
   "codemirror_mode": {
    "name": "ipython",
    "version": 3
   },
   "file_extension": ".py",
   "mimetype": "text/x-python",
   "name": "python",
   "nbconvert_exporter": "python",
   "pygments_lexer": "ipython3",
   "version": "3.6.3"
  }
 },
 "nbformat": 4,
 "nbformat_minor": 2
}
